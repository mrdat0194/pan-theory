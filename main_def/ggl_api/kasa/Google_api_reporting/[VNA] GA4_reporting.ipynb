{
 "cells": [
  {
   "cell_type": "markdown",
   "id": "75e19822",
   "metadata": {},
   "source": [
    "# Google Analytics 4 (GA4) Data in Pyton Using run_report "
   ]
  },
  {
   "cell_type": "code",
   "execution_count": 1,
   "id": "17f6fed9",
   "metadata": {},
   "outputs": [],
   "source": [
    "import numpy as np\n",
    "import pandas as pd\n",
    "import os\n",
    "from datetime import date, timedelta\n"
   ]
  },
  {
   "cell_type": "code",
   "execution_count": 2,
   "id": "9703bb66",
   "metadata": {},
   "outputs": [],
   "source": [
    "from google.analytics.data_v1beta import BetaAnalyticsDataClient\n",
    "from google.analytics.data_v1beta.types import DateRange\n",
    "from google.analytics.data_v1beta.types import Dimension\n",
    "from google.analytics.data_v1beta.types import Metric\n",
    "from google.analytics.data_v1beta.types import Filter\n",
    "from google.analytics.data_v1beta.types import FilterExpression\n",
    "from google.analytics.data_v1beta.types import FilterExpressionList\n",
    "from google.analytics.data_v1beta.types import RunReportRequest\n",
    "from google.analytics.data_v1beta.types import OrderBy"
   ]
  },
  {
   "cell_type": "code",
   "execution_count": 3,
   "id": "f448ccd4",
   "metadata": {},
   "outputs": [],
   "source": [
    "## Set up global variables\n",
    "\n",
    "os.environ[\"GOOGLE_APPLICATION_CREDENTIALS\"] = 'bubbly-cascade-398303-75988e28019e.json'\n",
    "property_id = '237200408'\n",
    "\n",
    "client = BetaAnalyticsDataClient()"
   ]
  },
  {
   "cell_type": "code",
   "execution_count": 4,
   "id": "7894da13",
   "metadata": {},
   "outputs": [],
   "source": [
    "## Format Report - run_report method\n",
    "def format_report(request):\n",
    "    response = client.run_report(request)\n",
    "    print(response.property_quota)\n",
    "    # Row index\n",
    "    row_index_names = [header.name for header in response.dimension_headers]\n",
    "    row_header = []\n",
    "    for i in range(len(row_index_names)):\n",
    "        row_header.append([row.dimension_values[i].value for row in response.rows])\n",
    "\n",
    "    row_index_named = pd.MultiIndex.from_arrays(np.array(row_header), names = np.array(row_index_names))\n",
    "    # Row flat data\n",
    "    metric_names = [header.name for header in response.metric_headers]\n",
    "    data_values = []\n",
    "    for i in range(len(metric_names)):\n",
    "        data_values.append([row.metric_values[i].value for row in response.rows])\n",
    "\n",
    "    output = pd.DataFrame(data = np.transpose(np.array(data_values, dtype = 'f')), \n",
    "                          index = row_index_named, columns = metric_names)\n",
    "    return output"
   ]
  },
  {
   "cell_type": "code",
   "execution_count": 24,
   "id": "97a6b962-226d-489d-afc2-7a8ca73b5eb4",
   "metadata": {},
   "outputs": [],
   "source": [
    "def format_report1(request):\n",
    "    \"\"\"\n",
    "    Fetches GA4 data, creates a pandas DataFrame, and potentially returns it as a response.\n",
    "    \n",
    "    Args:\n",
    "      request (Any): HTTP request object (unused in this implementation).\n",
    "    \n",
    "    Returns:\n",
    "      pandas.DataFrame: The constructed DataFrame with GA4 data (optional).\n",
    "    \"\"\"\n",
    "    \n",
    "    response = client.run_report(request)\n",
    "    \n",
    "    # Row index names\n",
    "    row_index_names = [header.name for header in response.dimension_headers]\n",
    "    \n",
    "    # Row header (list of lists)\n",
    "    row_header = []\n",
    "    for i in range(len(row_index_names)):\n",
    "        row_header.append([row.dimension_values[i].value for row in response.rows])\n",
    "    \n",
    "    # Create MultiIndex for rows\n",
    "    row_index_named = pd.MultiIndex.from_tuples(zip(*row_header), names=row_index_names)\n",
    "    \n",
    "    # Extract metric names and values\n",
    "    metric_names = [header.name for header in response.metric_headers]\n",
    "    data_values = [[row.metric_values[i].value for row in response.rows] for i in range(len(metric_names))]\n",
    "    \n",
    "    # Create DataFrame with efficient transposition\n",
    "    output = pd.DataFrame(\n",
    "    data=data_values[0],  # Transposition happens automatically\n",
    "    index=row_index_named,\n",
    "    columns=metric_names\n",
    "    \n",
    "    )\n",
    "    \n",
    "    \n",
    "    # Consider potential return based on your Cloud Function's purpose\n",
    "    # If you want to return the DataFrame as the response:\n",
    "    # return output\n",
    "    \n",
    "    # If you have further processing or returning something different:\n",
    "    # ... (your logic here)\n",
    "    # return some_other_data\n",
    "    \n",
    "    return output  # Placeholder for flexible return handling\n"
   ]
  },
  {
   "cell_type": "code",
   "execution_count": 6,
   "id": "e628a14b",
   "metadata": {},
   "outputs": [
    {
     "data": {
      "text/plain": [
       "property: \"properties/237200408\"\n",
       "dimensions {\n",
       "  name: \"customEvent:pnr\"\n",
       "}\n",
       "dimensions {\n",
       "  name: \"customEvent:storage_source\"\n",
       "}\n",
       "dimensions {\n",
       "  name: \"customEvent:full_journey\"\n",
       "}\n",
       "dimensions {\n",
       "  name: \"Date\"\n",
       "}\n",
       "metrics {\n",
       "  name: \"totalRevenue\"\n",
       "}\n",
       "date_ranges {\n",
       "  start_date: \"2024-07-07\"\n",
       "  end_date: \"2024-07-07\"\n",
       "}\n",
       "dimension_filter {\n",
       "  and_group {\n",
       "    expressions {\n",
       "      filter {\n",
       "        field_name: \"customEvent:storage_source\"\n",
       "        string_filter {\n",
       "          match_type: PARTIAL_REGEXP\n",
       "          value: \"skyscanner|Skyscanner|KAYAK\"\n",
       "        }\n",
       "      }\n",
       "    }\n",
       "  }\n",
       "}\n",
       "order_bys {\n",
       "  dimension {\n",
       "    dimension_name: \"Date\"\n",
       "  }\n",
       "}\n",
       "return_property_quota: true"
      ]
     },
     "execution_count": 6,
     "metadata": {},
     "output_type": "execute_result"
    }
   ],
   "source": [
    "# Table 1\n",
    "start_date=date.today() - timedelta(days=2)\n",
    "\n",
    "date_range = DateRange(start_date=start_date.strftime(\"%Y-%m-%d\"), end_date=start_date.strftime(\"%Y-%m-%d\"))\n",
    "\n",
    "request = RunReportRequest(\n",
    "        property='properties/'+property_id,\n",
    "        dimensions=[Dimension(name=\"customEvent:pnr\"),Dimension(name=\"customEvent:storage_source\"),\n",
    "                    Dimension(name=\"customEvent:full_journey\"),Dimension(name=\"Date\")],\n",
    "        metrics=[Metric(name=\"totalRevenue\")],\n",
    "        order_bys = [OrderBy(dimension = {'dimension_name': 'Date'})],\n",
    "        date_ranges=[date_range],\n",
    "        dimension_filter=FilterExpression(\n",
    "                and_group=FilterExpressionList(\n",
    "                    expressions=[\n",
    "                        FilterExpression(\n",
    "                            filter=Filter(\n",
    "                                field_name=\"customEvent:storage_source\",\n",
    "                                string_filter=Filter.StringFilter(match_type=\"PARTIAL_REGEXP\", value=\"skyscanner|Skyscanner|KAYAK\"),\n",
    "                            ),\n",
    "                        )\n",
    "                    ]\n",
    "                )\n",
    "        ),\n",
    "        return_property_quota = True\n",
    "    )\n",
    "\n",
    "request"
   ]
  },
  {
   "cell_type": "code",
   "execution_count": 7,
   "id": "b546af25",
   "metadata": {},
   "outputs": [
    {
     "ename": "NameError",
     "evalue": "name 'format_report1' is not defined",
     "output_type": "error",
     "traceback": [
      "\u001b[1;31m---------------------------------------------------------------------------\u001b[0m",
      "\u001b[1;31mNameError\u001b[0m                                 Traceback (most recent call last)",
      "Cell \u001b[1;32mIn[7], line 1\u001b[0m\n\u001b[1;32m----> 1\u001b[0m format_report1(request)\n",
      "\u001b[1;31mNameError\u001b[0m: name 'format_report1' is not defined"
     ]
    }
   ],
   "source": [
    "format_report1(request)"
   ]
  },
  {
   "cell_type": "code",
   "execution_count": 8,
   "id": "6a6be56f",
   "metadata": {},
   "outputs": [
    {
     "name": "stdout",
     "output_type": "stream",
     "text": [
      "tokens_per_day {\n",
      "  consumed: 1\n",
      "  remaining: 1923509\n",
      "}\n",
      "tokens_per_hour {\n",
      "  consumed: 1\n",
      "  remaining: 252821\n",
      "}\n",
      "concurrent_requests {\n",
      "  consumed: 0\n",
      "  remaining: 50\n",
      "}\n",
      "server_errors_per_project_per_hour {\n",
      "  consumed: 0\n",
      "  remaining: 50\n",
      "}\n",
      "potentially_thresholded_requests_per_hour {\n",
      "  consumed: 0\n",
      "  remaining: 120\n",
      "}\n",
      "tokens_per_project_per_hour {\n",
      "  consumed: 1\n",
      "  remaining: 139989\n",
      "}\n",
      "\n"
     ]
    }
   ],
   "source": [
    "output_df = format_report(request)\n",
    "\n",
    "# ## Export to Excel\n",
    "# output_df.reset_index().to_excel('GA4_python_output.xlsx', sheet_name = 'GA4_report', engine = 'xlsxwriter')"
   ]
  },
  {
   "cell_type": "code",
   "execution_count": 9,
   "id": "6afa5528-2c2d-421b-a802-0f28b16e46ed",
   "metadata": {},
   "outputs": [
    {
     "data": {
      "text/html": [
       "<div>\n",
       "<style scoped>\n",
       "    .dataframe tbody tr th:only-of-type {\n",
       "        vertical-align: middle;\n",
       "    }\n",
       "\n",
       "    .dataframe tbody tr th {\n",
       "        vertical-align: top;\n",
       "    }\n",
       "\n",
       "    .dataframe thead th {\n",
       "        text-align: right;\n",
       "    }\n",
       "</style>\n",
       "<table border=\"1\" class=\"dataframe\">\n",
       "  <thead>\n",
       "    <tr style=\"text-align: right;\">\n",
       "      <th></th>\n",
       "      <th></th>\n",
       "      <th></th>\n",
       "      <th></th>\n",
       "      <th>totalRevenue</th>\n",
       "    </tr>\n",
       "    <tr>\n",
       "      <th>customEvent:pnr</th>\n",
       "      <th>customEvent:storage_source</th>\n",
       "      <th>customEvent:full_journey</th>\n",
       "      <th>Date</th>\n",
       "      <th></th>\n",
       "    </tr>\n",
       "  </thead>\n",
       "  <tbody>\n",
       "    <tr>\n",
       "      <th>5M2UV4</th>\n",
       "      <th>KAYAK</th>\n",
       "      <th>MEL-FRA:FRA-MEL</th>\n",
       "      <th>20240707</th>\n",
       "      <td>1.305394e+08</td>\n",
       "    </tr>\n",
       "    <tr>\n",
       "      <th>5OWKPC</th>\n",
       "      <th>skyscanner</th>\n",
       "      <th>MUC-DAD:DAD-MUC</th>\n",
       "      <th>20240707</th>\n",
       "      <td>1.190332e+08</td>\n",
       "    </tr>\n",
       "    <tr>\n",
       "      <th>5NSZPX</th>\n",
       "      <th>skyscanner</th>\n",
       "      <th>HAN-MUC:MUC-HAN</th>\n",
       "      <th>20240707</th>\n",
       "      <td>1.056922e+08</td>\n",
       "    </tr>\n",
       "    <tr>\n",
       "      <th>5Q36Z6</th>\n",
       "      <th>skyscanner</th>\n",
       "      <th>SEL-NHA:NHA-SEL</th>\n",
       "      <th>20240707</th>\n",
       "      <td>1.007506e+08</td>\n",
       "    </tr>\n",
       "    <tr>\n",
       "      <th>5Q5H32</th>\n",
       "      <th>skyscanner</th>\n",
       "      <th>LON-HAN:HAN-LON</th>\n",
       "      <th>20240707</th>\n",
       "      <td>9.633887e+07</td>\n",
       "    </tr>\n",
       "    <tr>\n",
       "      <th>...</th>\n",
       "      <th>...</th>\n",
       "      <th>...</th>\n",
       "      <th>...</th>\n",
       "      <td>...</td>\n",
       "    </tr>\n",
       "    <tr>\n",
       "      <th>5N74V3</th>\n",
       "      <th>skyscanner</th>\n",
       "      <th>HAN-DAD</th>\n",
       "      <th>20240707</th>\n",
       "      <td>1.222053e+06</td>\n",
       "    </tr>\n",
       "    <tr>\n",
       "      <th>5NGFEQ</th>\n",
       "      <th>skyscanner</th>\n",
       "      <th>HAN-DAD</th>\n",
       "      <th>20240707</th>\n",
       "      <td>1.216000e+06</td>\n",
       "    </tr>\n",
       "    <tr>\n",
       "      <th>5NYB5B</th>\n",
       "      <th>skyscanner</th>\n",
       "      <th>SGN-NHA</th>\n",
       "      <th>20240707</th>\n",
       "      <td>1.207911e+06</td>\n",
       "    </tr>\n",
       "    <tr>\n",
       "      <th>5NYVJA</th>\n",
       "      <th>skyscanner</th>\n",
       "      <th>SGN-DLI</th>\n",
       "      <th>20240707</th>\n",
       "      <td>1.106528e+06</td>\n",
       "    </tr>\n",
       "    <tr>\n",
       "      <th>5OPNTF</th>\n",
       "      <th>skyscanner</th>\n",
       "      <th>NHA-SGN</th>\n",
       "      <th>20240707</th>\n",
       "      <td>1.075335e+06</td>\n",
       "    </tr>\n",
       "  </tbody>\n",
       "</table>\n",
       "<p>226 rows × 1 columns</p>\n",
       "</div>"
      ],
      "text/plain": [
       "                                                                              totalRevenue\n",
       "customEvent:pnr customEvent:storage_source customEvent:full_journey Date                  \n",
       "5M2UV4          KAYAK                      MEL-FRA:FRA-MEL          20240707  1.305394e+08\n",
       "5OWKPC          skyscanner                 MUC-DAD:DAD-MUC          20240707  1.190332e+08\n",
       "5NSZPX          skyscanner                 HAN-MUC:MUC-HAN          20240707  1.056922e+08\n",
       "5Q36Z6          skyscanner                 SEL-NHA:NHA-SEL          20240707  1.007506e+08\n",
       "5Q5H32          skyscanner                 LON-HAN:HAN-LON          20240707  9.633887e+07\n",
       "...                                                                                    ...\n",
       "5N74V3          skyscanner                 HAN-DAD                  20240707  1.222053e+06\n",
       "5NGFEQ          skyscanner                 HAN-DAD                  20240707  1.216000e+06\n",
       "5NYB5B          skyscanner                 SGN-NHA                  20240707  1.207911e+06\n",
       "5NYVJA          skyscanner                 SGN-DLI                  20240707  1.106528e+06\n",
       "5OPNTF          skyscanner                 NHA-SGN                  20240707  1.075335e+06\n",
       "\n",
       "[226 rows x 1 columns]"
      ]
     },
     "execution_count": 9,
     "metadata": {},
     "output_type": "execute_result"
    }
   ],
   "source": [
    "output_df"
   ]
  },
  {
   "cell_type": "code",
   "execution_count": 25,
   "id": "3fe5a418-89da-409c-b30c-a970a70f1eca",
   "metadata": {},
   "outputs": [],
   "source": [
    "output = format_report1(request)"
   ]
  },
  {
   "cell_type": "code",
   "execution_count": 42,
   "id": "5222e34a-5568-4249-99db-14b4184624b7",
   "metadata": {},
   "outputs": [],
   "source": [
    "out = output.reset_index()"
   ]
  },
  {
   "cell_type": "code",
   "execution_count": 52,
   "id": "92bb244f-4671-436b-8335-e151874aeb06",
   "metadata": {},
   "outputs": [],
   "source": [
    "out = out.rename(columns={('', '',''):('pnr','storage_source','full_journey')})"
   ]
  },
  {
   "cell_type": "code",
   "execution_count": 60,
   "id": "e8c2b691-910d-404e-85f5-7d19726e83bd",
   "metadata": {},
   "outputs": [],
   "source": [
    "out = out.rename(columns={'customEvent:pnr': 'pnr', 'customEvent:storage_source': 'storage_source','customEvent:full_journey':'full_journey'})"
   ]
  },
  {
   "cell_type": "code",
   "execution_count": 61,
   "id": "91dcf675-d72a-4d91-9e42-0ee612dd6e1f",
   "metadata": {},
   "outputs": [
    {
     "data": {
      "text/plain": [
       "Index(['pnr', 'storage_source', 'full_journey', 'Date', 'totalRevenue'], dtype='object')"
      ]
     },
     "execution_count": 61,
     "metadata": {},
     "output_type": "execute_result"
    }
   ],
   "source": [
    "out.columns"
   ]
  },
  {
   "cell_type": "code",
   "execution_count": 57,
   "id": "c6ba0122-1293-47fb-89de-f18c0475f71e",
   "metadata": {},
   "outputs": [],
   "source": [
    " out.rename(columns={('customEvent:pnr', 'customEvent:storage_source','customEvent:full_journey'):('pnr','storage_source','full_journey')}, inplace = True)"
   ]
  },
  {
   "cell_type": "code",
   "execution_count": 58,
   "id": "dada5787-b74b-4dc7-83d0-2b50bbce9f06",
   "metadata": {},
   "outputs": [
    {
     "name": "stdout",
     "output_type": "stream",
     "text": [
      "Python 3.12.0\n"
     ]
    }
   ],
   "source": [
    "!python -V "
   ]
  },
  {
   "cell_type": "code",
   "execution_count": 40,
   "id": "baa5490f",
   "metadata": {},
   "outputs": [],
   "source": [
    "## Export to CSV\n",
    "output_df.to_csv('GA4_SKY.csv')"
   ]
  }
 ],
 "metadata": {
  "kernelspec": {
   "display_name": "Python 3 (ipykernel)",
   "language": "python",
   "name": "python3"
  },
  "language_info": {
   "codemirror_mode": {
    "name": "ipython",
    "version": 3
   },
   "file_extension": ".py",
   "mimetype": "text/x-python",
   "name": "python",
   "nbconvert_exporter": "python",
   "pygments_lexer": "ipython3",
   "version": "3.12.0"
  }
 },
 "nbformat": 4,
 "nbformat_minor": 5
}
