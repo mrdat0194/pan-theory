{
 "cells": [
  {
   "cell_type": "code",
   "execution_count": null,
   "id": "8aa742e0",
   "metadata": {},
   "outputs": [],
   "source": [
    "from pyspark.sql import SparkSession\n",
    "from pyspark.sql.functions import *\n",
    "from pyspark.sql.types import *\n",
    "from pyspark.sql.utils import *\n",
    "from datetime import datetime"
   ]
  },
  {
   "cell_type": "markdown",
   "id": "57ba466f",
   "metadata": {},
   "source": [
    "# Configuration"
   ]
  },
  {
   "cell_type": "code",
   "execution_count": null,
   "id": "6ed429df",
   "metadata": {},
   "outputs": [],
   "source": [
    "# Spark and format\n",
    "spark = SparkSession.builder \\\n",
    "    .config('spark.sql.debug.maxToStringFields', 2000) \\\n",
    "    .config('spark.debug.maxToStringFields', 2000) \\\n",
    "    .config('spark.sql.shuffle.partitions', 10) \\\n",
    "    .config('spark.master', 'local') \\\n",
    "    .appName('python spark test') \\\n",
    "    .getOrCreate()"
   ]
  },
  {
   "cell_type": "markdown",
   "id": "3df68de3",
   "metadata": {},
   "source": [
    "# Get data from ADLSc"
   ]
  },
  {
   "cell_type": "code",
   "execution_count": null,
   "id": "60da4863",
   "metadata": {},
   "outputs": [],
   "source": [
    "#get data from orc, parquet format\n",
    "def load_local_trans_adls(tran_adls_path, data_format=\"parquet\"):\n",
    "    if data_format == \"orc\":\n",
    "        df = spark.read.format(data_format).load(tran_adls_path)\n",
    "    elif data_format == \"parquet\":\n",
    "        df = spark.read.parquet(tran_adls_path)\n",
    "        \n",
    "    return df"
   ]
  },
  {
   "cell_type": "markdown",
   "id": "02c6cdf3",
   "metadata": {},
   "source": [
    "# Compare Schema"
   ]
  },
  {
   "cell_type": "code",
   "execution_count": null,
   "id": "34e4b713",
   "metadata": {},
   "outputs": [],
   "source": [
    "def check_Schema(test_df, dev_df):\n",
    "    schema_test = test_df.columns\n",
    "    schema_dev = dev_df.columns\n",
    "    if len(set(schema_dev) - set(schema_test)) == 0 :\n",
    "        return list(set(schema_test) & set(schema_dev))\n",
    "    else:\n",
    "        return list((set(schema_dev).union(set(schema_test))) - (set(schema_test) & set(schema_dev)))"
   ]
  },
  {
   "cell_type": "markdown",
   "id": "26692ccf",
   "metadata": {},
   "source": [
    "# Function to check accuracy data"
   ]
  },
  {
   "cell_type": "code",
   "execution_count": null,
   "id": "6b2daeff",
   "metadata": {},
   "outputs": [],
   "source": [
    "def accuracy_test(test_df, dev_df):\n",
    "    print('1. Accuracy_test')\n",
    "    print('1.1 Schema_test')\n",
    "    if ((len(check_Schema(test_df,dev_df )) == len(dev_df.columns)) == True )\\\n",
    "            & ((len(check_Schema(test_df,dev_df )) == len(test_df.columns)) == True):\n",
    "        print('- accuracy_test: Test Pass')\n",
    "        print('\\t + test_df: {} fields \\n \\t + dev_df: {} fields \\n\\t Two Schema are the same'\n",
    "              .format(len(test_df.columns), len(dev_df.columns)))\n",
    "    else:\n",
    "        print('- accuracy_test: Test Fail')\n",
    "        print('\\t + test_df: {} fields \\n \\t + dev_df: {} fields \\n\\t Two Schema are not the same'\n",
    "              .format(len(test_df.columns), len(dev_df.columns)))\n",
    "        print('List of different fields: ')\n",
    "        for i in (check_Schema(test_df, dev_df)):\n",
    "            print('+', i)\n",
    "        return None\n",
    "       \n",
    "        print('- accuracy_test: Test Fail.')\n",
    "    schema_test = test_df.columns\n",
    "    schema_dev = dev_df.columns\n",
    "    dev_df = dev_df.select(list(set(schema_test) & set(schema_dev)))\n",
    "    test_df = test_df.select(list(set(schema_test) & set(schema_dev)))\n",
    "    output_count = dev_df.count()\n",
    "    expected_count = test_df.count()\n",
    "    intersect_data = test_df.intersectAll(dev_df)\n",
    "    intersect_count = intersect_data.count()\n",
    "    print('1.2 Check Data in two path')\n",
    "    print(\n",
    "        '- accuracy_test: \\n\\t+ size of intersect data: {} \\n\\t+ test_df count: {}  \\n\\t+ dev_df count: {}'.format(\n",
    "            intersect_count,\n",
    "            expected_count,\n",
    "            output_count))\n",
    "    if intersect_count != expected_count or intersect_count != output_count:\n",
    "        print(\n",
    "            '- accuracy_test: Test Fail. \\nTest_df has {} rows but intersect data between test_df and dev_df has {} rows'.format(\n",
    "                expected_count, intersect_count))\n",
    "        diff_expected_vs_intersect = test_df.subtract(intersect_data)\n",
    "        diff_output_vs_intersect = dev_df.subtract(intersect_data)\n",
    "        if diff_expected_vs_intersect.count() > 0:\n",
    "            print(\n",
    "                '- accuracy_test: test_df data has these rows. But not has in dev_df data <Only show first 5 rows>:')\n",
    "            diff_expected_vs_intersect.show(5, truncate=False)\n",
    "        if diff_output_vs_intersect.count() > 0:\n",
    "            print(\n",
    "                '- accuracy_test: dev_df data has these rows. But not has in test_df data <Only show first 5 rows>:')\n",
    "            diff_output_vs_intersect.show(5, truncate=False)\n",
    "    else:\n",
    "        print('- accuracy_test: Test Pass. \\nData in test_df and dev_df are equals')"
   ]
  },
  {
   "cell_type": "markdown",
   "id": "95df30d9",
   "metadata": {},
   "source": [
    "# Function to check completenes data"
   ]
  },
  {
   "cell_type": "code",
   "execution_count": null,
   "id": "4ba3d4d6",
   "metadata": {},
   "outputs": [],
   "source": [
    "def completeness_test(test_df, dev_df):\n",
    "    print('2. Completeness_test')\n",
    "    print('2.1 Amount of two data')\n",
    "    if(test_df.count() == dev_df.count()):\n",
    "        print('- completeness_test: Test Pass')\n",
    "        print('\\t+ amount of test_df: {}\\n\\t+ amount of dev_df: {}'.format(test_df.count(),dev_df.count()))\n",
    "    else:\n",
    "        print('- completeness_test: Test Fail')\n",
    "        print('\\t+ amount of test_df: {}\\n\\t+ amount of dev_df: {}'.format(test_df.count(),dev_df.count()))\n",
    "        # test_df.subtract(dev_df).head(truncate= False)\n",
    "    print('2.2 All data in two path')\n",
    "    schema_test = test_df.columns\n",
    "    schema_dev = dev_df.columns\n",
    "    dev_df = dev_df.select(list(set(schema_test) & set(schema_dev)))\n",
    "    test_df = test_df.select(list(set(schema_test) & set(schema_dev)))\n",
    "    output_count = dev_df.count()\n",
    "    expected_count = test_df.count()\n",
    "    intersect_data = test_df.intersectAll(dev_df)\n",
    "    intersect_count = intersect_data.count()\n",
    "    if intersect_count != expected_count or intersect_count != output_count:\n",
    "        print(\n",
    "            '- completeness_test: Test Fail. \\nTest_df has {} rows but intersect data between test_df and dev_df has {} rows'.format(\n",
    "                expected_count, intersect_count))\n",
    "        diff_expected_vs_intersect = test_df.subtract(intersect_data)\n",
    "        diff_output_vs_intersect = dev_df.subtract(intersect_data)\n",
    "        if diff_expected_vs_intersect.count() > 0:\n",
    "            print(\n",
    "                '- completeness_test: test_df data has these rows. But not has in dev_df data <Only show first 5 rows>:')\n",
    "            diff_expected_vs_intersect.show(5, truncate=False)\n",
    "        if diff_output_vs_intersect.count() > 0:\n",
    "            print(\n",
    "                '- completeness_test: dev_df data has these rows. But not has in test_df data <Only show first 5 rows>:')\n",
    "            diff_output_vs_intersect.show(5, truncate=False)\n",
    "    else:\n",
    "        print('- completeness_test: Test Pass. \\nData in test_df and dev_df are equals')"
   ]
  },
  {
   "cell_type": "markdown",
   "id": "d05383f9",
   "metadata": {},
   "source": [
    "# Convert Timestamp"
   ]
  },
  {
   "cell_type": "code",
   "execution_count": 2,
   "id": "0866993b",
   "metadata": {},
   "outputs": [],
   "source": [
    "def convertTimestamp(test_df,colname):\n",
    "    test_df = test_df.withColumn(colname, from_utc_timestamp((col(colname)/1000)\n",
    "                                                             .cast(TimestampType()), \"PST\"))\n",
    "    return test_df"
   ]
  },
  {
   "cell_type": "markdown",
   "id": "e7a38d18",
   "metadata": {},
   "source": [
    "# Select data within a specific time"
   ]
  },
  {
   "cell_type": "code",
   "execution_count": null,
   "id": "fa0c432d",
   "metadata": {},
   "outputs": [],
   "source": [
    "def select_data_between(df,start,end,colname):\n",
    "    selected_in_dfs = df.select(\"*\").where(col(colname).between(datetime.strptime(start, '%Y-%m-%d %H:%M:%S.%f'),\n",
    "                                                                datetime.strptime(end, '%Y-%m-%d %H:%M:%S.%f')))\n",
    "    return selected_in_dfs"
   ]
  },
  {
   "cell_type": "markdown",
   "id": "8ccd03a7",
   "metadata": {},
   "source": [
    "# Check min datetime, max datetime when data transferred from stg-trans (get trans_kafka_timestamp column)"
   ]
  },
  {
   "cell_type": "code",
   "execution_count": null,
   "id": "b6926d03",
   "metadata": {},
   "outputs": [],
   "source": [
    "def select_data_max_min(test_df,colname):\n",
    "    print(test_df.select(colname).rdd.min()[0])\n",
    "    print(test_df.select(colname).rdd.max()[0])"
   ]
  },
  {
   "cell_type": "markdown",
   "id": "134fe888",
   "metadata": {},
   "source": [
    "# Get value of a specific column"
   ]
  },
  {
   "cell_type": "code",
   "execution_count": null,
   "id": "09ee57fb",
   "metadata": {},
   "outputs": [],
   "source": [
    "def select_data_with_cols(test_df,dev_df,cols_name):\n",
    "\n",
    "\n",
    "    selected_test_in_dfs = test_df.select(cols_name)\n",
    "    selected_dev_in_dfs = dev_df.select(cols_name)\n",
    "\n",
    "    output_count = selected_dev_in_dfs.count()\n",
    "    expected_count = selected_test_in_dfs.count()\n",
    "    intersect_data = selected_test_in_dfs.intersectAll(selected_dev_in_dfs)\n",
    "    intersect_count = intersect_data.count()\n",
    "\n",
    "    print('size of intersect data: {} \\n\\t+ test_df count: {} \\n\\t+ dev_df count: {}'.format(intersect_count,\n",
    "                                                                                             expected_count,\n",
    "                                                                                             output_count))\n",
    "\n",
    "    if intersect_count != expected_count or intersect_count != output_count:\n",
    "        print('Test Fail. \\nTest_df has {} rows but intersect data between test_df and dev_df has {} rows'.format(expected_count,\n",
    "                                                                                                                  intersect_count))\n",
    "\n",
    "    diff_expected_vs_intersect = selected_test_in_dfs.subtract(intersect_data)\n",
    "    diff_output_vs_intersect = selected_dev_in_dfs.subtract(intersect_data)\n",
    "\n",
    "    if diff_expected_vs_intersect.count() > 0:\n",
    "        print('test_df data has these rows. But not has in dev_df data <Only show first 5 rows>:')\n",
    "        diff_expected_vs_intersect.show(5, truncate=False)\n",
    "    \n",
    "    if diff_output_vs_intersect.count() > 0:\n",
    "        print('dev_df data has these rows. But not has in test_df data <Only show first 5 rows>:')\n",
    "        diff_output_vs_intersect.show(5, truncate=False)\n",
    "\n",
    "    return selected_in_dfs\n"
   ]
  },
  {
   "cell_type": "code",
   "execution_count": null,
   "id": "11ade48d",
   "metadata": {},
   "outputs": [],
   "source": [
    "table_name='CS_ESTIMATE_DETAILS'\n",
    "dev_df_path = 'abfss://data@adledevadls2storage.dfs.core.windows.net/servicerequest/regulated/trans/es/ptccon/'+ table_name\n",
    "test_df_path = 'abfss://data@adledevadls2storage.dfs.core.windows.net/servicerequest/regulated/trans/es/ptccon/'+ table_name"
   ]
  },
  {
   "cell_type": "code",
   "execution_count": null,
   "id": "b1a9862e",
   "metadata": {},
   "outputs": [],
   "source": [
    "#dev_df_CS_ESTIMATE_DETAILS= load_local_trans_adls(dev_df_path, \"parquet\").where((\"STAGE_KAFKA_TIMESTAMP\") > \"2021-06-27\")\n",
    "#dev_df_CS_ESTIMATE_DETAILS= load_local_trans_adls(dev_df_path, \"parquet\").where((\"adl_ingest_time\" > 2021-07-01-00) and (\"adl_ingest_time\" <= 2021-07-01-04))\n",
    "#dev_df_CS_ESTIMATE_DETAILS= load_local_trans_adls(dev_df_path).filter(dev_df_CS_ESTIMATE_DETAILS.STAGE_KAFKA_TIMESTAMP > \"2021-06-27\").show(10)\n",
    "dev_df_CS_ESTIMATE_DETAILS= load_local_trans_adls(dev_df_path)\n",
    "#create temporay view\n",
    "#dev_df_CS_ESTIMATE_DETAILS.createOrReplaceTempView(\"ParquetTable\")"
   ]
  },
  {
   "cell_type": "code",
   "execution_count": null,
   "id": "88e0b700",
   "metadata": {},
   "outputs": [],
   "source": [
    "dev_df_CS_ESTIMATE_DETAILS= load_local_trans_adls(dev_df_path, \"parquet\").replace('null',None).na.fill('null')\n",
    "test_df_CS_ESTIMATE_DETAILS = load_local_trans_adls(test_df_path, \"parquet\").replace('null',None).na.fill('null')"
   ]
  },
  {
   "cell_type": "code",
   "execution_count": null,
   "id": "54ec861a",
   "metadata": {},
   "outputs": [],
   "source": [
    "dev_df_CS_ESTIMATE_DETAILS.printSchema()\n",
    "test_df_CS_ESTIMATE_DETAILS.printSchema()"
   ]
  },
  {
   "cell_type": "code",
   "execution_count": null,
   "id": "73cfff25",
   "metadata": {},
   "outputs": [],
   "source": [
    "dev_df_CS_ESTIMATE_DETAILS = load_local_trans_adls(dev_df_path, \"orc\").drop(\"KAFKA_OFFSET\", \"KAFKA_PARTITION\", \"KAFKA_TOPIC\",\n",
    "                                                                           \"ADL_INGEST_CHANNEL\", \"ADL_TRANS_LOAD_TIME\",\n",
    "                                                                           \"ADL_INGEST_TIME\", \"TABLE_NAME\", \"ADL_DATA_SOURCE\",\n",
    "                                                                           \"ADL_INGEST_PARTITION\", \"INSTANCE_ID\", \"ADL_TRAN_CODE\",\n",
    "                                                                           \"TRANS_KAFKA_TIMESTAMP\").replace('null',None).na.fill('null')\n",
    "test_df_CS_ESTIMATE_DETAILS = load_local_trans_adls(test_df_path, \"orc\").replace('null',None).na.fill('null')"
   ]
  },
  {
   "cell_type": "code",
   "execution_count": null,
   "id": "69b7b8a9",
   "metadata": {},
   "outputs": [],
   "source": [
    "dev_df_CS_ESTIMATE_DETAILS.printSchema()\n",
    "dev_df_CS_ESTIMATE_DETAILS[['stage_kafka_timestamp']].show(truncate = False)\n",
    "dev_df_CS_ESTIMATE_DETAILS.count()"
   ]
  },
  {
   "cell_type": "code",
   "execution_count": null,
   "id": "36f620c4",
   "metadata": {},
   "outputs": [],
   "source": [
    "test_df_CS_ESTIMATE_DETAILS.printSchema()\n",
    "test_df_CS_ESTIMATE_DETAILS[['stage_kafka_timestamp']].show(truncate = False)\n",
    "test_df_CS_ESTIMATE_DETAILS.count()"
   ]
  },
  {
   "cell_type": "code",
   "execution_count": null,
   "id": "e3f23e82",
   "metadata": {},
   "outputs": [],
   "source": [
    "select_data_max_min(test_df_CS_ESTIMATE_DETAILS,\"stage_kafka_timestamp\")\n",
    "select_data_max_min(dev_df_CS_ESTIMATE_DETAILS,\"stage_kafka_timestamp\")"
   ]
  },
  {
   "cell_type": "code",
   "execution_count": null,
   "id": "e32a221a",
   "metadata": {},
   "outputs": [],
   "source": [
    "#start = '2020-11-11 03:06:35.336000'\n",
    "#end = '2020-11-11 03:06:35.336000'"
   ]
  },
  {
   "cell_type": "code",
   "execution_count": null,
   "id": "d435143e",
   "metadata": {},
   "outputs": [],
   "source": [
    "select_test_df_between_CS_ESTIMATE_DETAILS = select_data_between(test_df_CS_ESTIMATE_DETAILS, start, end,\"stage_kafka_timestamp\")\n",
    "select_dev_df_between_CS_ESTIMATE_DETAILS = select_data_between(dev_df_CS_ESTIMATE_DETAILS, start, end,\"stage_kafka_timestamp\")\n",
    "#select_test_df_between.show(40, False)"
   ]
  },
  {
   "cell_type": "code",
   "execution_count": null,
   "id": "3b0b3b44",
   "metadata": {},
   "outputs": [],
   "source": [
    "select_dev_df_between_CS_ESTIMATE_DETAILS.count()"
   ]
  },
  {
   "cell_type": "code",
   "execution_count": null,
   "id": "2b142066",
   "metadata": {},
   "outputs": [],
   "source": [
    "select_test_df_between_CS_ESTIMATE_DETAILS.count()"
   ]
  },
  {
   "cell_type": "code",
   "execution_count": null,
   "id": "b61d6009",
   "metadata": {},
   "outputs": [],
   "source": [
    "select_test_df_between_CS_ESTIMATE_DETAILS.dropDuplicates().count()"
   ]
  },
  {
   "cell_type": "code",
   "execution_count": null,
   "id": "a49978c1",
   "metadata": {},
   "outputs": [],
   "source": [
    "completeness_test(select_test_df_between_CS_ESTIMATE_DETAILS, select_dev_df_between_CS_ESTIMATE_DETAILS)"
   ]
  },
  {
   "cell_type": "code",
   "execution_count": null,
   "id": "09bd634f",
   "metadata": {},
   "outputs": [],
   "source": [
    "accuracy_test(select_test_df_between_CS_ESTIMATE_DETAILS, select_dev_df_between_CS_ESTIMATE_DETAILS)"
   ]
  },
  {
   "cell_type": "code",
   "execution_count": null,
   "id": "3dadc528",
   "metadata": {},
   "outputs": [],
   "source": [
    "select_test_df_between_CS_ESTIMATE_DETAILS.show( 40, truncate = False)"
   ]
  },
  {
   "cell_type": "code",
   "execution_count": null,
   "id": "1605d116",
   "metadata": {},
   "outputs": [],
   "source": [
    "select_dev_df_between_CS_ESTIMATE_DETAILS.show( 40, truncate = False)"
   ]
  },
  {
   "cell_type": "code",
   "execution_count": null,
   "id": "5a8b0df9",
   "metadata": {},
   "outputs": [],
   "source": []
  },
  {
   "cell_type": "code",
   "execution_count": null,
   "id": "0d00142b",
   "metadata": {},
   "outputs": [],
   "source": []
  },
  {
   "cell_type": "code",
   "execution_count": null,
   "id": "4f482ff9",
   "metadata": {},
   "outputs": [],
   "source": []
  }
 ],
 "metadata": {
  "kernelspec": {
   "display_name": "Python 3",
   "language": "python",
   "name": "python3"
  },
  "language_info": {
   "codemirror_mode": {
    "name": "ipython",
    "version": 3
   },
   "file_extension": ".py",
   "mimetype": "text/x-python",
   "name": "python",
   "nbconvert_exporter": "python",
   "pygments_lexer": "ipython3",
   "version": "3.8.8"
  }
 },
 "nbformat": 4,
 "nbformat_minor": 5
}