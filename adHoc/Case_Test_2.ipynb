{
 "cells": [
  {
   "cell_type": "code",
   "execution_count": 2,
   "metadata": {
    "pycharm": {
     "name": "#%%\n"
    }
   },
   "outputs": [],
   "source": [
    "import os\n",
    "import pandas as pd\n",
    "import mysql.connector"
   ]
  },
  {
   "cell_type": "markdown",
   "metadata": {},
   "source": [
    "# 1. Các trường hợp trong bảng datasource có format là Mp3 nhưng filename trả về có đuôi là .mp4"
   ]
  },
  {
   "cell_type": "code",
   "execution_count": 28,
   "metadata": {},
   "outputs": [],
   "source": [
    "import urllib.request"
   ]
  },
  {
   "cell_type": "code",
   "execution_count": 3,
   "metadata": {
    "pycharm": {
     "name": "#%%\n"
    }
   },
   "outputs": [],
   "source": [
    "mydb = mysql.connector.connect(\n",
    "  host=\"localhost\",\n",
    "  user=\"sysadm\",\n",
    "  password=\"ek7F7ck3\",\n",
    "  database=\"v4\",\n",
    "  port= 3308\n",
    ")\n",
    "mycursor = mydb.cursor()"
   ]
  },
  {
   "cell_type": "code",
   "execution_count": 4,
   "metadata": {},
   "outputs": [],
   "source": [
    "query = f'''SELECT DISTINCT tracks.Name, datasources.FileName\n",
    "FROM urimapper\n",
    "         JOIN albums ON albums.UUID = urimapper.EntityId\n",
    "         JOIN album_track ON album_track.AlbumId = albums.UUID\n",
    "         JOIN tracks ON tracks.Id = album_track.TrackId\n",
    "         JOIN datasources ON datasources.TrackId = tracks.Id\n",
    "WHERE URI = '/album/various-artists/hamilton-original-broadway-cast-recording'\n",
    "AND (datasources.FormatID = '1A67A5F1E0D84FB9B48234AE65086375'\n",
    "    OR datasources.FormatID = '87ADA22693BA48029C33FC3031C6044C'\n",
    "    OR datasources.FormatID = '745BFC108F41441CB01AD8178AB02D2B'\n",
    "    )\n",
    ";'''\n",
    "mycursor.execute(query)\n",
    "result = mycursor.fetchall()"
   ]
  },
  {
   "cell_type": "code",
   "execution_count": 5,
   "metadata": {},
   "outputs": [],
   "source": [
    "num_fields = len(mycursor.description)\n",
    "field_names = [i[0] for i in mycursor.description]"
   ]
  },
  {
   "cell_type": "code",
   "execution_count": 10,
   "metadata": {},
   "outputs": [],
   "source": [
    "hamilton = pd.DataFrame(result,columns = field_names)\n",
    "hamilton = hamilton.drop_duplicates(subset=['Name'])\n"
   ]
  },
  {
   "cell_type": "code",
   "execution_count": 29,
   "metadata": {},
   "outputs": [],
   "source": [
    "for row in hamilton.itertuples():\n",
    "    name = row.Name.replace(\"'\", r\"_\").replace('\"', r'_').replace(' ', r'_') +'.mp3'\n",
    "    url=\"https://s3.amazonaws.com/vibbidi-us/audio/\"+row.FileName\n",
    "    urllib.request.urlretrieve(url,name)\n"
   ]
  },
  {
   "cell_type": "markdown",
   "metadata": {},
   "source": [
    "## 2. Image extract"
   ]
  },
  {
   "cell_type": "code",
   "execution_count": null,
   "metadata": {},
   "outputs": [],
   "source": [
    "# https://s3.amazonaws.com/vibbidi-us/audio/videos/audio_2259A84F7B944B02965C3C697688FC5A.mp3.extra.jpg\n"
   ]
  }
 ],
 "metadata": {
  "kernelspec": {
   "display_name": "PyCharm (Project)",
   "language": "python",
   "name": "pycharm-6c872235"
  },
  "language_info": {
   "codemirror_mode": {
    "name": "ipython",
    "version": 3
   },
   "file_extension": ".py",
   "mimetype": "text/x-python",
   "name": "python",
   "nbconvert_exporter": "python",
   "pygments_lexer": "ipython3",
   "version": "3.7.4"
  }
 },
 "nbformat": 4,
 "nbformat_minor": 1
}