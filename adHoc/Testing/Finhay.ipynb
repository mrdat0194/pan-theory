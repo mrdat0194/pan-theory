{
 "cells": [
  {
   "cell_type": "code",
   "execution_count": 165,
   "metadata": {},
   "outputs": [],
   "source": [
    "import os\n",
    "import pandas as pd\n",
    "import re\n",
    "import seaborn as sns\n",
    "import matplotlib.pyplot as plt\n",
    "import numpy as np\n",
    "from plotnine import ggplot, geom_point, aes, stat_smooth, facet_wrap,geom_line\n",
    "from scipy.stats import trim_mean"
   ]
  },
  {
   "cell_type": "code",
   "execution_count": 3,
   "metadata": {},
   "outputs": [],
   "source": [
    "pd.set_option('float_format', '{:,.2f}'.format)\n",
    "pd.set_option(\"display.max_rows\", None, \"display.max_columns\", 60, 'display.width', 1000)"
   ]
  },
  {
   "cell_type": "code",
   "execution_count": 5,
   "metadata": {},
   "outputs": [],
   "source": [
    "dir_ = '/Users/petern/Desktop/Python/Data_Analyst_Test/Finhay/' #Tên folder\n",
    "directory = os.listdir(dir_)"
   ]
  },
  {
   "cell_type": "code",
   "execution_count": 6,
   "metadata": {},
   "outputs": [
    {
     "name": "stderr",
     "output_type": "stream",
     "text": [
      "/Users/petern/opt/anaconda3/envs/py3-TF2.0/lib/python3.7/site-packages/ipykernel_launcher.py:1: FutureWarning: Your version of xlrd is 1.2.0. In xlrd >= 2.0, only the xls format is supported. As a result, the openpyxl engine will be used if it is installed and the engine argument is not specified. Install openpyxl instead.\n"
     ]
    }
   ],
   "source": [
    "finhay_df = pd.read_excel('Dummy Data for Technical Test.xlsx')"
   ]
  },
  {
   "cell_type": "markdown",
   "metadata": {},
   "source": [
    "<h1 style=\"font-size:2em;color:#2467C0\">Descriptive Statistics</h1>"
   ]
  },
  {
   "cell_type": "code",
   "execution_count": 7,
   "metadata": {},
   "outputs": [
    {
     "data": {
      "text/html": [
       "<div>\n",
       "<style scoped>\n",
       "    .dataframe tbody tr th:only-of-type {\n",
       "        vertical-align: middle;\n",
       "    }\n",
       "\n",
       "    .dataframe tbody tr th {\n",
       "        vertical-align: top;\n",
       "    }\n",
       "\n",
       "    .dataframe thead th {\n",
       "        text-align: right;\n",
       "    }\n",
       "</style>\n",
       "<table border=\"1\" class=\"dataframe\">\n",
       "  <thead>\n",
       "    <tr style=\"text-align: right;\">\n",
       "      <th></th>\n",
       "      <th>ID</th>\n",
       "      <th>Invest</th>\n",
       "      <th>Saving</th>\n",
       "      <th>DoB</th>\n",
       "      <th>Gender</th>\n",
       "      <th>City</th>\n",
       "      <th>Date</th>\n",
       "    </tr>\n",
       "  </thead>\n",
       "  <tbody>\n",
       "    <tr>\n",
       "      <th>0</th>\n",
       "      <td>376723</td>\n",
       "      <td>NaN</td>\n",
       "      <td>NaN</td>\n",
       "      <td>NaN</td>\n",
       "      <td>NaN</td>\n",
       "      <td>NaN</td>\n",
       "      <td>2020-04-01 00:01:55</td>\n",
       "    </tr>\n",
       "    <tr>\n",
       "      <th>1</th>\n",
       "      <td>376724</td>\n",
       "      <td>NaN</td>\n",
       "      <td>NaN</td>\n",
       "      <td>NaN</td>\n",
       "      <td>NaN</td>\n",
       "      <td>NaN</td>\n",
       "      <td>2020-04-01 00:02:24</td>\n",
       "    </tr>\n",
       "    <tr>\n",
       "      <th>2</th>\n",
       "      <td>376725</td>\n",
       "      <td>NaN</td>\n",
       "      <td>NaN</td>\n",
       "      <td>NaN</td>\n",
       "      <td>NaN</td>\n",
       "      <td>NaN</td>\n",
       "      <td>2020-04-01 00:07:50</td>\n",
       "    </tr>\n",
       "    <tr>\n",
       "      <th>3</th>\n",
       "      <td>376726</td>\n",
       "      <td>NaN</td>\n",
       "      <td>NaN</td>\n",
       "      <td>1995-09-27</td>\n",
       "      <td>Male</td>\n",
       "      <td>Bình Dương</td>\n",
       "      <td>2020-04-01 00:10:43</td>\n",
       "    </tr>\n",
       "    <tr>\n",
       "      <th>4</th>\n",
       "      <td>376727</td>\n",
       "      <td>NaN</td>\n",
       "      <td>NaN</td>\n",
       "      <td>NaN</td>\n",
       "      <td>NaN</td>\n",
       "      <td>NaN</td>\n",
       "      <td>2020-04-01 00:12:17</td>\n",
       "    </tr>\n",
       "  </tbody>\n",
       "</table>\n",
       "</div>"
      ],
      "text/plain": [
       "       ID  Invest  Saving         DoB Gender        City                 Date\n",
       "0  376723     NaN     NaN         NaN    NaN         NaN  2020-04-01 00:01:55\n",
       "1  376724     NaN     NaN         NaN    NaN         NaN  2020-04-01 00:02:24\n",
       "2  376725     NaN     NaN         NaN    NaN         NaN  2020-04-01 00:07:50\n",
       "3  376726     NaN     NaN  1995-09-27   Male  Bình Dương  2020-04-01 00:10:43\n",
       "4  376727     NaN     NaN         NaN    NaN         NaN  2020-04-01 00:12:17"
      ]
     },
     "execution_count": 7,
     "metadata": {},
     "output_type": "execute_result"
    }
   ],
   "source": [
    "finhay_df.head(5)"
   ]
  },
  {
   "cell_type": "code",
   "execution_count": 8,
   "metadata": {},
   "outputs": [
    {
     "data": {
      "text/plain": [
       "(95502, 7)"
      ]
     },
     "execution_count": 8,
     "metadata": {},
     "output_type": "execute_result"
    }
   ],
   "source": [
    "finhay_df.shape"
   ]
  },
  {
   "cell_type": "code",
   "execution_count": 9,
   "metadata": {},
   "outputs": [
    {
     "data": {
      "text/plain": [
       "ID        False\n",
       "Invest     True\n",
       "Saving     True\n",
       "DoB        True\n",
       "Gender     True\n",
       "City       True\n",
       "Date      False\n",
       "dtype: bool"
      ]
     },
     "execution_count": 9,
     "metadata": {},
     "output_type": "execute_result"
    }
   ],
   "source": [
    "finhay_df.isnull().any()"
   ]
  },
  {
   "cell_type": "code",
   "execution_count": 10,
   "metadata": {},
   "outputs": [
    {
     "data": {
      "text/plain": [
       "ID        False\n",
       "Invest     True\n",
       "Saving     True\n",
       "DoB        True\n",
       "Gender     True\n",
       "City       True\n",
       "Date      False\n",
       "dtype: bool"
      ]
     },
     "execution_count": 10,
     "metadata": {},
     "output_type": "execute_result"
    }
   ],
   "source": [
    "finhay_df.isna().any()"
   ]
  },
  {
   "cell_type": "code",
   "execution_count": 11,
   "metadata": {},
   "outputs": [
    {
     "data": {
      "text/plain": [
       "80009"
      ]
     },
     "execution_count": 11,
     "metadata": {},
     "output_type": "execute_result"
    }
   ],
   "source": [
    "finhay_df['Invest'].isna().sum()"
   ]
  },
  {
   "cell_type": "code",
   "execution_count": 12,
   "metadata": {},
   "outputs": [
    {
     "data": {
      "text/plain": [
       "80009"
      ]
     },
     "execution_count": 12,
     "metadata": {},
     "output_type": "execute_result"
    }
   ],
   "source": [
    "finhay_df['Invest'].isnull().sum()"
   ]
  },
  {
   "cell_type": "code",
   "execution_count": 13,
   "metadata": {},
   "outputs": [
    {
     "data": {
      "text/plain": [
       "90528"
      ]
     },
     "execution_count": 13,
     "metadata": {},
     "output_type": "execute_result"
    }
   ],
   "source": [
    "finhay_df['Saving'].isna().sum()"
   ]
  },
  {
   "cell_type": "code",
   "execution_count": 14,
   "metadata": {},
   "outputs": [
    {
     "data": {
      "text/plain": [
       "90528"
      ]
     },
     "execution_count": 14,
     "metadata": {},
     "output_type": "execute_result"
    }
   ],
   "source": [
    "finhay_df['Saving'].isnull().sum()"
   ]
  },
  {
   "cell_type": "code",
   "execution_count": 15,
   "metadata": {},
   "outputs": [
    {
     "data": {
      "text/plain": [
       "70546"
      ]
     },
     "execution_count": 15,
     "metadata": {},
     "output_type": "execute_result"
    }
   ],
   "source": [
    "finhay_df['DoB'].isna().sum()"
   ]
  },
  {
   "cell_type": "code",
   "execution_count": 16,
   "metadata": {},
   "outputs": [
    {
     "data": {
      "text/plain": [
       "70613"
      ]
     },
     "execution_count": 16,
     "metadata": {},
     "output_type": "execute_result"
    }
   ],
   "source": [
    "finhay_df['Gender'].isna().sum()"
   ]
  },
  {
   "cell_type": "code",
   "execution_count": 17,
   "metadata": {},
   "outputs": [
    {
     "data": {
      "text/plain": [
       "73030"
      ]
     },
     "execution_count": 17,
     "metadata": {},
     "output_type": "execute_result"
    }
   ],
   "source": [
    "finhay_df['City'].isna().sum()"
   ]
  },
  {
   "cell_type": "code",
   "execution_count": 22,
   "metadata": {},
   "outputs": [
    {
     "name": "stdout",
     "output_type": "stream",
     "text": [
      "68606\n"
     ]
    }
   ],
   "source": [
    "count_row_na_3 = 0\n",
    "for i in finhay_df.index:\n",
    "    count_na = finhay_df.loc[i,['DoB','Gender','City']].isna().sum()\n",
    "    if (count_na == 3):\n",
    "        count_row_na_3 += 1\n",
    "print(count_row_na_3)"
   ]
  },
  {
   "cell_type": "code",
   "execution_count": 23,
   "metadata": {},
   "outputs": [
    {
     "name": "stdout",
     "output_type": "stream",
     "text": [
      "66853\n"
     ]
    }
   ],
   "source": [
    "count_row_na_5 = 0\n",
    "for i in finhay_df.index:\n",
    "    count_na = finhay_df.loc[i,['Invest','Saving','DoB','Gender','City']].isna().sum()\n",
    "    if (count_na == 5):\n",
    "        count_row_na_5 += 1\n",
    "print(count_row_na_5)"
   ]
  },
  {
   "cell_type": "markdown",
   "metadata": {},
   "source": [
    "# There are many missing data more than 70%"
   ]
  },
  {
   "cell_type": "code",
   "execution_count": 24,
   "metadata": {},
   "outputs": [
    {
     "data": {
      "text/plain": [
       "70.00167535758413"
      ]
     },
     "execution_count": 24,
     "metadata": {},
     "output_type": "execute_result"
    }
   ],
   "source": [
    "(count_row_na_5/finhay_df.shape[0])*100"
   ]
  },
  {
   "cell_type": "code",
   "execution_count": 25,
   "metadata": {},
   "outputs": [
    {
     "data": {
      "text/html": [
       "<div>\n",
       "<style scoped>\n",
       "    .dataframe tbody tr th:only-of-type {\n",
       "        vertical-align: middle;\n",
       "    }\n",
       "\n",
       "    .dataframe tbody tr th {\n",
       "        vertical-align: top;\n",
       "    }\n",
       "\n",
       "    .dataframe thead th {\n",
       "        text-align: right;\n",
       "    }\n",
       "</style>\n",
       "<table border=\"1\" class=\"dataframe\">\n",
       "  <thead>\n",
       "    <tr style=\"text-align: right;\">\n",
       "      <th></th>\n",
       "      <th>ID</th>\n",
       "      <th>Invest</th>\n",
       "      <th>Saving</th>\n",
       "    </tr>\n",
       "  </thead>\n",
       "  <tbody>\n",
       "    <tr>\n",
       "      <th>count</th>\n",
       "      <td>95,502.00</td>\n",
       "      <td>15,493.00</td>\n",
       "      <td>4,974.00</td>\n",
       "    </tr>\n",
       "    <tr>\n",
       "      <th>mean</th>\n",
       "      <td>424,473.83</td>\n",
       "      <td>2,275,128.62</td>\n",
       "      <td>19,178,754.09</td>\n",
       "    </tr>\n",
       "    <tr>\n",
       "      <th>std</th>\n",
       "      <td>27,569.61</td>\n",
       "      <td>15,470,571.40</td>\n",
       "      <td>66,163,660.95</td>\n",
       "    </tr>\n",
       "    <tr>\n",
       "      <th>min</th>\n",
       "      <td>376,723.00</td>\n",
       "      <td>373.00</td>\n",
       "      <td>2,233.00</td>\n",
       "    </tr>\n",
       "    <tr>\n",
       "      <th>25%</th>\n",
       "      <td>400,598.25</td>\n",
       "      <td>100,000.00</td>\n",
       "      <td>1,002,562.75</td>\n",
       "    </tr>\n",
       "    <tr>\n",
       "      <th>50%</th>\n",
       "      <td>424,473.50</td>\n",
       "      <td>250,000.00</td>\n",
       "      <td>5,005,070.00</td>\n",
       "    </tr>\n",
       "    <tr>\n",
       "      <th>75%</th>\n",
       "      <td>448,349.75</td>\n",
       "      <td>1,020,000.00</td>\n",
       "      <td>15,000,000.00</td>\n",
       "    </tr>\n",
       "    <tr>\n",
       "      <th>max</th>\n",
       "      <td>472,226.00</td>\n",
       "      <td>1,100,000,000.00</td>\n",
       "      <td>2,700,000,000.00</td>\n",
       "    </tr>\n",
       "  </tbody>\n",
       "</table>\n",
       "</div>"
      ],
      "text/plain": [
       "              ID           Invest           Saving\n",
       "count  95,502.00        15,493.00         4,974.00\n",
       "mean  424,473.83     2,275,128.62    19,178,754.09\n",
       "std    27,569.61    15,470,571.40    66,163,660.95\n",
       "min   376,723.00           373.00         2,233.00\n",
       "25%   400,598.25       100,000.00     1,002,562.75\n",
       "50%   424,473.50       250,000.00     5,005,070.00\n",
       "75%   448,349.75     1,020,000.00    15,000,000.00\n",
       "max   472,226.00 1,100,000,000.00 2,700,000,000.00"
      ]
     },
     "execution_count": 25,
     "metadata": {},
     "output_type": "execute_result"
    }
   ],
   "source": [
    "finhay_df.describe()"
   ]
  },
  {
   "cell_type": "code",
   "execution_count": 26,
   "metadata": {},
   "outputs": [],
   "source": [
    "finhay_full = finhay_df.dropna()"
   ]
  },
  {
   "cell_type": "code",
   "execution_count": 27,
   "metadata": {},
   "outputs": [
    {
     "data": {
      "text/plain": [
       "(3350, 7)"
      ]
     },
     "execution_count": 27,
     "metadata": {},
     "output_type": "execute_result"
    }
   ],
   "source": [
    "finhay_full.shape"
   ]
  },
  {
   "cell_type": "code",
   "execution_count": 28,
   "metadata": {},
   "outputs": [
    {
     "data": {
      "text/html": [
       "<div>\n",
       "<style scoped>\n",
       "    .dataframe tbody tr th:only-of-type {\n",
       "        vertical-align: middle;\n",
       "    }\n",
       "\n",
       "    .dataframe tbody tr th {\n",
       "        vertical-align: top;\n",
       "    }\n",
       "\n",
       "    .dataframe thead th {\n",
       "        text-align: right;\n",
       "    }\n",
       "</style>\n",
       "<table border=\"1\" class=\"dataframe\">\n",
       "  <thead>\n",
       "    <tr style=\"text-align: right;\">\n",
       "      <th></th>\n",
       "      <th>ID</th>\n",
       "      <th>Invest</th>\n",
       "      <th>Saving</th>\n",
       "      <th>DoB</th>\n",
       "      <th>Gender</th>\n",
       "      <th>City</th>\n",
       "      <th>Date</th>\n",
       "    </tr>\n",
       "  </thead>\n",
       "  <tbody>\n",
       "    <tr>\n",
       "      <th>28</th>\n",
       "      <td>376751</td>\n",
       "      <td>1,070,000.00</td>\n",
       "      <td>1,009,980.00</td>\n",
       "      <td>2000-09-19</td>\n",
       "      <td>Female</td>\n",
       "      <td>Kiên Giang</td>\n",
       "      <td>2020-04-01 00:36:22</td>\n",
       "    </tr>\n",
       "    <tr>\n",
       "      <th>86</th>\n",
       "      <td>376809</td>\n",
       "      <td>4,970,000.00</td>\n",
       "      <td>3,870,293.00</td>\n",
       "      <td>1990-11-07</td>\n",
       "      <td>Male</td>\n",
       "      <td>Lào Cai</td>\n",
       "      <td>2020-04-01 01:47:44</td>\n",
       "    </tr>\n",
       "    <tr>\n",
       "      <th>160</th>\n",
       "      <td>376883</td>\n",
       "      <td>20,012,165.00</td>\n",
       "      <td>20,000,000.00</td>\n",
       "      <td>1991-06-20</td>\n",
       "      <td>Male</td>\n",
       "      <td>Hà Nội</td>\n",
       "      <td>2020-04-01 05:48:42</td>\n",
       "    </tr>\n",
       "    <tr>\n",
       "      <th>591</th>\n",
       "      <td>377314</td>\n",
       "      <td>1,255,000.00</td>\n",
       "      <td>50,000.00</td>\n",
       "      <td>1991-07-04</td>\n",
       "      <td>Male</td>\n",
       "      <td>Đồng Nai</td>\n",
       "      <td>2020-04-01 12:11:27</td>\n",
       "    </tr>\n",
       "    <tr>\n",
       "      <th>723</th>\n",
       "      <td>377446</td>\n",
       "      <td>200,000.00</td>\n",
       "      <td>1,000,000.00</td>\n",
       "      <td>1995-07-12</td>\n",
       "      <td>Female</td>\n",
       "      <td>Cần Thơ</td>\n",
       "      <td>2020-04-01 13:16:39</td>\n",
       "    </tr>\n",
       "  </tbody>\n",
       "</table>\n",
       "</div>"
      ],
      "text/plain": [
       "         ID        Invest        Saving         DoB  Gender        City                 Date\n",
       "28   376751  1,070,000.00  1,009,980.00  2000-09-19  Female  Kiên Giang  2020-04-01 00:36:22\n",
       "86   376809  4,970,000.00  3,870,293.00  1990-11-07    Male     Lào Cai  2020-04-01 01:47:44\n",
       "160  376883 20,012,165.00 20,000,000.00  1991-06-20    Male      Hà Nội  2020-04-01 05:48:42\n",
       "591  377314  1,255,000.00     50,000.00  1991-07-04    Male    Đồng Nai  2020-04-01 12:11:27\n",
       "723  377446    200,000.00  1,000,000.00  1995-07-12  Female     Cần Thơ  2020-04-01 13:16:39"
      ]
     },
     "execution_count": 28,
     "metadata": {},
     "output_type": "execute_result"
    }
   ],
   "source": [
    "finhay_full.head()"
   ]
  },
  {
   "cell_type": "code",
   "execution_count": 29,
   "metadata": {},
   "outputs": [
    {
     "data": {
      "text/plain": [
       "ID          int64\n",
       "Invest    float64\n",
       "Saving    float64\n",
       "DoB        object\n",
       "Gender     object\n",
       "City       object\n",
       "Date       object\n",
       "dtype: object"
      ]
     },
     "execution_count": 29,
     "metadata": {},
     "output_type": "execute_result"
    }
   ],
   "source": [
    "finhay_full.dtypes"
   ]
  },
  {
   "cell_type": "code",
   "execution_count": 31,
   "metadata": {},
   "outputs": [
    {
     "name": "stderr",
     "output_type": "stream",
     "text": [
      "/Users/petern/opt/anaconda3/envs/py3-TF2.0/lib/python3.7/site-packages/pandas/core/indexing.py:1599: SettingWithCopyWarning: \n",
      "A value is trying to be set on a copy of a slice from a DataFrame.\n",
      "Try using .loc[row_indexer,col_indexer] = value instead\n",
      "\n",
      "See the caveats in the documentation: https://pandas.pydata.org/pandas-docs/stable/user_guide/indexing.html#returning-a-view-versus-a-copy\n",
      "/Users/petern/opt/anaconda3/envs/py3-TF2.0/lib/python3.7/site-packages/pandas/core/indexing.py:1676: SettingWithCopyWarning: \n",
      "A value is trying to be set on a copy of a slice from a DataFrame.\n",
      "Try using .loc[row_indexer,col_indexer] = value instead\n",
      "\n",
      "See the caveats in the documentation: https://pandas.pydata.org/pandas-docs/stable/user_guide/indexing.html#returning-a-view-versus-a-copy\n"
     ]
    }
   ],
   "source": [
    "finhay_full.loc[finhay_full.ID.index, 'Date_Birth'] = pd.to_datetime(finhay_full['DoB'], errors = 'coerce')"
   ]
  },
  {
   "cell_type": "code",
   "execution_count": 32,
   "metadata": {},
   "outputs": [],
   "source": [
    "finhay_full.loc[finhay_full.ID.index, 'Date_join'] = pd.to_datetime(finhay_full['Date'])"
   ]
  },
  {
   "cell_type": "code",
   "execution_count": 33,
   "metadata": {},
   "outputs": [
    {
     "data": {
      "text/html": [
       "<div>\n",
       "<style scoped>\n",
       "    .dataframe tbody tr th:only-of-type {\n",
       "        vertical-align: middle;\n",
       "    }\n",
       "\n",
       "    .dataframe tbody tr th {\n",
       "        vertical-align: top;\n",
       "    }\n",
       "\n",
       "    .dataframe thead th {\n",
       "        text-align: right;\n",
       "    }\n",
       "</style>\n",
       "<table border=\"1\" class=\"dataframe\">\n",
       "  <thead>\n",
       "    <tr style=\"text-align: right;\">\n",
       "      <th></th>\n",
       "      <th>ID</th>\n",
       "      <th>Invest</th>\n",
       "      <th>Saving</th>\n",
       "      <th>DoB</th>\n",
       "      <th>Gender</th>\n",
       "      <th>City</th>\n",
       "      <th>Date</th>\n",
       "      <th>Date_Birth</th>\n",
       "      <th>Date_join</th>\n",
       "    </tr>\n",
       "  </thead>\n",
       "  <tbody>\n",
       "    <tr>\n",
       "      <th>24887</th>\n",
       "      <td>401610</td>\n",
       "      <td>2,500,000.00</td>\n",
       "      <td>3,001,824.00</td>\n",
       "      <td>0007-12-08</td>\n",
       "      <td>Female</td>\n",
       "      <td>Nghệ An</td>\n",
       "      <td>2020-04-09 19:33:03</td>\n",
       "      <td>NaT</td>\n",
       "      <td>2020-04-09 19:33:03</td>\n",
       "    </tr>\n",
       "    <tr>\n",
       "      <th>89327</th>\n",
       "      <td>466051</td>\n",
       "      <td>100,000.00</td>\n",
       "      <td>200,000.00</td>\n",
       "      <td>2514-04-26</td>\n",
       "      <td>Female</td>\n",
       "      <td>Cao Bằng</td>\n",
       "      <td>2020-04-26 17:46:17</td>\n",
       "      <td>NaT</td>\n",
       "      <td>2020-04-26 17:46:17</td>\n",
       "    </tr>\n",
       "    <tr>\n",
       "      <th>93505</th>\n",
       "      <td>470230</td>\n",
       "      <td>200,000.00</td>\n",
       "      <td>300,000.00</td>\n",
       "      <td>0013-05-20</td>\n",
       "      <td>Female</td>\n",
       "      <td>Đà Nẵng</td>\n",
       "      <td>2020-04-29 11:29:27</td>\n",
       "      <td>NaT</td>\n",
       "      <td>2020-04-29 11:29:27</td>\n",
       "    </tr>\n",
       "  </tbody>\n",
       "</table>\n",
       "</div>"
      ],
      "text/plain": [
       "           ID       Invest       Saving         DoB  Gender      City                 Date Date_Birth           Date_join\n",
       "24887  401610 2,500,000.00 3,001,824.00  0007-12-08  Female   Nghệ An  2020-04-09 19:33:03        NaT 2020-04-09 19:33:03\n",
       "89327  466051   100,000.00   200,000.00  2514-04-26  Female  Cao Bằng  2020-04-26 17:46:17        NaT 2020-04-26 17:46:17\n",
       "93505  470230   200,000.00   300,000.00  0013-05-20  Female   Đà Nẵng  2020-04-29 11:29:27        NaT 2020-04-29 11:29:27"
      ]
     },
     "execution_count": 33,
     "metadata": {},
     "output_type": "execute_result"
    }
   ],
   "source": [
    "finhay_full[finhay_full['Date_Birth'].isna()]"
   ]
  },
  {
   "cell_type": "code",
   "execution_count": 34,
   "metadata": {},
   "outputs": [],
   "source": [
    "finhay_full = finhay_full.dropna()"
   ]
  },
  {
   "cell_type": "code",
   "execution_count": 39,
   "metadata": {},
   "outputs": [],
   "source": [
    "now = pd.Timestamp('now')\n",
    "finhay_full.loc[finhay_full.index,'age'] = (now - finhay_full['Date_Birth']).astype('<m8[Y]') "
   ]
  },
  {
   "cell_type": "code",
   "execution_count": 40,
   "metadata": {},
   "outputs": [
    {
     "data": {
      "text/html": [
       "<div>\n",
       "<style scoped>\n",
       "    .dataframe tbody tr th:only-of-type {\n",
       "        vertical-align: middle;\n",
       "    }\n",
       "\n",
       "    .dataframe tbody tr th {\n",
       "        vertical-align: top;\n",
       "    }\n",
       "\n",
       "    .dataframe thead th {\n",
       "        text-align: right;\n",
       "    }\n",
       "</style>\n",
       "<table border=\"1\" class=\"dataframe\">\n",
       "  <thead>\n",
       "    <tr style=\"text-align: right;\">\n",
       "      <th></th>\n",
       "      <th>ID</th>\n",
       "      <th>Invest</th>\n",
       "      <th>Saving</th>\n",
       "      <th>DoB</th>\n",
       "      <th>Gender</th>\n",
       "      <th>City</th>\n",
       "      <th>Date</th>\n",
       "      <th>Date_Birth</th>\n",
       "      <th>Date_join</th>\n",
       "      <th>age</th>\n",
       "    </tr>\n",
       "  </thead>\n",
       "  <tbody>\n",
       "    <tr>\n",
       "      <th>28</th>\n",
       "      <td>376751</td>\n",
       "      <td>1,070,000.00</td>\n",
       "      <td>1,009,980.00</td>\n",
       "      <td>2000-09-19</td>\n",
       "      <td>Female</td>\n",
       "      <td>Kiên Giang</td>\n",
       "      <td>2020-04-01 00:36:22</td>\n",
       "      <td>2000-09-19</td>\n",
       "      <td>2020-04-01 00:36:22</td>\n",
       "      <td>20.00</td>\n",
       "    </tr>\n",
       "    <tr>\n",
       "      <th>86</th>\n",
       "      <td>376809</td>\n",
       "      <td>4,970,000.00</td>\n",
       "      <td>3,870,293.00</td>\n",
       "      <td>1990-11-07</td>\n",
       "      <td>Male</td>\n",
       "      <td>Lào Cai</td>\n",
       "      <td>2020-04-01 01:47:44</td>\n",
       "      <td>1990-11-07</td>\n",
       "      <td>2020-04-01 01:47:44</td>\n",
       "      <td>30.00</td>\n",
       "    </tr>\n",
       "    <tr>\n",
       "      <th>160</th>\n",
       "      <td>376883</td>\n",
       "      <td>20,012,165.00</td>\n",
       "      <td>20,000,000.00</td>\n",
       "      <td>1991-06-20</td>\n",
       "      <td>Male</td>\n",
       "      <td>Hà Nội</td>\n",
       "      <td>2020-04-01 05:48:42</td>\n",
       "      <td>1991-06-20</td>\n",
       "      <td>2020-04-01 05:48:42</td>\n",
       "      <td>29.00</td>\n",
       "    </tr>\n",
       "    <tr>\n",
       "      <th>591</th>\n",
       "      <td>377314</td>\n",
       "      <td>1,255,000.00</td>\n",
       "      <td>50,000.00</td>\n",
       "      <td>1991-07-04</td>\n",
       "      <td>Male</td>\n",
       "      <td>Đồng Nai</td>\n",
       "      <td>2020-04-01 12:11:27</td>\n",
       "      <td>1991-07-04</td>\n",
       "      <td>2020-04-01 12:11:27</td>\n",
       "      <td>29.00</td>\n",
       "    </tr>\n",
       "    <tr>\n",
       "      <th>723</th>\n",
       "      <td>377446</td>\n",
       "      <td>200,000.00</td>\n",
       "      <td>1,000,000.00</td>\n",
       "      <td>1995-07-12</td>\n",
       "      <td>Female</td>\n",
       "      <td>Cần Thơ</td>\n",
       "      <td>2020-04-01 13:16:39</td>\n",
       "      <td>1995-07-12</td>\n",
       "      <td>2020-04-01 13:16:39</td>\n",
       "      <td>25.00</td>\n",
       "    </tr>\n",
       "  </tbody>\n",
       "</table>\n",
       "</div>"
      ],
      "text/plain": [
       "         ID        Invest        Saving         DoB  Gender        City                 Date Date_Birth           Date_join   age\n",
       "28   376751  1,070,000.00  1,009,980.00  2000-09-19  Female  Kiên Giang  2020-04-01 00:36:22 2000-09-19 2020-04-01 00:36:22 20.00\n",
       "86   376809  4,970,000.00  3,870,293.00  1990-11-07    Male     Lào Cai  2020-04-01 01:47:44 1990-11-07 2020-04-01 01:47:44 30.00\n",
       "160  376883 20,012,165.00 20,000,000.00  1991-06-20    Male      Hà Nội  2020-04-01 05:48:42 1991-06-20 2020-04-01 05:48:42 29.00\n",
       "591  377314  1,255,000.00     50,000.00  1991-07-04    Male    Đồng Nai  2020-04-01 12:11:27 1991-07-04 2020-04-01 12:11:27 29.00\n",
       "723  377446    200,000.00  1,000,000.00  1995-07-12  Female     Cần Thơ  2020-04-01 13:16:39 1995-07-12 2020-04-01 13:16:39 25.00"
      ]
     },
     "execution_count": 40,
     "metadata": {},
     "output_type": "execute_result"
    }
   ],
   "source": [
    "finhay_full.head()"
   ]
  },
  {
   "cell_type": "code",
   "execution_count": 41,
   "metadata": {},
   "outputs": [
    {
     "data": {
      "text/html": [
       "<div>\n",
       "<style scoped>\n",
       "    .dataframe tbody tr th:only-of-type {\n",
       "        vertical-align: middle;\n",
       "    }\n",
       "\n",
       "    .dataframe tbody tr th {\n",
       "        vertical-align: top;\n",
       "    }\n",
       "\n",
       "    .dataframe thead th {\n",
       "        text-align: right;\n",
       "    }\n",
       "</style>\n",
       "<table border=\"1\" class=\"dataframe\">\n",
       "  <thead>\n",
       "    <tr style=\"text-align: right;\">\n",
       "      <th></th>\n",
       "      <th>ID</th>\n",
       "      <th>Invest</th>\n",
       "      <th>Saving</th>\n",
       "      <th>age</th>\n",
       "    </tr>\n",
       "  </thead>\n",
       "  <tbody>\n",
       "    <tr>\n",
       "      <th>count</th>\n",
       "      <td>3,347.00</td>\n",
       "      <td>3,347.00</td>\n",
       "      <td>3,347.00</td>\n",
       "      <td>3,347.00</td>\n",
       "    </tr>\n",
       "    <tr>\n",
       "      <th>mean</th>\n",
       "      <td>428,418.12</td>\n",
       "      <td>5,709,274.43</td>\n",
       "      <td>19,804,818.14</td>\n",
       "      <td>27.19</td>\n",
       "    </tr>\n",
       "    <tr>\n",
       "      <th>std</th>\n",
       "      <td>26,192.86</td>\n",
       "      <td>20,109,662.77</td>\n",
       "      <td>57,596,058.28</td>\n",
       "      <td>5.66</td>\n",
       "    </tr>\n",
       "    <tr>\n",
       "      <th>min</th>\n",
       "      <td>376,751.00</td>\n",
       "      <td>1,014.00</td>\n",
       "      <td>47,800.00</td>\n",
       "      <td>18.00</td>\n",
       "    </tr>\n",
       "    <tr>\n",
       "      <th>25%</th>\n",
       "      <td>404,571.00</td>\n",
       "      <td>400,000.00</td>\n",
       "      <td>1,500,000.00</td>\n",
       "      <td>24.00</td>\n",
       "    </tr>\n",
       "    <tr>\n",
       "      <th>50%</th>\n",
       "      <td>428,380.00</td>\n",
       "      <td>1,205,006.00</td>\n",
       "      <td>5,029,406.00</td>\n",
       "      <td>26.00</td>\n",
       "    </tr>\n",
       "    <tr>\n",
       "      <th>75%</th>\n",
       "      <td>451,336.00</td>\n",
       "      <td>5,015,000.00</td>\n",
       "      <td>15,029,803.50</td>\n",
       "      <td>30.00</td>\n",
       "    </tr>\n",
       "    <tr>\n",
       "      <th>max</th>\n",
       "      <td>472,194.00</td>\n",
       "      <td>810,000,000.00</td>\n",
       "      <td>1,294,079,149.00</td>\n",
       "      <td>72.00</td>\n",
       "    </tr>\n",
       "  </tbody>\n",
       "</table>\n",
       "</div>"
      ],
      "text/plain": [
       "              ID         Invest           Saving      age\n",
       "count   3,347.00       3,347.00         3,347.00 3,347.00\n",
       "mean  428,418.12   5,709,274.43    19,804,818.14    27.19\n",
       "std    26,192.86  20,109,662.77    57,596,058.28     5.66\n",
       "min   376,751.00       1,014.00        47,800.00    18.00\n",
       "25%   404,571.00     400,000.00     1,500,000.00    24.00\n",
       "50%   428,380.00   1,205,006.00     5,029,406.00    26.00\n",
       "75%   451,336.00   5,015,000.00    15,029,803.50    30.00\n",
       "max   472,194.00 810,000,000.00 1,294,079,149.00    72.00"
      ]
     },
     "execution_count": 41,
     "metadata": {},
     "output_type": "execute_result"
    }
   ],
   "source": [
    "finhay_full.describe()"
   ]
  },
  {
   "cell_type": "code",
   "execution_count": 50,
   "metadata": {},
   "outputs": [],
   "source": [
    "finhay_full['age'] = finhay_full['age'].astype(int)"
   ]
  },
  {
   "cell_type": "code",
   "execution_count": 52,
   "metadata": {},
   "outputs": [
    {
     "data": {
      "text/plain": [
       "<matplotlib.axes._subplots.AxesSubplot at 0x7fce20c107d0>"
      ]
     },
     "execution_count": 52,
     "metadata": {},
     "output_type": "execute_result"
    },
    {
     "data": {
      "image/png": "[encoded data removed]",
      "text/plain": [
       "<Figure size 432x288 with 1 Axes>"
      ]
     },
     "metadata": {
      "needs_background": "light"
     },
     "output_type": "display_data"
    }
   ],
   "source": [
    "finhay_full['age'].value_counts()[0:29].sort_index().plot.bar()"
   ]
  },
  {
   "cell_type": "markdown",
   "metadata": {},
   "source": [
    "## 23 - 31 is the range age that actively participated."
   ]
  },
  {
   "cell_type": "code",
   "execution_count": 53,
   "metadata": {},
   "outputs": [
    {
     "data": {
      "text/plain": [
       "<matplotlib.axes._subplots.AxesSubplot at 0x7fce293cdb50>"
      ]
     },
     "execution_count": 53,
     "metadata": {},
     "output_type": "execute_result"
    },
    {
     "data": {
      "image/png": "[encoded data removed]",
      "text/plain": [
       "<Figure size 432x288 with 1 Axes>"
      ]
     },
     "metadata": {
      "needs_background": "light"
     },
     "output_type": "display_data"
    }
   ],
   "source": [
    "dtime=finhay_full.Date_join.dt.strftime('%Y-%m-%d')\n",
    "dtime.value_counts().sort_values().sort_index().plot( rot=90)"
   ]
  },
  {
   "cell_type": "code",
   "execution_count": 54,
   "metadata": {},
   "outputs": [
    {
     "data": {
      "text/plain": [
       "<seaborn.axisgrid.PairGrid at 0x7fce20c47d90>"
      ]
     },
     "execution_count": 54,
     "metadata": {},
     "output_type": "execute_result"
    },
    {
     "data": {
      "image/png": "[encoded data removed]",
      "text/plain": [
       "<Figure size 540x540 with 9 Axes>"
      ]
     },
     "metadata": {
      "needs_background": "light"
     },
     "output_type": "display_data"
    }
   ],
   "source": [
    "# Then you map to the grid\n",
    "g = sns.PairGrid(finhay_full[['Invest','Saving','age']])\n",
    "g.map(plt.scatter)"
   ]
  },
  {
   "cell_type": "markdown",
   "metadata": {},
   "source": [
    "## The data is quite parsed, we cannot see clear the relationships between age saving and investment."
   ]
  },
  {
   "cell_type": "code",
   "execution_count": 56,
   "metadata": {},
   "outputs": [],
   "source": [
    "grouped = finhay_full.groupby(\"Gender\")"
   ]
  },
  {
   "cell_type": "code",
   "execution_count": 57,
   "metadata": {},
   "outputs": [
    {
     "data": {
      "text/plain": [
       "Gender\n",
       "Female    2035\n",
       "Male      1312\n",
       "dtype: int64"
      ]
     },
     "execution_count": 57,
     "metadata": {},
     "output_type": "execute_result"
    }
   ],
   "source": [
    "grouped.size()"
   ]
  },
  {
   "cell_type": "code",
   "execution_count": 58,
   "metadata": {},
   "outputs": [
    {
     "name": "stdout",
     "output_type": "stream",
     "text": [
      "Female\n",
      "(2035, 10)\n",
      "<class 'pandas.core.frame.DataFrame'>\n",
      "Male\n",
      "(1312, 10)\n",
      "<class 'pandas.core.frame.DataFrame'>\n"
     ]
    }
   ],
   "source": [
    "for name, group in grouped:\n",
    "    print(name)\n",
    "    print(group.shape)\n",
    "    print(type(group))"
   ]
  },
  {
   "cell_type": "code",
   "execution_count": 59,
   "metadata": {},
   "outputs": [
    {
     "data": {
      "text/plain": [
       "Gender\n",
       "Female    2035\n",
       "Male      1312\n",
       "Name: Invest, dtype: int64"
      ]
     },
     "execution_count": 59,
     "metadata": {},
     "output_type": "execute_result"
    }
   ],
   "source": [
    "grouped[\"Invest\"].size()"
   ]
  },
  {
   "cell_type": "code",
   "execution_count": 60,
   "metadata": {},
   "outputs": [
    {
     "data": {
      "text/plain": [
       "<matplotlib.axes._subplots.AxesSubplot at 0x7fce61a2d1d0>"
      ]
     },
     "execution_count": 60,
     "metadata": {},
     "output_type": "execute_result"
    },
    {
     "data": {
      "image/png": "[encoded data removed]",
      "text/plain": [
       "<Figure size 432x288 with 1 Axes>"
      ]
     },
     "metadata": {
      "needs_background": "light"
     },
     "output_type": "display_data"
    }
   ],
   "source": [
    "invest = grouped[\"Invest\"].agg(np.mean)\n",
    "invest.plot(kind=\"bar\")"
   ]
  },
  {
   "cell_type": "code",
   "execution_count": 61,
   "metadata": {},
   "outputs": [
    {
     "data": {
      "text/plain": [
       "<matplotlib.axes._subplots.AxesSubplot at 0x7fce61c1dad0>"
      ]
     },
     "execution_count": 61,
     "metadata": {},
     "output_type": "execute_result"
    },
    {
     "data": {
      "image/png": "[encoded data removed]",
      "text/plain": [
       "<Figure size 432x288 with 1 Axes>"
      ]
     },
     "metadata": {
      "needs_background": "light"
     },
     "output_type": "display_data"
    }
   ],
   "source": [
    "saving = grouped[\"Saving\"].agg(np.mean)\n",
    "saving.plot(kind=\"bar\")"
   ]
  },
  {
   "cell_type": "code",
   "execution_count": 62,
   "metadata": {},
   "outputs": [],
   "source": [
    "group = finhay_full.groupby([\"Gender\",\"age\"])"
   ]
  },
  {
   "cell_type": "code",
   "execution_count": 143,
   "metadata": {},
   "outputs": [],
   "source": [
    "import numpy as np\n",
    "def trimmean(arr, percent=0.1):\n",
    "    n = len(arr)\n",
    "    k = int(round(n*(float(percent)/100)/2))\n",
    "    return np.mean(arr[k+1:n-k])"
   ]
  },
  {
   "cell_type": "code",
   "execution_count": 215,
   "metadata": {},
   "outputs": [
    {
     "data": {
      "text/html": [
       "<div>\n",
       "<style scoped>\n",
       "    .dataframe tbody tr th:only-of-type {\n",
       "        vertical-align: middle;\n",
       "    }\n",
       "\n",
       "    .dataframe tbody tr th {\n",
       "        vertical-align: top;\n",
       "    }\n",
       "\n",
       "    .dataframe thead th {\n",
       "        text-align: right;\n",
       "    }\n",
       "</style>\n",
       "<table border=\"1\" class=\"dataframe\">\n",
       "  <thead>\n",
       "    <tr style=\"text-align: right;\">\n",
       "      <th></th>\n",
       "      <th></th>\n",
       "      <th>trimmean</th>\n",
       "      <th>sum</th>\n",
       "      <th>std</th>\n",
       "    </tr>\n",
       "    <tr>\n",
       "      <th>Gender</th>\n",
       "      <th>age</th>\n",
       "      <th></th>\n",
       "      <th></th>\n",
       "      <th></th>\n",
       "    </tr>\n",
       "  </thead>\n",
       "  <tbody>\n",
       "    <tr>\n",
       "      <th>Female</th>\n",
       "      <th>30</th>\n",
       "      <td>12,183,500.20</td>\n",
       "      <td>1,305,134,521.00</td>\n",
       "      <td>77,942,254.54</td>\n",
       "    </tr>\n",
       "    <tr>\n",
       "      <th rowspan=\"2\" valign=\"top\">Male</th>\n",
       "      <th>29</th>\n",
       "      <td>12,079,698.58</td>\n",
       "      <td>1,167,583,530.00</td>\n",
       "      <td>28,183,939.07</td>\n",
       "    </tr>\n",
       "    <tr>\n",
       "      <th>27</th>\n",
       "      <td>9,883,086.35</td>\n",
       "      <td>1,127,462,739.00</td>\n",
       "      <td>27,091,810.38</td>\n",
       "    </tr>\n",
       "    <tr>\n",
       "      <th>Female</th>\n",
       "      <th>25</th>\n",
       "      <td>4,604,995.39</td>\n",
       "      <td>925,804,073.00</td>\n",
       "      <td>12,268,474.66</td>\n",
       "    </tr>\n",
       "    <tr>\n",
       "      <th rowspan=\"2\" valign=\"top\">Male</th>\n",
       "      <th>28</th>\n",
       "      <td>7,715,882.00</td>\n",
       "      <td>872,194,666.00</td>\n",
       "      <td>16,865,962.68</td>\n",
       "    </tr>\n",
       "    <tr>\n",
       "      <th>26</th>\n",
       "      <td>7,084,031.93</td>\n",
       "      <td>815,105,608.00</td>\n",
       "      <td>18,274,991.12</td>\n",
       "    </tr>\n",
       "    <tr>\n",
       "      <th>Female</th>\n",
       "      <th>28</th>\n",
       "      <td>5,406,428.99</td>\n",
       "      <td>784,032,204.00</td>\n",
       "      <td>8,961,947.73</td>\n",
       "    </tr>\n",
       "    <tr>\n",
       "      <th rowspan=\"2\" valign=\"top\">Male</th>\n",
       "      <th>32</th>\n",
       "      <td>17,522,469.29</td>\n",
       "      <td>722,421,241.00</td>\n",
       "      <td>47,297,710.78</td>\n",
       "    </tr>\n",
       "    <tr>\n",
       "      <th>25</th>\n",
       "      <td>6,657,394.91</td>\n",
       "      <td>699,076,476.00</td>\n",
       "      <td>19,892,123.31</td>\n",
       "    </tr>\n",
       "    <tr>\n",
       "      <th rowspan=\"5\" valign=\"top\">Female</th>\n",
       "      <th>31</th>\n",
       "      <td>6,614,683.66</td>\n",
       "      <td>668,483,050.00</td>\n",
       "      <td>15,414,499.67</td>\n",
       "    </tr>\n",
       "    <tr>\n",
       "      <th>27</th>\n",
       "      <td>3,841,539.30</td>\n",
       "      <td>660,944,759.00</td>\n",
       "      <td>7,148,165.80</td>\n",
       "    </tr>\n",
       "    <tr>\n",
       "      <th>29</th>\n",
       "      <td>4,301,373.59</td>\n",
       "      <td>629,005,544.00</td>\n",
       "      <td>7,905,202.58</td>\n",
       "    </tr>\n",
       "    <tr>\n",
       "      <th>24</th>\n",
       "      <td>3,011,146.96</td>\n",
       "      <td>616,062,832.00</td>\n",
       "      <td>4,455,847.42</td>\n",
       "    </tr>\n",
       "    <tr>\n",
       "      <th>26</th>\n",
       "      <td>3,552,717.53</td>\n",
       "      <td>538,207,630.00</td>\n",
       "      <td>5,195,111.62</td>\n",
       "    </tr>\n",
       "    <tr>\n",
       "      <th>Male</th>\n",
       "      <th>31</th>\n",
       "      <td>9,296,448.38</td>\n",
       "      <td>521,601,109.00</td>\n",
       "      <td>18,700,548.72</td>\n",
       "    </tr>\n",
       "    <tr>\n",
       "      <th>Female</th>\n",
       "      <th>23</th>\n",
       "      <td>2,943,859.45</td>\n",
       "      <td>497,629,528.00</td>\n",
       "      <td>5,687,129.68</td>\n",
       "    </tr>\n",
       "    <tr>\n",
       "      <th rowspan=\"2\" valign=\"top\">Male</th>\n",
       "      <th>30</th>\n",
       "      <td>6,390,874.60</td>\n",
       "      <td>497,067,344.00</td>\n",
       "      <td>14,133,381.19</td>\n",
       "    </tr>\n",
       "    <tr>\n",
       "      <th>24</th>\n",
       "      <td>4,052,712.91</td>\n",
       "      <td>425,684,856.00</td>\n",
       "      <td>6,365,378.70</td>\n",
       "    </tr>\n",
       "    <tr>\n",
       "      <th>Female</th>\n",
       "      <th>21</th>\n",
       "      <td>3,631,638.84</td>\n",
       "      <td>397,821,995.00</td>\n",
       "      <td>11,545,929.79</td>\n",
       "    </tr>\n",
       "    <tr>\n",
       "      <th>Male</th>\n",
       "      <th>37</th>\n",
       "      <td>13,400,202.38</td>\n",
       "      <td>348,637,182.00</td>\n",
       "      <td>25,326,095.05</td>\n",
       "    </tr>\n",
       "  </tbody>\n",
       "</table>\n",
       "</div>"
      ],
      "text/plain": [
       "                trimmean              sum           std\n",
       "Gender age                                             \n",
       "Female 30  12,183,500.20 1,305,134,521.00 77,942,254.54\n",
       "Male   29  12,079,698.58 1,167,583,530.00 28,183,939.07\n",
       "       27   9,883,086.35 1,127,462,739.00 27,091,810.38\n",
       "Female 25   4,604,995.39   925,804,073.00 12,268,474.66\n",
       "Male   28   7,715,882.00   872,194,666.00 16,865,962.68\n",
       "       26   7,084,031.93   815,105,608.00 18,274,991.12\n",
       "Female 28   5,406,428.99   784,032,204.00  8,961,947.73\n",
       "Male   32  17,522,469.29   722,421,241.00 47,297,710.78\n",
       "       25   6,657,394.91   699,076,476.00 19,892,123.31\n",
       "Female 31   6,614,683.66   668,483,050.00 15,414,499.67\n",
       "       27   3,841,539.30   660,944,759.00  7,148,165.80\n",
       "       29   4,301,373.59   629,005,544.00  7,905,202.58\n",
       "       24   3,011,146.96   616,062,832.00  4,455,847.42\n",
       "       26   3,552,717.53   538,207,630.00  5,195,111.62\n",
       "Male   31   9,296,448.38   521,601,109.00 18,700,548.72\n",
       "Female 23   2,943,859.45   497,629,528.00  5,687,129.68\n",
       "Male   30   6,390,874.60   497,067,344.00 14,133,381.19\n",
       "       24   4,052,712.91   425,684,856.00  6,365,378.70\n",
       "Female 21   3,631,638.84   397,821,995.00 11,545,929.79\n",
       "Male   37  13,400,202.38   348,637,182.00 25,326,095.05"
      ]
     },
     "execution_count": 215,
     "metadata": {},
     "output_type": "execute_result"
    }
   ],
   "source": [
    "group[\"Invest\"].agg([trimmean, np.sum, np.std]).sort_values(\"sum\",ascending = False)[0:20]"
   ]
  },
  {
   "cell_type": "code",
   "execution_count": 216,
   "metadata": {},
   "outputs": [
    {
     "data": {
      "text/html": [
       "<div>\n",
       "<style scoped>\n",
       "    .dataframe tbody tr th:only-of-type {\n",
       "        vertical-align: middle;\n",
       "    }\n",
       "\n",
       "    .dataframe tbody tr th {\n",
       "        vertical-align: top;\n",
       "    }\n",
       "\n",
       "    .dataframe thead th {\n",
       "        text-align: right;\n",
       "    }\n",
       "</style>\n",
       "<table border=\"1\" class=\"dataframe\">\n",
       "  <thead>\n",
       "    <tr style=\"text-align: right;\">\n",
       "      <th></th>\n",
       "      <th></th>\n",
       "      <th>mean</th>\n",
       "      <th>sum</th>\n",
       "      <th>std</th>\n",
       "    </tr>\n",
       "    <tr>\n",
       "      <th>Gender</th>\n",
       "      <th>age</th>\n",
       "      <th></th>\n",
       "      <th></th>\n",
       "      <th></th>\n",
       "    </tr>\n",
       "  </thead>\n",
       "  <tbody>\n",
       "    <tr>\n",
       "      <th>Female</th>\n",
       "      <th>30</th>\n",
       "      <td>12,084,578.90</td>\n",
       "      <td>1,305,134,521.00</td>\n",
       "      <td>77,942,254.54</td>\n",
       "    </tr>\n",
       "    <tr>\n",
       "      <th rowspan=\"2\" valign=\"top\">Male</th>\n",
       "      <th>29</th>\n",
       "      <td>12,162,328.44</td>\n",
       "      <td>1,167,583,530.00</td>\n",
       "      <td>28,183,939.07</td>\n",
       "    </tr>\n",
       "    <tr>\n",
       "      <th>27</th>\n",
       "      <td>10,439,469.81</td>\n",
       "      <td>1,127,462,739.00</td>\n",
       "      <td>27,091,810.38</td>\n",
       "    </tr>\n",
       "    <tr>\n",
       "      <th>Female</th>\n",
       "      <th>25</th>\n",
       "      <td>4,583,188.48</td>\n",
       "      <td>925,804,073.00</td>\n",
       "      <td>12,268,474.66</td>\n",
       "    </tr>\n",
       "    <tr>\n",
       "      <th rowspan=\"2\" valign=\"top\">Male</th>\n",
       "      <th>28</th>\n",
       "      <td>7,650,830.40</td>\n",
       "      <td>872,194,666.00</td>\n",
       "      <td>16,865,962.68</td>\n",
       "    </tr>\n",
       "    <tr>\n",
       "      <th>26</th>\n",
       "      <td>7,150,049.19</td>\n",
       "      <td>815,105,608.00</td>\n",
       "      <td>18,274,991.12</td>\n",
       "    </tr>\n",
       "    <tr>\n",
       "      <th>Female</th>\n",
       "      <th>28</th>\n",
       "      <td>5,370,083.59</td>\n",
       "      <td>784,032,204.00</td>\n",
       "      <td>8,961,947.73</td>\n",
       "    </tr>\n",
       "    <tr>\n",
       "      <th rowspan=\"2\" valign=\"top\">Male</th>\n",
       "      <th>32</th>\n",
       "      <td>17,200,505.74</td>\n",
       "      <td>722,421,241.00</td>\n",
       "      <td>47,297,710.78</td>\n",
       "    </tr>\n",
       "    <tr>\n",
       "      <th>25</th>\n",
       "      <td>6,595,061.09</td>\n",
       "      <td>699,076,476.00</td>\n",
       "      <td>19,892,123.31</td>\n",
       "    </tr>\n",
       "    <tr>\n",
       "      <th rowspan=\"5\" valign=\"top\">Female</th>\n",
       "      <th>31</th>\n",
       "      <td>6,553,755.39</td>\n",
       "      <td>668,483,050.00</td>\n",
       "      <td>15,414,499.67</td>\n",
       "    </tr>\n",
       "    <tr>\n",
       "      <th>27</th>\n",
       "      <td>3,820,489.94</td>\n",
       "      <td>660,944,759.00</td>\n",
       "      <td>7,148,165.80</td>\n",
       "    </tr>\n",
       "    <tr>\n",
       "      <th>29</th>\n",
       "      <td>4,278,949.28</td>\n",
       "      <td>629,005,544.00</td>\n",
       "      <td>7,905,202.58</td>\n",
       "    </tr>\n",
       "    <tr>\n",
       "      <th>24</th>\n",
       "      <td>3,019,915.84</td>\n",
       "      <td>616,062,832.00</td>\n",
       "      <td>4,455,847.42</td>\n",
       "    </tr>\n",
       "    <tr>\n",
       "      <th>26</th>\n",
       "      <td>3,564,288.94</td>\n",
       "      <td>538,207,630.00</td>\n",
       "      <td>5,195,111.62</td>\n",
       "    </tr>\n",
       "    <tr>\n",
       "      <th>Male</th>\n",
       "      <th>31</th>\n",
       "      <td>9,150,896.65</td>\n",
       "      <td>521,601,109.00</td>\n",
       "      <td>18,700,548.72</td>\n",
       "    </tr>\n",
       "    <tr>\n",
       "      <th>Female</th>\n",
       "      <th>23</th>\n",
       "      <td>2,962,080.52</td>\n",
       "      <td>497,629,528.00</td>\n",
       "      <td>5,687,129.68</td>\n",
       "    </tr>\n",
       "    <tr>\n",
       "      <th rowspan=\"2\" valign=\"top\">Male</th>\n",
       "      <th>30</th>\n",
       "      <td>6,372,658.26</td>\n",
       "      <td>497,067,344.00</td>\n",
       "      <td>14,133,381.19</td>\n",
       "    </tr>\n",
       "    <tr>\n",
       "      <th>24</th>\n",
       "      <td>4,015,894.87</td>\n",
       "      <td>425,684,856.00</td>\n",
       "      <td>6,365,378.70</td>\n",
       "    </tr>\n",
       "    <tr>\n",
       "      <th>Female</th>\n",
       "      <th>21</th>\n",
       "      <td>3,649,743.07</td>\n",
       "      <td>397,821,995.00</td>\n",
       "      <td>11,545,929.79</td>\n",
       "    </tr>\n",
       "    <tr>\n",
       "      <th>Male</th>\n",
       "      <th>37</th>\n",
       "      <td>12,912,488.22</td>\n",
       "      <td>348,637,182.00</td>\n",
       "      <td>25,326,095.05</td>\n",
       "    </tr>\n",
       "  </tbody>\n",
       "</table>\n",
       "</div>"
      ],
      "text/plain": [
       "                    mean              sum           std\n",
       "Gender age                                             \n",
       "Female 30  12,084,578.90 1,305,134,521.00 77,942,254.54\n",
       "Male   29  12,162,328.44 1,167,583,530.00 28,183,939.07\n",
       "       27  10,439,469.81 1,127,462,739.00 27,091,810.38\n",
       "Female 25   4,583,188.48   925,804,073.00 12,268,474.66\n",
       "Male   28   7,650,830.40   872,194,666.00 16,865,962.68\n",
       "       26   7,150,049.19   815,105,608.00 18,274,991.12\n",
       "Female 28   5,370,083.59   784,032,204.00  8,961,947.73\n",
       "Male   32  17,200,505.74   722,421,241.00 47,297,710.78\n",
       "       25   6,595,061.09   699,076,476.00 19,892,123.31\n",
       "Female 31   6,553,755.39   668,483,050.00 15,414,499.67\n",
       "       27   3,820,489.94   660,944,759.00  7,148,165.80\n",
       "       29   4,278,949.28   629,005,544.00  7,905,202.58\n",
       "       24   3,019,915.84   616,062,832.00  4,455,847.42\n",
       "       26   3,564,288.94   538,207,630.00  5,195,111.62\n",
       "Male   31   9,150,896.65   521,601,109.00 18,700,548.72\n",
       "Female 23   2,962,080.52   497,629,528.00  5,687,129.68\n",
       "Male   30   6,372,658.26   497,067,344.00 14,133,381.19\n",
       "       24   4,015,894.87   425,684,856.00  6,365,378.70\n",
       "Female 21   3,649,743.07   397,821,995.00 11,545,929.79\n",
       "Male   37  12,912,488.22   348,637,182.00 25,326,095.05"
      ]
     },
     "execution_count": 216,
     "metadata": {},
     "output_type": "execute_result"
    }
   ],
   "source": [
    "group[\"Invest\"].agg([np.mean, np.sum, np.std]).sort_values(\"sum\",ascending = False)[0:20]"
   ]
  },
  {
   "cell_type": "code",
   "execution_count": 211,
   "metadata": {},
   "outputs": [
    {
     "data": {
      "text/html": [
       "<div>\n",
       "<style scoped>\n",
       "    .dataframe tbody tr th:only-of-type {\n",
       "        vertical-align: middle;\n",
       "    }\n",
       "\n",
       "    .dataframe tbody tr th {\n",
       "        vertical-align: top;\n",
       "    }\n",
       "\n",
       "    .dataframe thead th {\n",
       "        text-align: right;\n",
       "    }\n",
       "</style>\n",
       "<table border=\"1\" class=\"dataframe\">\n",
       "  <thead>\n",
       "    <tr style=\"text-align: right;\">\n",
       "      <th></th>\n",
       "      <th></th>\n",
       "      <th>mean</th>\n",
       "      <th>sum</th>\n",
       "      <th>std</th>\n",
       "    </tr>\n",
       "    <tr>\n",
       "      <th>Gender</th>\n",
       "      <th>age</th>\n",
       "      <th></th>\n",
       "      <th></th>\n",
       "      <th></th>\n",
       "    </tr>\n",
       "  </thead>\n",
       "  <tbody>\n",
       "    <tr>\n",
       "      <th>Male</th>\n",
       "      <th>27</th>\n",
       "      <td>48,858,387.54</td>\n",
       "      <td>5,276,705,854.00</td>\n",
       "      <td>148,535,847.97</td>\n",
       "    </tr>\n",
       "    <tr>\n",
       "      <th rowspan=\"2\" valign=\"top\">Female</th>\n",
       "      <th>25</th>\n",
       "      <td>17,892,384.49</td>\n",
       "      <td>3,614,261,666.00</td>\n",
       "      <td>48,909,681.34</td>\n",
       "    </tr>\n",
       "    <tr>\n",
       "      <th>30</th>\n",
       "      <td>28,560,228.90</td>\n",
       "      <td>3,084,504,721.00</td>\n",
       "      <td>94,116,111.20</td>\n",
       "    </tr>\n",
       "    <tr>\n",
       "      <th rowspan=\"2\" valign=\"top\">Male</th>\n",
       "      <th>29</th>\n",
       "      <td>30,510,446.89</td>\n",
       "      <td>2,929,002,901.00</td>\n",
       "      <td>70,694,713.37</td>\n",
       "    </tr>\n",
       "    <tr>\n",
       "      <th>31</th>\n",
       "      <td>50,562,045.40</td>\n",
       "      <td>2,882,036,588.00</td>\n",
       "      <td>115,396,363.77</td>\n",
       "    </tr>\n",
       "    <tr>\n",
       "      <th rowspan=\"6\" valign=\"top\">Female</th>\n",
       "      <th>27</th>\n",
       "      <td>16,233,448.24</td>\n",
       "      <td>2,808,386,546.00</td>\n",
       "      <td>26,856,909.79</td>\n",
       "    </tr>\n",
       "    <tr>\n",
       "      <th>31</th>\n",
       "      <td>27,042,900.14</td>\n",
       "      <td>2,758,375,814.00</td>\n",
       "      <td>43,786,671.14</td>\n",
       "    </tr>\n",
       "    <tr>\n",
       "      <th>29</th>\n",
       "      <td>17,526,418.82</td>\n",
       "      <td>2,576,383,567.00</td>\n",
       "      <td>23,957,653.40</td>\n",
       "    </tr>\n",
       "    <tr>\n",
       "      <th>28</th>\n",
       "      <td>17,307,330.99</td>\n",
       "      <td>2,526,870,325.00</td>\n",
       "      <td>35,713,682.92</td>\n",
       "    </tr>\n",
       "    <tr>\n",
       "      <th>26</th>\n",
       "      <td>16,449,275.84</td>\n",
       "      <td>2,483,840,652.00</td>\n",
       "      <td>40,074,694.06</td>\n",
       "    </tr>\n",
       "    <tr>\n",
       "      <th>24</th>\n",
       "      <td>11,879,251.48</td>\n",
       "      <td>2,423,367,301.00</td>\n",
       "      <td>22,899,241.86</td>\n",
       "    </tr>\n",
       "    <tr>\n",
       "      <th rowspan=\"3\" valign=\"top\">Male</th>\n",
       "      <th>26</th>\n",
       "      <td>19,456,584.36</td>\n",
       "      <td>2,218,050,617.00</td>\n",
       "      <td>39,833,675.95</td>\n",
       "    </tr>\n",
       "    <tr>\n",
       "      <th>28</th>\n",
       "      <td>18,702,127.82</td>\n",
       "      <td>2,132,042,572.00</td>\n",
       "      <td>38,767,119.64</td>\n",
       "    </tr>\n",
       "    <tr>\n",
       "      <th>30</th>\n",
       "      <td>21,791,803.68</td>\n",
       "      <td>1,699,760,687.00</td>\n",
       "      <td>47,499,552.51</td>\n",
       "    </tr>\n",
       "    <tr>\n",
       "      <th>Female</th>\n",
       "      <th>23</th>\n",
       "      <td>9,779,105.12</td>\n",
       "      <td>1,642,889,661.00</td>\n",
       "      <td>27,298,875.48</td>\n",
       "    </tr>\n",
       "    <tr>\n",
       "      <th>Male</th>\n",
       "      <th>25</th>\n",
       "      <td>13,321,639.01</td>\n",
       "      <td>1,412,093,735.00</td>\n",
       "      <td>19,886,965.28</td>\n",
       "    </tr>\n",
       "    <tr>\n",
       "      <th rowspan=\"2\" valign=\"top\">Female</th>\n",
       "      <th>33</th>\n",
       "      <td>31,127,559.07</td>\n",
       "      <td>1,307,357,481.00</td>\n",
       "      <td>67,301,560.79</td>\n",
       "    </tr>\n",
       "    <tr>\n",
       "      <th>20</th>\n",
       "      <td>12,266,243.67</td>\n",
       "      <td>1,238,890,611.00</td>\n",
       "      <td>58,560,372.37</td>\n",
       "    </tr>\n",
       "    <tr>\n",
       "      <th rowspan=\"3\" valign=\"top\">Male</th>\n",
       "      <th>24</th>\n",
       "      <td>11,464,898.07</td>\n",
       "      <td>1,215,279,195.00</td>\n",
       "      <td>22,846,542.52</td>\n",
       "    </tr>\n",
       "    <tr>\n",
       "      <th>38</th>\n",
       "      <td>150,854,544.25</td>\n",
       "      <td>1,206,836,354.00</td>\n",
       "      <td>349,678,150.54</td>\n",
       "    </tr>\n",
       "    <tr>\n",
       "      <th>32</th>\n",
       "      <td>27,244,390.21</td>\n",
       "      <td>1,144,264,389.00</td>\n",
       "      <td>51,629,043.48</td>\n",
       "    </tr>\n",
       "    <tr>\n",
       "      <th rowspan=\"3\" valign=\"top\">Female</th>\n",
       "      <th>21</th>\n",
       "      <td>9,997,998.00</td>\n",
       "      <td>1,089,781,782.00</td>\n",
       "      <td>21,826,925.70</td>\n",
       "    </tr>\n",
       "    <tr>\n",
       "      <th>22</th>\n",
       "      <td>9,046,500.70</td>\n",
       "      <td>986,068,576.00</td>\n",
       "      <td>12,313,470.96</td>\n",
       "    </tr>\n",
       "    <tr>\n",
       "      <th>32</th>\n",
       "      <td>20,010,266.57</td>\n",
       "      <td>980,503,062.00</td>\n",
       "      <td>37,502,572.16</td>\n",
       "    </tr>\n",
       "    <tr>\n",
       "      <th rowspan=\"3\" valign=\"top\">Male</th>\n",
       "      <th>34</th>\n",
       "      <td>32,018,323.23</td>\n",
       "      <td>960,549,697.00</td>\n",
       "      <td>92,162,539.71</td>\n",
       "    </tr>\n",
       "    <tr>\n",
       "      <th>35</th>\n",
       "      <td>41,464,836.18</td>\n",
       "      <td>912,226,396.00</td>\n",
       "      <td>55,661,681.96</td>\n",
       "    </tr>\n",
       "    <tr>\n",
       "      <th>23</th>\n",
       "      <td>10,882,436.84</td>\n",
       "      <td>903,242,258.00</td>\n",
       "      <td>23,691,846.74</td>\n",
       "    </tr>\n",
       "    <tr>\n",
       "      <th rowspan=\"4\" valign=\"top\">Female</th>\n",
       "      <th>39</th>\n",
       "      <td>134,931,207.83</td>\n",
       "      <td>809,587,247.00</td>\n",
       "      <td>287,608,446.96</td>\n",
       "    </tr>\n",
       "    <tr>\n",
       "      <th>36</th>\n",
       "      <td>29,266,354.11</td>\n",
       "      <td>790,191,561.00</td>\n",
       "      <td>48,517,897.93</td>\n",
       "    </tr>\n",
       "    <tr>\n",
       "      <th>35</th>\n",
       "      <td>45,211,354.88</td>\n",
       "      <td>768,593,033.00</td>\n",
       "      <td>80,383,658.64</td>\n",
       "    </tr>\n",
       "    <tr>\n",
       "      <th>41</th>\n",
       "      <td>75,333,987.40</td>\n",
       "      <td>753,339,874.00</td>\n",
       "      <td>138,056,429.09</td>\n",
       "    </tr>\n",
       "    <tr>\n",
       "      <th rowspan=\"2\" valign=\"top\">Male</th>\n",
       "      <th>33</th>\n",
       "      <td>16,135,037.46</td>\n",
       "      <td>629,266,461.00</td>\n",
       "      <td>28,214,286.16</td>\n",
       "    </tr>\n",
       "    <tr>\n",
       "      <th>37</th>\n",
       "      <td>23,004,156.37</td>\n",
       "      <td>621,112,222.00</td>\n",
       "      <td>39,012,616.62</td>\n",
       "    </tr>\n",
       "    <tr>\n",
       "      <th>Female</th>\n",
       "      <th>34</th>\n",
       "      <td>24,196,705.84</td>\n",
       "      <td>604,917,646.00</td>\n",
       "      <td>57,750,622.71</td>\n",
       "    </tr>\n",
       "    <tr>\n",
       "      <th rowspan=\"2\" valign=\"top\">Male</th>\n",
       "      <th>40</th>\n",
       "      <td>40,128,413.87</td>\n",
       "      <td>601,926,208.00</td>\n",
       "      <td>100,915,713.42</td>\n",
       "    </tr>\n",
       "    <tr>\n",
       "      <th>43</th>\n",
       "      <td>96,904,467.00</td>\n",
       "      <td>581,426,802.00</td>\n",
       "      <td>196,291,255.89</td>\n",
       "    </tr>\n",
       "    <tr>\n",
       "      <th>Female</th>\n",
       "      <th>40</th>\n",
       "      <td>88,624,633.83</td>\n",
       "      <td>531,747,803.00</td>\n",
       "      <td>201,766,806.22</td>\n",
       "    </tr>\n",
       "    <tr>\n",
       "      <th>Male</th>\n",
       "      <th>36</th>\n",
       "      <td>16,381,144.42</td>\n",
       "      <td>425,909,755.00</td>\n",
       "      <td>19,894,320.60</td>\n",
       "    </tr>\n",
       "    <tr>\n",
       "      <th>Female</th>\n",
       "      <th>46</th>\n",
       "      <td>66,869,028.67</td>\n",
       "      <td>401,214,172.00</td>\n",
       "      <td>118,158,019.36</td>\n",
       "    </tr>\n",
       "    <tr>\n",
       "      <th>Male</th>\n",
       "      <th>48</th>\n",
       "      <td>71,584,836.80</td>\n",
       "      <td>357,924,184.00</td>\n",
       "      <td>88,316,337.39</td>\n",
       "    </tr>\n",
       "    <tr>\n",
       "      <th>Female</th>\n",
       "      <th>38</th>\n",
       "      <td>29,261,548.17</td>\n",
       "      <td>351,138,578.00</td>\n",
       "      <td>37,168,677.65</td>\n",
       "    </tr>\n",
       "    <tr>\n",
       "      <th rowspan=\"4\" valign=\"top\">Male</th>\n",
       "      <th>22</th>\n",
       "      <td>7,711,775.67</td>\n",
       "      <td>323,894,578.00</td>\n",
       "      <td>14,554,429.25</td>\n",
       "    </tr>\n",
       "    <tr>\n",
       "      <th>19</th>\n",
       "      <td>8,157,360.03</td>\n",
       "      <td>309,979,681.00</td>\n",
       "      <td>22,541,464.08</td>\n",
       "    </tr>\n",
       "    <tr>\n",
       "      <th>39</th>\n",
       "      <td>24,127,890.50</td>\n",
       "      <td>289,534,686.00</td>\n",
       "      <td>36,088,464.14</td>\n",
       "    </tr>\n",
       "    <tr>\n",
       "      <th>41</th>\n",
       "      <td>33,398,043.00</td>\n",
       "      <td>267,184,344.00</td>\n",
       "      <td>51,527,361.91</td>\n",
       "    </tr>\n",
       "    <tr>\n",
       "      <th>Female</th>\n",
       "      <th>19</th>\n",
       "      <td>4,081,225.08</td>\n",
       "      <td>261,198,405.00</td>\n",
       "      <td>7,433,235.74</td>\n",
       "    </tr>\n",
       "    <tr>\n",
       "      <th rowspan=\"2\" valign=\"top\">Male</th>\n",
       "      <th>20</th>\n",
       "      <td>5,185,965.35</td>\n",
       "      <td>248,926,337.00</td>\n",
       "      <td>7,098,553.70</td>\n",
       "    </tr>\n",
       "    <tr>\n",
       "      <th>21</th>\n",
       "      <td>5,452,540.93</td>\n",
       "      <td>239,911,801.00</td>\n",
       "      <td>9,123,925.38</td>\n",
       "    </tr>\n",
       "    <tr>\n",
       "      <th rowspan=\"3\" valign=\"top\">Female</th>\n",
       "      <th>49</th>\n",
       "      <td>111,252,504.50</td>\n",
       "      <td>222,505,009.00</td>\n",
       "      <td>146,862,536.55</td>\n",
       "    </tr>\n",
       "    <tr>\n",
       "      <th>42</th>\n",
       "      <td>34,442,884.67</td>\n",
       "      <td>206,657,308.00</td>\n",
       "      <td>57,513,405.40</td>\n",
       "    </tr>\n",
       "    <tr>\n",
       "      <th>43</th>\n",
       "      <td>40,296,501.80</td>\n",
       "      <td>201,482,509.00</td>\n",
       "      <td>47,403,380.89</td>\n",
       "    </tr>\n",
       "    <tr>\n",
       "      <th>Male</th>\n",
       "      <th>42</th>\n",
       "      <td>22,682,904.38</td>\n",
       "      <td>181,463,235.00</td>\n",
       "      <td>38,133,352.05</td>\n",
       "    </tr>\n",
       "    <tr>\n",
       "      <th>Female</th>\n",
       "      <th>56</th>\n",
       "      <td>100,000,000.00</td>\n",
       "      <td>100,000,000.00</td>\n",
       "      <td>NaN</td>\n",
       "    </tr>\n",
       "    <tr>\n",
       "      <th rowspan=\"2\" valign=\"top\">Male</th>\n",
       "      <th>52</th>\n",
       "      <td>93,000,000.00</td>\n",
       "      <td>93,000,000.00</td>\n",
       "      <td>NaN</td>\n",
       "    </tr>\n",
       "    <tr>\n",
       "      <th>45</th>\n",
       "      <td>22,782,423.00</td>\n",
       "      <td>91,129,692.00</td>\n",
       "      <td>17,824,926.52</td>\n",
       "    </tr>\n",
       "    <tr>\n",
       "      <th rowspan=\"6\" valign=\"top\">Female</th>\n",
       "      <th>18</th>\n",
       "      <td>9,080,087.44</td>\n",
       "      <td>81,720,787.00</td>\n",
       "      <td>16,232,107.81</td>\n",
       "    </tr>\n",
       "    <tr>\n",
       "      <th>37</th>\n",
       "      <td>6,657,506.50</td>\n",
       "      <td>79,890,078.00</td>\n",
       "      <td>8,162,453.09</td>\n",
       "    </tr>\n",
       "    <tr>\n",
       "      <th>44</th>\n",
       "      <td>20,944,537.33</td>\n",
       "      <td>62,833,612.00</td>\n",
       "      <td>5,170,651.38</td>\n",
       "    </tr>\n",
       "    <tr>\n",
       "      <th>52</th>\n",
       "      <td>51,050,000.00</td>\n",
       "      <td>51,050,000.00</td>\n",
       "      <td>NaN</td>\n",
       "    </tr>\n",
       "    <tr>\n",
       "      <th>53</th>\n",
       "      <td>50,334,409.00</td>\n",
       "      <td>50,334,409.00</td>\n",
       "      <td>NaN</td>\n",
       "    </tr>\n",
       "    <tr>\n",
       "      <th>59</th>\n",
       "      <td>22,378,586.00</td>\n",
       "      <td>44,757,172.00</td>\n",
       "      <td>31,365,257.12</td>\n",
       "    </tr>\n",
       "    <tr>\n",
       "      <th rowspan=\"2\" valign=\"top\">Male</th>\n",
       "      <th>72</th>\n",
       "      <td>32,089,611.00</td>\n",
       "      <td>32,089,611.00</td>\n",
       "      <td>NaN</td>\n",
       "    </tr>\n",
       "    <tr>\n",
       "      <th>49</th>\n",
       "      <td>10,335,360.33</td>\n",
       "      <td>31,006,081.00</td>\n",
       "      <td>9,504,278.97</td>\n",
       "    </tr>\n",
       "    <tr>\n",
       "      <th>Female</th>\n",
       "      <th>48</th>\n",
       "      <td>15,004,241.00</td>\n",
       "      <td>30,008,482.00</td>\n",
       "      <td>7,065,070.13</td>\n",
       "    </tr>\n",
       "    <tr>\n",
       "      <th rowspan=\"3\" valign=\"top\">Male</th>\n",
       "      <th>44</th>\n",
       "      <td>8,866,683.33</td>\n",
       "      <td>26,600,050.00</td>\n",
       "      <td>8,333,864.05</td>\n",
       "    </tr>\n",
       "    <tr>\n",
       "      <th>56</th>\n",
       "      <td>11,505,826.00</td>\n",
       "      <td>23,011,652.00</td>\n",
       "      <td>711,485.19</td>\n",
       "    </tr>\n",
       "    <tr>\n",
       "      <th>47</th>\n",
       "      <td>20,000,000.00</td>\n",
       "      <td>20,000,000.00</td>\n",
       "      <td>NaN</td>\n",
       "    </tr>\n",
       "    <tr>\n",
       "      <th rowspan=\"2\" valign=\"top\">Female</th>\n",
       "      <th>45</th>\n",
       "      <td>3,836,206.00</td>\n",
       "      <td>11,508,618.00</td>\n",
       "      <td>5,350,625.02</td>\n",
       "    </tr>\n",
       "    <tr>\n",
       "      <th>66</th>\n",
       "      <td>10,643,699.00</td>\n",
       "      <td>10,643,699.00</td>\n",
       "      <td>NaN</td>\n",
       "    </tr>\n",
       "    <tr>\n",
       "      <th rowspan=\"3\" valign=\"top\">Male</th>\n",
       "      <th>50</th>\n",
       "      <td>5,002,029.50</td>\n",
       "      <td>10,004,059.00</td>\n",
       "      <td>2,870.15</td>\n",
       "    </tr>\n",
       "    <tr>\n",
       "      <th>51</th>\n",
       "      <td>10,004,054.00</td>\n",
       "      <td>10,004,054.00</td>\n",
       "      <td>NaN</td>\n",
       "    </tr>\n",
       "    <tr>\n",
       "      <th>46</th>\n",
       "      <td>2,584,916.00</td>\n",
       "      <td>7,754,748.00</td>\n",
       "      <td>2,402,210.85</td>\n",
       "    </tr>\n",
       "    <tr>\n",
       "      <th rowspan=\"2\" valign=\"top\">Female</th>\n",
       "      <th>54</th>\n",
       "      <td>5,203,611.00</td>\n",
       "      <td>5,203,611.00</td>\n",
       "      <td>NaN</td>\n",
       "    </tr>\n",
       "    <tr>\n",
       "      <th>50</th>\n",
       "      <td>5,007,053.00</td>\n",
       "      <td>5,007,053.00</td>\n",
       "      <td>NaN</td>\n",
       "    </tr>\n",
       "    <tr>\n",
       "      <th rowspan=\"2\" valign=\"top\">Male</th>\n",
       "      <th>58</th>\n",
       "      <td>5,006,489.00</td>\n",
       "      <td>5,006,489.00</td>\n",
       "      <td>NaN</td>\n",
       "    </tr>\n",
       "    <tr>\n",
       "      <th>54</th>\n",
       "      <td>4,010,543.00</td>\n",
       "      <td>4,010,543.00</td>\n",
       "      <td>NaN</td>\n",
       "    </tr>\n",
       "    <tr>\n",
       "      <th>Female</th>\n",
       "      <th>61</th>\n",
       "      <td>3,200,164.00</td>\n",
       "      <td>3,200,164.00</td>\n",
       "      <td>NaN</td>\n",
       "    </tr>\n",
       "    <tr>\n",
       "      <th rowspan=\"4\" valign=\"top\">Male</th>\n",
       "      <th>18</th>\n",
       "      <td>350,000.00</td>\n",
       "      <td>1,400,000.00</td>\n",
       "      <td>470,814.90</td>\n",
       "    </tr>\n",
       "    <tr>\n",
       "      <th>63</th>\n",
       "      <td>500,000.00</td>\n",
       "      <td>500,000.00</td>\n",
       "      <td>NaN</td>\n",
       "    </tr>\n",
       "    <tr>\n",
       "      <th>60</th>\n",
       "      <td>395,194.00</td>\n",
       "      <td>395,194.00</td>\n",
       "      <td>NaN</td>\n",
       "    </tr>\n",
       "    <tr>\n",
       "      <th>64</th>\n",
       "      <td>50,000.00</td>\n",
       "      <td>50,000.00</td>\n",
       "      <td>NaN</td>\n",
       "    </tr>\n",
       "  </tbody>\n",
       "</table>\n",
       "</div>"
      ],
      "text/plain": [
       "                     mean              sum            std\n",
       "Gender age                                               \n",
       "Male   27   48,858,387.54 5,276,705,854.00 148,535,847.97\n",
       "Female 25   17,892,384.49 3,614,261,666.00  48,909,681.34\n",
       "       30   28,560,228.90 3,084,504,721.00  94,116,111.20\n",
       "Male   29   30,510,446.89 2,929,002,901.00  70,694,713.37\n",
       "       31   50,562,045.40 2,882,036,588.00 115,396,363.77\n",
       "Female 27   16,233,448.24 2,808,386,546.00  26,856,909.79\n",
       "       31   27,042,900.14 2,758,375,814.00  43,786,671.14\n",
       "       29   17,526,418.82 2,576,383,567.00  23,957,653.40\n",
       "       28   17,307,330.99 2,526,870,325.00  35,713,682.92\n",
       "       26   16,449,275.84 2,483,840,652.00  40,074,694.06\n",
       "       24   11,879,251.48 2,423,367,301.00  22,899,241.86\n",
       "Male   26   19,456,584.36 2,218,050,617.00  39,833,675.95\n",
       "       28   18,702,127.82 2,132,042,572.00  38,767,119.64\n",
       "       30   21,791,803.68 1,699,760,687.00  47,499,552.51\n",
       "Female 23    9,779,105.12 1,642,889,661.00  27,298,875.48\n",
       "Male   25   13,321,639.01 1,412,093,735.00  19,886,965.28\n",
       "Female 33   31,127,559.07 1,307,357,481.00  67,301,560.79\n",
       "       20   12,266,243.67 1,238,890,611.00  58,560,372.37\n",
       "Male   24   11,464,898.07 1,215,279,195.00  22,846,542.52\n",
       "       38  150,854,544.25 1,206,836,354.00 349,678,150.54\n",
       "       32   27,244,390.21 1,144,264,389.00  51,629,043.48\n",
       "Female 21    9,997,998.00 1,089,781,782.00  21,826,925.70\n",
       "       22    9,046,500.70   986,068,576.00  12,313,470.96\n",
       "       32   20,010,266.57   980,503,062.00  37,502,572.16\n",
       "Male   34   32,018,323.23   960,549,697.00  92,162,539.71\n",
       "       35   41,464,836.18   912,226,396.00  55,661,681.96\n",
       "       23   10,882,436.84   903,242,258.00  23,691,846.74\n",
       "Female 39  134,931,207.83   809,587,247.00 287,608,446.96\n",
       "       36   29,266,354.11   790,191,561.00  48,517,897.93\n",
       "       35   45,211,354.88   768,593,033.00  80,383,658.64\n",
       "       41   75,333,987.40   753,339,874.00 138,056,429.09\n",
       "Male   33   16,135,037.46   629,266,461.00  28,214,286.16\n",
       "       37   23,004,156.37   621,112,222.00  39,012,616.62\n",
       "Female 34   24,196,705.84   604,917,646.00  57,750,622.71\n",
       "Male   40   40,128,413.87   601,926,208.00 100,915,713.42\n",
       "       43   96,904,467.00   581,426,802.00 196,291,255.89\n",
       "Female 40   88,624,633.83   531,747,803.00 201,766,806.22\n",
       "Male   36   16,381,144.42   425,909,755.00  19,894,320.60\n",
       "Female 46   66,869,028.67   401,214,172.00 118,158,019.36\n",
       "Male   48   71,584,836.80   357,924,184.00  88,316,337.39\n",
       "Female 38   29,261,548.17   351,138,578.00  37,168,677.65\n",
       "Male   22    7,711,775.67   323,894,578.00  14,554,429.25\n",
       "       19    8,157,360.03   309,979,681.00  22,541,464.08\n",
       "       39   24,127,890.50   289,534,686.00  36,088,464.14\n",
       "       41   33,398,043.00   267,184,344.00  51,527,361.91\n",
       "Female 19    4,081,225.08   261,198,405.00   7,433,235.74\n",
       "Male   20    5,185,965.35   248,926,337.00   7,098,553.70\n",
       "       21    5,452,540.93   239,911,801.00   9,123,925.38\n",
       "Female 49  111,252,504.50   222,505,009.00 146,862,536.55\n",
       "       42   34,442,884.67   206,657,308.00  57,513,405.40\n",
       "       43   40,296,501.80   201,482,509.00  47,403,380.89\n",
       "Male   42   22,682,904.38   181,463,235.00  38,133,352.05\n",
       "Female 56  100,000,000.00   100,000,000.00            NaN\n",
       "Male   52   93,000,000.00    93,000,000.00            NaN\n",
       "       45   22,782,423.00    91,129,692.00  17,824,926.52\n",
       "Female 18    9,080,087.44    81,720,787.00  16,232,107.81\n",
       "       37    6,657,506.50    79,890,078.00   8,162,453.09\n",
       "       44   20,944,537.33    62,833,612.00   5,170,651.38\n",
       "       52   51,050,000.00    51,050,000.00            NaN\n",
       "       53   50,334,409.00    50,334,409.00            NaN\n",
       "       59   22,378,586.00    44,757,172.00  31,365,257.12\n",
       "Male   72   32,089,611.00    32,089,611.00            NaN\n",
       "       49   10,335,360.33    31,006,081.00   9,504,278.97\n",
       "Female 48   15,004,241.00    30,008,482.00   7,065,070.13\n",
       "Male   44    8,866,683.33    26,600,050.00   8,333,864.05\n",
       "       56   11,505,826.00    23,011,652.00     711,485.19\n",
       "       47   20,000,000.00    20,000,000.00            NaN\n",
       "Female 45    3,836,206.00    11,508,618.00   5,350,625.02\n",
       "       66   10,643,699.00    10,643,699.00            NaN\n",
       "Male   50    5,002,029.50    10,004,059.00       2,870.15\n",
       "       51   10,004,054.00    10,004,054.00            NaN\n",
       "       46    2,584,916.00     7,754,748.00   2,402,210.85\n",
       "Female 54    5,203,611.00     5,203,611.00            NaN\n",
       "       50    5,007,053.00     5,007,053.00            NaN\n",
       "Male   58    5,006,489.00     5,006,489.00            NaN\n",
       "       54    4,010,543.00     4,010,543.00            NaN\n",
       "Female 61    3,200,164.00     3,200,164.00            NaN\n",
       "Male   18      350,000.00     1,400,000.00     470,814.90\n",
       "       63      500,000.00       500,000.00            NaN\n",
       "       60      395,194.00       395,194.00            NaN\n",
       "       64       50,000.00        50,000.00            NaN"
      ]
     },
     "execution_count": 211,
     "metadata": {},
     "output_type": "execute_result"
    }
   ],
   "source": [
    "group[\"Saving\"].agg([np.mean, np.sum, np.std]).sort_values(\"sum\",ascending = False)"
   ]
  },
  {
   "cell_type": "markdown",
   "metadata": {},
   "source": [
    "## the imbalance of gender or between saving and investment, all fluctuated a lot. In overall, women tend to save more than men. The most investment comes from men age-ranged 26-29, same range for women to save most."
   ]
  },
  {
   "cell_type": "code",
   "execution_count": 134,
   "metadata": {},
   "outputs": [
    {
     "data": {
      "image/png": "[encoded data removed]",
      "text/plain": [
       "<Figure size 640x480 with 2 Axes>"
      ]
     },
     "metadata": {},
     "output_type": "display_data"
    },
    {
     "data": {
      "text/plain": [
       "<ggplot: (8782777338757)>"
      ]
     },
     "execution_count": 134,
     "metadata": {},
     "output_type": "execute_result"
    }
   ],
   "source": [
    "(ggplot(finhay_full, aes('Saving', 'age', color='factor(Gender)'))\n",
    " + geom_point()\n",
    " + stat_smooth(method='lm')\n",
    " + facet_wrap('~Gender'))"
   ]
  },
  {
   "cell_type": "code",
   "execution_count": 135,
   "metadata": {},
   "outputs": [
    {
     "data": {
      "image/png": "[encoded data removed]",
      "text/plain": [
       "<Figure size 640x480 with 2 Axes>"
      ]
     },
     "metadata": {},
     "output_type": "display_data"
    },
    {
     "data": {
      "text/plain": [
       "<ggplot: (8782756211865)>"
      ]
     },
     "execution_count": 135,
     "metadata": {},
     "output_type": "execute_result"
    }
   ],
   "source": [
    "(ggplot(finhay_full, aes('Invest', 'age', color='factor(Gender)'))\n",
    " + geom_point()\n",
    " + stat_smooth(method='lm')\n",
    " + facet_wrap('~Gender'))"
   ]
  },
  {
   "cell_type": "code",
   "execution_count": 136,
   "metadata": {},
   "outputs": [
    {
     "data": {
      "image/png": "[encoded data removed]",
      "text/plain": [
       "<Figure size 640x480 with 2 Axes>"
      ]
     },
     "metadata": {},
     "output_type": "display_data"
    },
    {
     "data": {
      "text/plain": [
       "<ggplot: (8782721992741)>"
      ]
     },
     "execution_count": 136,
     "metadata": {},
     "output_type": "execute_result"
    }
   ],
   "source": [
    "(ggplot(finhay_full, aes('Invest', 'Saving', color='factor(Gender)'))\n",
    " + geom_point()\n",
    " + stat_smooth(method='lm')\n",
    " + facet_wrap('~Gender'))"
   ]
  },
  {
   "cell_type": "markdown",
   "metadata": {},
   "source": [
    "##  The Saving and Investment are not related at all."
   ]
  },
  {
   "cell_type": "markdown",
   "metadata": {},
   "source": [
    "## Metric_1: Daily Active User."
   ]
  },
  {
   "cell_type": "code",
   "execution_count": 64,
   "metadata": {},
   "outputs": [],
   "source": [
    "# Copy to analyse\n",
    "Customer_new = finhay_df.copy()"
   ]
  },
  {
   "cell_type": "code",
   "execution_count": 65,
   "metadata": {},
   "outputs": [],
   "source": [
    "Customer_new['Date_join'] = pd.to_datetime(Customer_new['Date']).dt.date"
   ]
  },
  {
   "cell_type": "code",
   "execution_count": 66,
   "metadata": {},
   "outputs": [],
   "source": [
    "Customer_Daily = Customer_new.groupby([\"Date_join\",'ID']).size().reset_index(name=\"Freq\")"
   ]
  },
  {
   "cell_type": "code",
   "execution_count": 68,
   "metadata": {},
   "outputs": [],
   "source": [
    "Customer_DAU = Customer_Daily.groupby([\"Date_join\"]).size().reset_index(name=\"Freq\")\n",
    "# Customer_Daily.sort_values('Freq',ascending=False)"
   ]
  },
  {
   "cell_type": "code",
   "execution_count": 69,
   "metadata": {},
   "outputs": [
    {
     "data": {
      "text/plain": [
       "<matplotlib.axes._subplots.AxesSubplot at 0x7fce40f50410>"
      ]
     },
     "execution_count": 69,
     "metadata": {},
     "output_type": "execute_result"
    },
    {
     "data": {
      "image/png": "[encoded data removed]",
      "text/plain": [
       "<Figure size 432x288 with 1 Axes>"
      ]
     },
     "metadata": {
      "needs_background": "light"
     },
     "output_type": "display_data"
    }
   ],
   "source": [
    "Customer_DAU.sort_index().plot(\"Date_join\",kind='bar')"
   ]
  },
  {
   "cell_type": "markdown",
   "metadata": {},
   "source": [
    "## On April 09, there was a jump in people signup and steady decline afterward."
   ]
  },
  {
   "cell_type": "code",
   "execution_count": 70,
   "metadata": {},
   "outputs": [],
   "source": [
    "Customer_new['Hour'] = pd.to_datetime(Customer_new['Date']).dt.hour"
   ]
  },
  {
   "cell_type": "code",
   "execution_count": 71,
   "metadata": {},
   "outputs": [],
   "source": [
    "Customer_Hour = Customer_new.groupby([\"Hour\",'ID']).size().reset_index(name=\"Freq\")"
   ]
  },
  {
   "cell_type": "code",
   "execution_count": 72,
   "metadata": {},
   "outputs": [],
   "source": [
    "Customer_Hour = Customer_Hour.groupby([\"Hour\"]).size().reset_index(name=\"Freq\")"
   ]
  },
  {
   "cell_type": "code",
   "execution_count": 73,
   "metadata": {},
   "outputs": [
    {
     "data": {
      "text/plain": [
       "<matplotlib.axes._subplots.AxesSubplot at 0x7fce41086ed0>"
      ]
     },
     "execution_count": 73,
     "metadata": {},
     "output_type": "execute_result"
    },
    {
     "data": {
      "image/png": "[encoded data removed]",
      "text/plain": [
       "<Figure size 432x288 with 1 Axes>"
      ]
     },
     "metadata": {
      "needs_background": "light"
     },
     "output_type": "display_data"
    }
   ],
   "source": [
    "Customer_Hour.sort_index().plot(\"Hour\",kind='bar')"
   ]
  },
  {
   "cell_type": "markdown",
   "metadata": {},
   "source": [
    "## People usually signup at 10-15h and 20-22h."
   ]
  },
  {
   "cell_type": "code",
   "execution_count": 145,
   "metadata": {},
   "outputs": [
    {
     "data": {
      "text/html": [
       "<div>\n",
       "<style scoped>\n",
       "    .dataframe tbody tr th:only-of-type {\n",
       "        vertical-align: middle;\n",
       "    }\n",
       "\n",
       "    .dataframe tbody tr th {\n",
       "        vertical-align: top;\n",
       "    }\n",
       "\n",
       "    .dataframe thead th {\n",
       "        text-align: right;\n",
       "    }\n",
       "</style>\n",
       "<table border=\"1\" class=\"dataframe\">\n",
       "  <thead>\n",
       "    <tr style=\"text-align: right;\">\n",
       "      <th></th>\n",
       "      <th>ID</th>\n",
       "      <th>Invest</th>\n",
       "      <th>Saving</th>\n",
       "      <th>DoB</th>\n",
       "      <th>Gender</th>\n",
       "      <th>City</th>\n",
       "      <th>Date</th>\n",
       "      <th>Date_join</th>\n",
       "      <th>Hour</th>\n",
       "    </tr>\n",
       "  </thead>\n",
       "  <tbody>\n",
       "    <tr>\n",
       "      <th>0</th>\n",
       "      <td>376723</td>\n",
       "      <td>NaN</td>\n",
       "      <td>NaN</td>\n",
       "      <td>NaN</td>\n",
       "      <td>NaN</td>\n",
       "      <td>NaN</td>\n",
       "      <td>2020-04-01 00:01:55</td>\n",
       "      <td>2020-04-01</td>\n",
       "      <td>0</td>\n",
       "    </tr>\n",
       "    <tr>\n",
       "      <th>1</th>\n",
       "      <td>376724</td>\n",
       "      <td>NaN</td>\n",
       "      <td>NaN</td>\n",
       "      <td>NaN</td>\n",
       "      <td>NaN</td>\n",
       "      <td>NaN</td>\n",
       "      <td>2020-04-01 00:02:24</td>\n",
       "      <td>2020-04-01</td>\n",
       "      <td>0</td>\n",
       "    </tr>\n",
       "    <tr>\n",
       "      <th>2</th>\n",
       "      <td>376725</td>\n",
       "      <td>NaN</td>\n",
       "      <td>NaN</td>\n",
       "      <td>NaN</td>\n",
       "      <td>NaN</td>\n",
       "      <td>NaN</td>\n",
       "      <td>2020-04-01 00:07:50</td>\n",
       "      <td>2020-04-01</td>\n",
       "      <td>0</td>\n",
       "    </tr>\n",
       "    <tr>\n",
       "      <th>3</th>\n",
       "      <td>376726</td>\n",
       "      <td>NaN</td>\n",
       "      <td>NaN</td>\n",
       "      <td>1995-09-27</td>\n",
       "      <td>Male</td>\n",
       "      <td>Bình Dương</td>\n",
       "      <td>2020-04-01 00:10:43</td>\n",
       "      <td>2020-04-01</td>\n",
       "      <td>0</td>\n",
       "    </tr>\n",
       "    <tr>\n",
       "      <th>4</th>\n",
       "      <td>376727</td>\n",
       "      <td>NaN</td>\n",
       "      <td>NaN</td>\n",
       "      <td>NaN</td>\n",
       "      <td>NaN</td>\n",
       "      <td>NaN</td>\n",
       "      <td>2020-04-01 00:12:17</td>\n",
       "      <td>2020-04-01</td>\n",
       "      <td>0</td>\n",
       "    </tr>\n",
       "  </tbody>\n",
       "</table>\n",
       "</div>"
      ],
      "text/plain": [
       "       ID  Invest  Saving         DoB Gender        City                 Date   Date_join  Hour\n",
       "0  376723     NaN     NaN         NaN    NaN         NaN  2020-04-01 00:01:55  2020-04-01     0\n",
       "1  376724     NaN     NaN         NaN    NaN         NaN  2020-04-01 00:02:24  2020-04-01     0\n",
       "2  376725     NaN     NaN         NaN    NaN         NaN  2020-04-01 00:07:50  2020-04-01     0\n",
       "3  376726     NaN     NaN  1995-09-27   Male  Bình Dương  2020-04-01 00:10:43  2020-04-01     0\n",
       "4  376727     NaN     NaN         NaN    NaN         NaN  2020-04-01 00:12:17  2020-04-01     0"
      ]
     },
     "execution_count": 145,
     "metadata": {},
     "output_type": "execute_result"
    }
   ],
   "source": [
    "Customer_new.head()"
   ]
  },
  {
   "cell_type": "code",
   "execution_count": 151,
   "metadata": {},
   "outputs": [],
   "source": [
    "def conditions(s):\n",
    "    if (s['Hour'] >= 0 and s['Hour'] <=15):\n",
    "        return 0\n",
    "    else:\n",
    "        return 1"
   ]
  },
  {
   "cell_type": "code",
   "execution_count": 153,
   "metadata": {},
   "outputs": [],
   "source": [
    "Customer_new['Hour_range'] = Customer_new.apply(conditions, axis = 1)\n",
    "(ggplot(finhay_full, aes('Saving', 'age', color='factor(Gender)'))\n",
    " + geom_point()\n",
    " + stat_smooth(method='lm')\n",
    " + facet_wrap('~Gender'))"
   ]
  },
  {
   "cell_type": "code",
   "execution_count": 183,
   "metadata": {},
   "outputs": [],
   "source": [
    "Customer_new_full = Customer_new.dropna()"
   ]
  },
  {
   "cell_type": "code",
   "execution_count": 201,
   "metadata": {},
   "outputs": [],
   "source": [
    "from plotnine import expand_limits,ggtitle,xlab,ylab,xlim,ylim,theme_bw"
   ]
  },
  {
   "cell_type": "code",
   "execution_count": 209,
   "metadata": {},
   "outputs": [
    {
     "name": "stderr",
     "output_type": "stream",
     "text": [
      "/Users/petern/opt/anaconda3/envs/py3-TF2.0/lib/python3.7/site-packages/plotnine/layer.py:467: PlotnineWarning: geom_point : Removed 691 rows containing missing values.\n"
     ]
    },
    {
     "data": {
      "image/png": "[encoded data removed]",
      "text/plain": [
       "<Figure size 640x480 with 1 Axes>"
      ]
     },
     "metadata": {},
     "output_type": "display_data"
    },
    {
     "data": {
      "text/plain": [
       "<ggplot: (8782742988805)>"
      ]
     },
     "execution_count": 209,
     "metadata": {},
     "output_type": "execute_result"
    }
   ],
   "source": [
    "(ggplot(Customer_new_full, aes('Hour_range', 'Saving', group='Gender',\n",
    "    shape='Gender', colour='Gender')) +\n",
    "  geom_line(aes(linetype='Gender'), size=1) +    \n",
    "  geom_point(size=3, fill=\"white\") +        \n",
    "  expand_limits(y=0)   +  \n",
    "  xlab(\"Time of day\") + ylab(\"Saving\")\n",
    "  + xlim(0,1) + ylim(0, 20000000) +\n",
    "  ggtitle(\"Time of the day and saving trend\") +  \n",
    "  theme_bw() )"
   ]
  },
  {
   "cell_type": "code",
   "execution_count": 210,
   "metadata": {},
   "outputs": [
    {
     "name": "stderr",
     "output_type": "stream",
     "text": [
      "/Users/petern/opt/anaconda3/envs/py3-TF2.0/lib/python3.7/site-packages/plotnine/layer.py:467: PlotnineWarning: geom_point : Removed 176 rows containing missing values.\n"
     ]
    },
    {
     "data": {
      "image/png": "[encoded data removed]",
      "text/plain": [
       "<Figure size 640x480 with 1 Axes>"
      ]
     },
     "metadata": {},
     "output_type": "display_data"
    },
    {
     "data": {
      "text/plain": [
       "<ggplot: (8782743033781)>"
      ]
     },
     "execution_count": 210,
     "metadata": {},
     "output_type": "execute_result"
    }
   ],
   "source": [
    "(ggplot(Customer_new_full, aes('Hour_range', 'Invest', group='Gender',\n",
    "    shape='Gender', colour='Gender')) +\n",
    "  geom_line(aes(linetype='Gender'), size=1) +    \n",
    "  geom_point(size=3, fill=\"white\") +        \n",
    "  expand_limits(y=0)   +  \n",
    "  xlab(\"Time of day\") + ylab(\"Invest\")\n",
    "  + xlim(0,1) + ylim(0, 20000000) +\n",
    "  ggtitle(\"Time of the day and Invest trend\") +  \n",
    "  theme_bw() )"
   ]
  },
  {
   "cell_type": "markdown",
   "metadata": {},
   "source": [
    "## Men usually make an investment decision after 15pm, Women tend to do saving decision at that time more than men after 15pm."
   ]
  },
  {
   "cell_type": "markdown",
   "metadata": {},
   "source": [
    "## Metric_2: City"
   ]
  },
  {
   "cell_type": "code",
   "execution_count": 213,
   "metadata": {},
   "outputs": [],
   "source": [
    "df_location = finhay_df[finhay_df['City'].notna()]"
   ]
  },
  {
   "cell_type": "code",
   "execution_count": 214,
   "metadata": {},
   "outputs": [
    {
     "data": {
      "text/plain": [
       "(22472, 7)"
      ]
     },
     "execution_count": 214,
     "metadata": {},
     "output_type": "execute_result"
    }
   ],
   "source": [
    "df_location.shape"
   ]
  },
  {
   "cell_type": "code",
   "execution_count": 76,
   "metadata": {},
   "outputs": [
    {
     "data": {
      "text/html": [
       "<div>\n",
       "<style scoped>\n",
       "    .dataframe tbody tr th:only-of-type {\n",
       "        vertical-align: middle;\n",
       "    }\n",
       "\n",
       "    .dataframe tbody tr th {\n",
       "        vertical-align: top;\n",
       "    }\n",
       "\n",
       "    .dataframe thead th {\n",
       "        text-align: right;\n",
       "    }\n",
       "</style>\n",
       "<table border=\"1\" class=\"dataframe\">\n",
       "  <thead>\n",
       "    <tr style=\"text-align: right;\">\n",
       "      <th></th>\n",
       "      <th>ID</th>\n",
       "      <th>Invest</th>\n",
       "      <th>Saving</th>\n",
       "      <th>DoB</th>\n",
       "      <th>Gender</th>\n",
       "      <th>City</th>\n",
       "      <th>Date</th>\n",
       "    </tr>\n",
       "  </thead>\n",
       "  <tbody>\n",
       "    <tr>\n",
       "      <th>3</th>\n",
       "      <td>376726</td>\n",
       "      <td>NaN</td>\n",
       "      <td>NaN</td>\n",
       "      <td>1995-09-27</td>\n",
       "      <td>Male</td>\n",
       "      <td>Bình Dương</td>\n",
       "      <td>2020-04-01 00:10:43</td>\n",
       "    </tr>\n",
       "    <tr>\n",
       "      <th>5</th>\n",
       "      <td>376728</td>\n",
       "      <td>600,000.00</td>\n",
       "      <td>NaN</td>\n",
       "      <td>1994-07-03</td>\n",
       "      <td>Male</td>\n",
       "      <td>Hà Nam</td>\n",
       "      <td>2020-04-01 00:12:55</td>\n",
       "    </tr>\n",
       "    <tr>\n",
       "      <th>6</th>\n",
       "      <td>376729</td>\n",
       "      <td>600,000.00</td>\n",
       "      <td>NaN</td>\n",
       "      <td>1981-10-12</td>\n",
       "      <td>Female</td>\n",
       "      <td>Hà Nội</td>\n",
       "      <td>2020-04-01 00:13:04</td>\n",
       "    </tr>\n",
       "    <tr>\n",
       "      <th>8</th>\n",
       "      <td>376731</td>\n",
       "      <td>NaN</td>\n",
       "      <td>NaN</td>\n",
       "      <td>1989-05-24</td>\n",
       "      <td>Male</td>\n",
       "      <td>Cà Mau</td>\n",
       "      <td>2020-04-01 00:15:34</td>\n",
       "    </tr>\n",
       "    <tr>\n",
       "      <th>10</th>\n",
       "      <td>376733</td>\n",
       "      <td>50,000.00</td>\n",
       "      <td>NaN</td>\n",
       "      <td>1993-10-05</td>\n",
       "      <td>Female</td>\n",
       "      <td>Hà Nội</td>\n",
       "      <td>2020-04-01 00:19:17</td>\n",
       "    </tr>\n",
       "  </tbody>\n",
       "</table>\n",
       "</div>"
      ],
      "text/plain": [
       "        ID     Invest  Saving         DoB  Gender        City                 Date\n",
       "3   376726        NaN     NaN  1995-09-27    Male  Bình Dương  2020-04-01 00:10:43\n",
       "5   376728 600,000.00     NaN  1994-07-03    Male      Hà Nam  2020-04-01 00:12:55\n",
       "6   376729 600,000.00     NaN  1981-10-12  Female      Hà Nội  2020-04-01 00:13:04\n",
       "8   376731        NaN     NaN  1989-05-24    Male      Cà Mau  2020-04-01 00:15:34\n",
       "10  376733  50,000.00     NaN  1993-10-05  Female      Hà Nội  2020-04-01 00:19:17"
      ]
     },
     "execution_count": 76,
     "metadata": {},
     "output_type": "execute_result"
    }
   ],
   "source": [
    "df_location.head()"
   ]
  },
  {
   "cell_type": "code",
   "execution_count": 77,
   "metadata": {},
   "outputs": [
    {
     "data": {
      "text/plain": [
       "array(['Bình Dương', 'Hà Nam', 'Hà Nội', 'Cà Mau', 'Hải Dương',\n",
       "       'Kiên Giang', 'Bình Phước', 'Hồ Chí Minh', 'Hải Phòng',\n",
       "       'Điện Biên', 'Vĩnh Long', 'Hoà Bình', 'Lào Cai', 'Nam Định',\n",
       "       'Thừa Thiên Huế', 'Quảng Ninh', 'Hà Tĩnh', 'Thái Bình',\n",
       "       'Bình Định', 'Sơn La', 'An Giang', 'Đồng Nai', 'Trà Vinh',\n",
       "       'Vĩnh Phúc', 'Nghệ An', 'Khánh Hòa', 'Thanh Hóa', 'Lạng Sơn',\n",
       "       'Bắc Ninh', 'Hưng Yên', 'Tây Ninh', 'Bắc Giang', 'Đắk Lắk',\n",
       "       'Tiền Giang', 'Lâm Đồng', 'Sóc Trăng', 'Yên Bái', 'Bến Tre',\n",
       "       'Cần Thơ', 'Phú Yên', 'Bạc Liêu', 'Quảng Ngãi', 'Hậu Giang',\n",
       "       'Bà Rịa - Vũng Tàu', 'Bình Thuận', 'Thái Nguyên', 'Ninh Bình',\n",
       "       'Bắc Kạn', 'Quảng Nam', 'Đà Nẵng', 'Tuyên Quang', 'Đồng Tháp',\n",
       "       'Long An', 'Đắk Nông', 'Quảng Trị', 'Phú Thọ', 'Kon Tum',\n",
       "       'Cao Bằng', 'Hà Giang', 'Ninh Thuận', 'Gia Lai', 'Quảng Bình',\n",
       "       'Lai Châu'], dtype=object)"
      ]
     },
     "execution_count": 77,
     "metadata": {},
     "output_type": "execute_result"
    }
   ],
   "source": [
    "pd.unique(df_location.City)"
   ]
  },
  {
   "cell_type": "code",
   "execution_count": 78,
   "metadata": {},
   "outputs": [
    {
     "data": {
      "text/plain": [
       "63"
      ]
     },
     "execution_count": 78,
     "metadata": {},
     "output_type": "execute_result"
    }
   ],
   "source": [
    "len(pd.unique(df_location.City))"
   ]
  },
  {
   "cell_type": "code",
   "execution_count": 79,
   "metadata": {},
   "outputs": [],
   "source": [
    "Region_Daily = df_location.groupby([\"Date\",\"City\"]).size().reset_index(name=\"Freq\")"
   ]
  },
  {
   "cell_type": "code",
   "execution_count": 81,
   "metadata": {},
   "outputs": [],
   "source": [
    "Region_daily = Region_Daily.groupby(\"City\").agg(\"sum\").reset_index()"
   ]
  },
  {
   "cell_type": "code",
   "execution_count": 82,
   "metadata": {},
   "outputs": [
    {
     "data": {
      "text/plain": [
       "<matplotlib.axes._subplots.AxesSubplot at 0x7fce61ae8b10>"
      ]
     },
     "execution_count": 82,
     "metadata": {},
     "output_type": "execute_result"
    },
    {
     "data": {
      "image/png": "[encoded data removed]",
      "text/plain": [
       "<Figure size 432x288 with 1 Axes>"
      ]
     },
     "metadata": {
      "needs_background": "light"
     },
     "output_type": "display_data"
    }
   ],
   "source": [
    "Region_daily.sort_values('Freq',ascending=False)[0:9].plot.bar(\"City\")"
   ]
  },
  {
   "cell_type": "markdown",
   "metadata": {},
   "source": [
    "## Here is the city that signup the most. We should investigate more to come to conclusion between 2 big city first to meet the needs of the two contries: HN and HCM"
   ]
  },
  {
   "cell_type": "code",
   "execution_count": 125,
   "metadata": {},
   "outputs": [],
   "source": [
    "df_corr = finhay_full.copy()"
   ]
  },
  {
   "cell_type": "code",
   "execution_count": 126,
   "metadata": {},
   "outputs": [
    {
     "data": {
      "text/plain": [
       "Index(['ID', 'Invest', 'Saving', 'DoB', 'Gender', 'City', 'Date', 'Date_Birth', 'Date_join', 'age'], dtype='object')"
      ]
     },
     "execution_count": 126,
     "metadata": {},
     "output_type": "execute_result"
    }
   ],
   "source": [
    "df_corr.columns"
   ]
  },
  {
   "cell_type": "code",
   "execution_count": 127,
   "metadata": {},
   "outputs": [
    {
     "data": {
      "text/html": [
       "<div>\n",
       "<style scoped>\n",
       "    .dataframe tbody tr th:only-of-type {\n",
       "        vertical-align: middle;\n",
       "    }\n",
       "\n",
       "    .dataframe tbody tr th {\n",
       "        vertical-align: top;\n",
       "    }\n",
       "\n",
       "    .dataframe thead th {\n",
       "        text-align: right;\n",
       "    }\n",
       "</style>\n",
       "<table border=\"1\" class=\"dataframe\">\n",
       "  <thead>\n",
       "    <tr style=\"text-align: right;\">\n",
       "      <th></th>\n",
       "      <th>ID</th>\n",
       "      <th>Invest</th>\n",
       "      <th>Saving</th>\n",
       "      <th>DoB</th>\n",
       "      <th>Gender</th>\n",
       "      <th>City</th>\n",
       "      <th>Date</th>\n",
       "      <th>Date_Birth</th>\n",
       "      <th>Date_join</th>\n",
       "      <th>age</th>\n",
       "    </tr>\n",
       "  </thead>\n",
       "  <tbody>\n",
       "    <tr>\n",
       "      <th>28</th>\n",
       "      <td>376751</td>\n",
       "      <td>1,070,000.00</td>\n",
       "      <td>1,009,980.00</td>\n",
       "      <td>2000-09-19</td>\n",
       "      <td>Female</td>\n",
       "      <td>Kiên Giang</td>\n",
       "      <td>2020-04-01 00:36:22</td>\n",
       "      <td>2000-09-19</td>\n",
       "      <td>2020-04-01 00:36:22</td>\n",
       "      <td>20</td>\n",
       "    </tr>\n",
       "    <tr>\n",
       "      <th>86</th>\n",
       "      <td>376809</td>\n",
       "      <td>4,970,000.00</td>\n",
       "      <td>3,870,293.00</td>\n",
       "      <td>1990-11-07</td>\n",
       "      <td>Male</td>\n",
       "      <td>Lào Cai</td>\n",
       "      <td>2020-04-01 01:47:44</td>\n",
       "      <td>1990-11-07</td>\n",
       "      <td>2020-04-01 01:47:44</td>\n",
       "      <td>30</td>\n",
       "    </tr>\n",
       "    <tr>\n",
       "      <th>160</th>\n",
       "      <td>376883</td>\n",
       "      <td>20,012,165.00</td>\n",
       "      <td>20,000,000.00</td>\n",
       "      <td>1991-06-20</td>\n",
       "      <td>Male</td>\n",
       "      <td>Hà Nội</td>\n",
       "      <td>2020-04-01 05:48:42</td>\n",
       "      <td>1991-06-20</td>\n",
       "      <td>2020-04-01 05:48:42</td>\n",
       "      <td>29</td>\n",
       "    </tr>\n",
       "    <tr>\n",
       "      <th>591</th>\n",
       "      <td>377314</td>\n",
       "      <td>1,255,000.00</td>\n",
       "      <td>50,000.00</td>\n",
       "      <td>1991-07-04</td>\n",
       "      <td>Male</td>\n",
       "      <td>Đồng Nai</td>\n",
       "      <td>2020-04-01 12:11:27</td>\n",
       "      <td>1991-07-04</td>\n",
       "      <td>2020-04-01 12:11:27</td>\n",
       "      <td>29</td>\n",
       "    </tr>\n",
       "    <tr>\n",
       "      <th>723</th>\n",
       "      <td>377446</td>\n",
       "      <td>200,000.00</td>\n",
       "      <td>1,000,000.00</td>\n",
       "      <td>1995-07-12</td>\n",
       "      <td>Female</td>\n",
       "      <td>Cần Thơ</td>\n",
       "      <td>2020-04-01 13:16:39</td>\n",
       "      <td>1995-07-12</td>\n",
       "      <td>2020-04-01 13:16:39</td>\n",
       "      <td>25</td>\n",
       "    </tr>\n",
       "  </tbody>\n",
       "</table>\n",
       "</div>"
      ],
      "text/plain": [
       "         ID        Invest        Saving         DoB  Gender        City                 Date Date_Birth           Date_join  age\n",
       "28   376751  1,070,000.00  1,009,980.00  2000-09-19  Female  Kiên Giang  2020-04-01 00:36:22 2000-09-19 2020-04-01 00:36:22   20\n",
       "86   376809  4,970,000.00  3,870,293.00  1990-11-07    Male     Lào Cai  2020-04-01 01:47:44 1990-11-07 2020-04-01 01:47:44   30\n",
       "160  376883 20,012,165.00 20,000,000.00  1991-06-20    Male      Hà Nội  2020-04-01 05:48:42 1991-06-20 2020-04-01 05:48:42   29\n",
       "591  377314  1,255,000.00     50,000.00  1991-07-04    Male    Đồng Nai  2020-04-01 12:11:27 1991-07-04 2020-04-01 12:11:27   29\n",
       "723  377446    200,000.00  1,000,000.00  1995-07-12  Female     Cần Thơ  2020-04-01 13:16:39 1995-07-12 2020-04-01 13:16:39   25"
      ]
     },
     "execution_count": 127,
     "metadata": {},
     "output_type": "execute_result"
    }
   ],
   "source": [
    "df_corr.head()"
   ]
  },
  {
   "cell_type": "markdown",
   "metadata": {},
   "source": [
    "## Correlation"
   ]
  },
  {
   "cell_type": "code",
   "execution_count": 128,
   "metadata": {},
   "outputs": [],
   "source": [
    "df_corr['Gender']=(df_corr.Gender.astype('category').cat.codes)\n",
    "df_corr['City']=(df_corr.City.astype('category').cat.codes)"
   ]
  },
  {
   "cell_type": "code",
   "execution_count": 130,
   "metadata": {},
   "outputs": [
    {
     "data": {
      "text/plain": [
       "Index(['ID', 'Invest', 'Saving', 'Gender', 'City', 'age'], dtype='object')"
      ]
     },
     "execution_count": 130,
     "metadata": {},
     "output_type": "execute_result"
    }
   ],
   "source": [
    "df_num = df_corr.select_dtypes(include =['float64','int64','int8'])\n",
    "df_num = df_num[df_num.columns.drop(list(df_num.filter(like = 'Key',axis = 1)))]\n",
    "df_num.columns"
   ]
  },
  {
   "cell_type": "code",
   "execution_count": 131,
   "metadata": {},
   "outputs": [
    {
     "data": {
      "text/html": [
       "<div>\n",
       "<style scoped>\n",
       "    .dataframe tbody tr th:only-of-type {\n",
       "        vertical-align: middle;\n",
       "    }\n",
       "\n",
       "    .dataframe tbody tr th {\n",
       "        vertical-align: top;\n",
       "    }\n",
       "\n",
       "    .dataframe thead th {\n",
       "        text-align: right;\n",
       "    }\n",
       "</style>\n",
       "<table border=\"1\" class=\"dataframe\">\n",
       "  <thead>\n",
       "    <tr style=\"text-align: right;\">\n",
       "      <th></th>\n",
       "      <th>ID</th>\n",
       "      <th>Invest</th>\n",
       "      <th>Saving</th>\n",
       "      <th>Gender</th>\n",
       "      <th>City</th>\n",
       "      <th>age</th>\n",
       "    </tr>\n",
       "  </thead>\n",
       "  <tbody>\n",
       "    <tr>\n",
       "      <th>28</th>\n",
       "      <td>376751</td>\n",
       "      <td>1,070,000.00</td>\n",
       "      <td>1,009,980.00</td>\n",
       "      <td>0</td>\n",
       "      <td>26</td>\n",
       "      <td>20</td>\n",
       "    </tr>\n",
       "    <tr>\n",
       "      <th>86</th>\n",
       "      <td>376809</td>\n",
       "      <td>4,970,000.00</td>\n",
       "      <td>3,870,293.00</td>\n",
       "      <td>1</td>\n",
       "      <td>30</td>\n",
       "      <td>30</td>\n",
       "    </tr>\n",
       "    <tr>\n",
       "      <th>160</th>\n",
       "      <td>376883</td>\n",
       "      <td>20,012,165.00</td>\n",
       "      <td>20,000,000.00</td>\n",
       "      <td>1</td>\n",
       "      <td>18</td>\n",
       "      <td>29</td>\n",
       "    </tr>\n",
       "    <tr>\n",
       "      <th>591</th>\n",
       "      <td>377314</td>\n",
       "      <td>1,255,000.00</td>\n",
       "      <td>50,000.00</td>\n",
       "      <td>1</td>\n",
       "      <td>61</td>\n",
       "      <td>29</td>\n",
       "    </tr>\n",
       "    <tr>\n",
       "      <th>723</th>\n",
       "      <td>377446</td>\n",
       "      <td>200,000.00</td>\n",
       "      <td>1,000,000.00</td>\n",
       "      <td>0</td>\n",
       "      <td>13</td>\n",
       "      <td>25</td>\n",
       "    </tr>\n",
       "  </tbody>\n",
       "</table>\n",
       "</div>"
      ],
      "text/plain": [
       "         ID        Invest        Saving  Gender  City  age\n",
       "28   376751  1,070,000.00  1,009,980.00       0    26   20\n",
       "86   376809  4,970,000.00  3,870,293.00       1    30   30\n",
       "160  376883 20,012,165.00 20,000,000.00       1    18   29\n",
       "591  377314  1,255,000.00     50,000.00       1    61   29\n",
       "723  377446    200,000.00  1,000,000.00       0    13   25"
      ]
     },
     "execution_count": 131,
     "metadata": {},
     "output_type": "execute_result"
    }
   ],
   "source": [
    "df_num.head()"
   ]
  },
  {
   "cell_type": "code",
   "execution_count": 132,
   "metadata": {},
   "outputs": [
    {
     "data": {
      "text/plain": [
       "array([[<matplotlib.axes._subplots.AxesSubplot object at 0x7fce3048e510>,\n",
       "        <matplotlib.axes._subplots.AxesSubplot object at 0x7fce30483810>],\n",
       "       [<matplotlib.axes._subplots.AxesSubplot object at 0x7fce418e8d10>,\n",
       "        <matplotlib.axes._subplots.AxesSubplot object at 0x7fce4191d650>],\n",
       "       [<matplotlib.axes._subplots.AxesSubplot object at 0x7fce41946f50>,\n",
       "        <matplotlib.axes._subplots.AxesSubplot object at 0x7fce41946f90>]],\n",
       "      dtype=object)"
      ]
     },
     "execution_count": 132,
     "metadata": {},
     "output_type": "execute_result"
    },
    {
     "data": {
      "image/png": "[encoded data removed]",
      "text/plain": [
       "<Figure size 1152x1728 with 6 Axes>"
      ]
     },
     "metadata": {
      "needs_background": "light"
     },
     "output_type": "display_data"
    }
   ],
   "source": [
    "df_num.hist(figsize=(16,24), bins =30 , xlabelsize=8, ylabelsize=8)"
   ]
  },
  {
   "cell_type": "code",
   "execution_count": 133,
   "metadata": {},
   "outputs": [
    {
     "data": {
      "text/plain": [
       "<matplotlib.axes._subplots.AxesSubplot at 0x7fce41c55510>"
      ]
     },
     "execution_count": 133,
     "metadata": {},
     "output_type": "execute_result"
    },
    {
     "data": {
      "image/png": "[encoded data removed]",
      "text/plain": [
       "<Figure size 864x720 with 2 Axes>"
      ]
     },
     "metadata": {
      "needs_background": "light"
     },
     "output_type": "display_data"
    }
   ],
   "source": [
    "corr = df_num.corr()\n",
    "plt.figure(figsize=(12,10))\n",
    "sns.heatmap(corr[(corr>=0.3)|(corr<=-0.3)],cmap='viridis',\n",
    "            vmax = 1.0,vmin=-1.0, linewidths=0.1,\n",
    "            annot=True,annot_kws={'size':8},square = True)"
   ]
  },
  {
   "cell_type": "markdown",
   "metadata": {},
   "source": [
    "## Here we don't see any significant correlations because of few attributes. For more informations, we could do more analysis and building models to find out more interesting insights."
   ]
  },
  {
   "cell_type": "markdown",
   "metadata": {},
   "source": [
    "## Recommended atrribute: date_time of making investment or saving, you could follow my CV to see the documents needed to learn the behaviour of users."
   ]
  },
  {
   "cell_type": "markdown",
   "metadata": {},
   "source": [
    "# Thank for reading through my analysis. Hope to cooperate with you in the near future."
   ]
  },
  {
   "cell_type": "code",
   "execution_count": null,
   "metadata": {},
   "outputs": [],
   "source": []
  }
 ],
 "metadata": {
  "kernelspec": {
   "display_name": "Python 3",
   "language": "python",
   "name": "python3"
  },
  "language_info": {
   "codemirror_mode": {
    "name": "ipython",
    "version": 3
   },
   "file_extension": ".py",
   "mimetype": "text/x-python",
   "name": "python",
   "nbconvert_exporter": "python",
   "pygments_lexer": "ipython3",
   "version": "3.7.8"
  }
 },
 "nbformat": 4,
 "nbformat_minor": 2
}