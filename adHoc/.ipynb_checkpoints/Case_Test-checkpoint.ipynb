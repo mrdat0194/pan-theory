{
 "cells": [
  {
   "cell_type": "code",
   "execution_count": 2,
   "metadata": {
    "pycharm": {
     "name": "#%%\n"
    }
   },
   "outputs": [],
   "source": [
    "import os\n",
    "import pandas as pd\n",
    "import mysql.connector"
   ]
  },
  {
   "cell_type": "code",
   "execution_count": 3,
   "metadata": {},
   "outputs": [
    {
     "name": "stdout",
     "output_type": "stream",
     "text": [
      "<module 'os' from '/Users/petern/opt/anaconda3/lib/python3.7/os.py'>\n"
     ]
    }
   ],
   "source": [
    "print(os)"
   ]
  },
  {
   "cell_type": "markdown",
   "metadata": {},
   "source": [
    "# 1. Các trường hợp trong bảng datasource có format là Mp3 nhưng filename trả về có đuôi là .mp4"
   ]
  },
  {
   "cell_type": "code",
   "execution_count": 4,
   "metadata": {
    "pycharm": {
     "name": "#%%\n"
    }
   },
   "outputs": [],
   "source": [
    "mydb = mysql.connector.connect(\n",
    "  host=\"localhost\",\n",
    "  user=\"sysadm\",\n",
    "  password=\"ek7F7ck3\",\n",
    "  database=\"v4\",\n",
    "  port= 3308\n",
    ")\n",
    "mycursor = mydb.cursor()"
   ]
  },
  {
   "cell_type": "code",
   "execution_count": 5,
   "metadata": {},
   "outputs": [],
   "source": [
    "query = f'''SELECT datasources.ID, datasources.FormatID, datasources.Ext ->> \"$.resize_images\",\n",
    "       datasources.FileName\n",
    "FROM datasources\n",
    "WHERE datasources.FileName LIKE \"%mp4\"\n",
    "  AND (datasources.FormatID = '1A67A5F1E0D84FB9B48234AE65086375'\n",
    "    OR datasources.FormatID = '87ADA22693BA48029C33FC3031C6044C'\n",
    "    OR datasources.FormatID = '745BFC108F41441CB01AD8178AB02D2B'\n",
    "    )\n",
    "  AND datasources.Ext ->> \"$.resize_images\" NOT LIKE \"%.mp4.mp3%\"\n",
    "  AND datasources.Ext ->> \"$.resize_images\" LIKE \"%.mp3%\"\n",
    "  AND datasources.Valid = 1\n",
    "LIMIT 10;'''\n",
    "\n",
    "mycursor.execute(query)\n",
    "result = mycursor.fetchall()"
   ]
  },
  {
   "cell_type": "code",
   "execution_count": 6,
   "metadata": {},
   "outputs": [
    {
     "data": {
      "text/html": [
       "<div>\n",
       "<style scoped>\n",
       "    .dataframe tbody tr th:only-of-type {\n",
       "        vertical-align: middle;\n",
       "    }\n",
       "\n",
       "    .dataframe tbody tr th {\n",
       "        vertical-align: top;\n",
       "    }\n",
       "\n",
       "    .dataframe thead th {\n",
       "        text-align: right;\n",
       "    }\n",
       "</style>\n",
       "<table border=\"1\" class=\"dataframe\">\n",
       "  <thead>\n",
       "    <tr style=\"text-align: right;\">\n",
       "      <th></th>\n",
       "      <th>0</th>\n",
       "      <th>1</th>\n",
       "      <th>2</th>\n",
       "      <th>3</th>\n",
       "    </tr>\n",
       "  </thead>\n",
       "  <tbody>\n",
       "    <tr>\n",
       "      <th>0</th>\n",
       "      <td>000D34C665FE48EB9F41AE92FACAC587</td>\n",
       "      <td>1A67A5F1E0D84FB9B48234AE65086375</td>\n",
       "      <td>[\"audio_000D34C665FE48EB9F41AE92FACAC587.mp3.m...</td>\n",
       "      <td>video___068Isskeal4.mp4</td>\n",
       "    </tr>\n",
       "    <tr>\n",
       "      <th>1</th>\n",
       "      <td>0012AFD40C36464186BC41D017B607B3</td>\n",
       "      <td>1A67A5F1E0D84FB9B48234AE65086375</td>\n",
       "      <td>[\"audio_0012AFD40C36464186BC41D017B607B3.mp3.m...</td>\n",
       "      <td>video___9mVRN1Fe8d8.mp4</td>\n",
       "    </tr>\n",
       "    <tr>\n",
       "      <th>2</th>\n",
       "      <td>0013393F97104293BB3392478F97A03F</td>\n",
       "      <td>1A67A5F1E0D84FB9B48234AE65086375</td>\n",
       "      <td>[\"audio_0013393F97104293BB3392478F97A03F.mp3.m...</td>\n",
       "      <td>video___brQ-EWzgEX0.mp4</td>\n",
       "    </tr>\n",
       "    <tr>\n",
       "      <th>3</th>\n",
       "      <td>001C21CCE1DB4BD1BA3A9757EB6D0C46</td>\n",
       "      <td>1A67A5F1E0D84FB9B48234AE65086375</td>\n",
       "      <td>[\"audio_001C21CCE1DB4BD1BA3A9757EB6D0C46.mp3.m...</td>\n",
       "      <td>video___UnCaBnMy4qk.mp4</td>\n",
       "    </tr>\n",
       "    <tr>\n",
       "      <th>4</th>\n",
       "      <td>001F4070016A44E082A2427567C65143</td>\n",
       "      <td>1A67A5F1E0D84FB9B48234AE65086375</td>\n",
       "      <td>[\"audio_001F4070016A44E082A2427567C65143.mp3.m...</td>\n",
       "      <td>video___XKZJwqILLbk.mp4</td>\n",
       "    </tr>\n",
       "    <tr>\n",
       "      <th>5</th>\n",
       "      <td>0043DE592CA1438AAD5BC37C6D61ACB7</td>\n",
       "      <td>1A67A5F1E0D84FB9B48234AE65086375</td>\n",
       "      <td>[\"audio_0043DE592CA1438AAD5BC37C6D61ACB7.mp3.m...</td>\n",
       "      <td>video___nSkbAWc1PyU.mp4</td>\n",
       "    </tr>\n",
       "    <tr>\n",
       "      <th>6</th>\n",
       "      <td>004A534402F048C095F5939DD5A9150D</td>\n",
       "      <td>1A67A5F1E0D84FB9B48234AE65086375</td>\n",
       "      <td>[\"audio_004A534402F048C095F5939DD5A9150D.mp3.m...</td>\n",
       "      <td>video___b7e-NxGsBq8.mp4</td>\n",
       "    </tr>\n",
       "    <tr>\n",
       "      <th>7</th>\n",
       "      <td>004BFE4E19CD43A2947BCC9E2C266917</td>\n",
       "      <td>1A67A5F1E0D84FB9B48234AE65086375</td>\n",
       "      <td>[\"audio_004BFE4E19CD43A2947BCC9E2C266917.mp3.m...</td>\n",
       "      <td>video___32VKCbcNtIY.mp4</td>\n",
       "    </tr>\n",
       "    <tr>\n",
       "      <th>8</th>\n",
       "      <td>005CA0AE70244931BE169B418C4DEDC1</td>\n",
       "      <td>1A67A5F1E0D84FB9B48234AE65086375</td>\n",
       "      <td>[\"audio_005CA0AE70244931BE169B418C4DEDC1.mp3.m...</td>\n",
       "      <td>video___wLgrT5qb9Ko.mp4</td>\n",
       "    </tr>\n",
       "    <tr>\n",
       "      <th>9</th>\n",
       "      <td>0067BC4FFE814C56A450D11384550A95</td>\n",
       "      <td>1A67A5F1E0D84FB9B48234AE65086375</td>\n",
       "      <td>[\"audio_0067BC4FFE814C56A450D11384550A95.mp3.m...</td>\n",
       "      <td>video___IXOCKXl3ynI.mp4</td>\n",
       "    </tr>\n",
       "  </tbody>\n",
       "</table>\n",
       "</div>"
      ],
      "text/plain": [
       "                                  0                                 1  \\\n",
       "0  000D34C665FE48EB9F41AE92FACAC587  1A67A5F1E0D84FB9B48234AE65086375   \n",
       "1  0012AFD40C36464186BC41D017B607B3  1A67A5F1E0D84FB9B48234AE65086375   \n",
       "2  0013393F97104293BB3392478F97A03F  1A67A5F1E0D84FB9B48234AE65086375   \n",
       "3  001C21CCE1DB4BD1BA3A9757EB6D0C46  1A67A5F1E0D84FB9B48234AE65086375   \n",
       "4  001F4070016A44E082A2427567C65143  1A67A5F1E0D84FB9B48234AE65086375   \n",
       "5  0043DE592CA1438AAD5BC37C6D61ACB7  1A67A5F1E0D84FB9B48234AE65086375   \n",
       "6  004A534402F048C095F5939DD5A9150D  1A67A5F1E0D84FB9B48234AE65086375   \n",
       "7  004BFE4E19CD43A2947BCC9E2C266917  1A67A5F1E0D84FB9B48234AE65086375   \n",
       "8  005CA0AE70244931BE169B418C4DEDC1  1A67A5F1E0D84FB9B48234AE65086375   \n",
       "9  0067BC4FFE814C56A450D11384550A95  1A67A5F1E0D84FB9B48234AE65086375   \n",
       "\n",
       "                                                   2                        3  \n",
       "0  [\"audio_000D34C665FE48EB9F41AE92FACAC587.mp3.m...  video___068Isskeal4.mp4  \n",
       "1  [\"audio_0012AFD40C36464186BC41D017B607B3.mp3.m...  video___9mVRN1Fe8d8.mp4  \n",
       "2  [\"audio_0013393F97104293BB3392478F97A03F.mp3.m...  video___brQ-EWzgEX0.mp4  \n",
       "3  [\"audio_001C21CCE1DB4BD1BA3A9757EB6D0C46.mp3.m...  video___UnCaBnMy4qk.mp4  \n",
       "4  [\"audio_001F4070016A44E082A2427567C65143.mp3.m...  video___XKZJwqILLbk.mp4  \n",
       "5  [\"audio_0043DE592CA1438AAD5BC37C6D61ACB7.mp3.m...  video___nSkbAWc1PyU.mp4  \n",
       "6  [\"audio_004A534402F048C095F5939DD5A9150D.mp3.m...  video___b7e-NxGsBq8.mp4  \n",
       "7  [\"audio_004BFE4E19CD43A2947BCC9E2C266917.mp3.m...  video___32VKCbcNtIY.mp4  \n",
       "8  [\"audio_005CA0AE70244931BE169B418C4DEDC1.mp3.m...  video___wLgrT5qb9Ko.mp4  \n",
       "9  [\"audio_0067BC4FFE814C56A450D11384550A95.mp3.m...  video___IXOCKXl3ynI.mp4  "
      ]
     },
     "execution_count": 6,
     "metadata": {},
     "output_type": "execute_result"
    }
   ],
   "source": [
    "pd.DataFrame(result)"
   ]
  },
  {
   "cell_type": "markdown",
   "metadata": {},
   "source": [
    "# 2.  Bài tập crawler E5"
   ]
  },
  {
   "cell_type": "markdown",
   "metadata": {},
   "source": [
    "## Trước khi xóa"
   ]
  },
  {
   "cell_type": "code",
   "execution_count": 7,
   "metadata": {},
   "outputs": [],
   "source": [
    "query = f'''SELECT album_track.*\n",
    "FROM albums\n",
    "         JOIN album_track ON albums.UUID = album_track.AlbumId\n",
    "         JOIN artist_track on artist_track.TrackId = album_track.TrackId\n",
    "         JOIN tracks on tracks.Id = album_track.TrackId\n",
    "WHERE album_track.AlbumId = '3DC59AE84D3B4F01AC6AB1728F89B959'\n",
    "and album_track.TrackId = '8F764CF0D24A452680B234A6905E33E9'\n",
    "LIMIT 10;'''\n",
    "\n",
    "mycursor.execute(query)\n",
    "result = mycursor.fetchall()"
   ]
  },
  {
   "cell_type": "code",
   "execution_count": 8,
   "metadata": {},
   "outputs": [
    {
     "data": {
      "text/html": [
       "<div>\n",
       "<style scoped>\n",
       "    .dataframe tbody tr th:only-of-type {\n",
       "        vertical-align: middle;\n",
       "    }\n",
       "\n",
       "    .dataframe tbody tr th {\n",
       "        vertical-align: top;\n",
       "    }\n",
       "\n",
       "    .dataframe thead th {\n",
       "        text-align: right;\n",
       "    }\n",
       "</style>\n",
       "<table border=\"1\" class=\"dataframe\">\n",
       "  <thead>\n",
       "    <tr style=\"text-align: right;\">\n",
       "      <th></th>\n",
       "      <th>0</th>\n",
       "      <th>1</th>\n",
       "      <th>2</th>\n",
       "      <th>3</th>\n",
       "      <th>4</th>\n",
       "      <th>5</th>\n",
       "      <th>6</th>\n",
       "    </tr>\n",
       "  </thead>\n",
       "  <tbody>\n",
       "    <tr>\n",
       "      <th>0</th>\n",
       "      <td>3DC59AE84D3B4F01AC6AB1728F89B959</td>\n",
       "      <td>8F764CF0D24A452680B234A6905E33E9</td>\n",
       "      <td>None</td>\n",
       "      <td>1</td>\n",
       "      <td>1</td>\n",
       "      <td>0</td>\n",
       "      <td>None</td>\n",
       "    </tr>\n",
       "  </tbody>\n",
       "</table>\n",
       "</div>"
      ],
      "text/plain": [
       "                                  0                                 1     2  \\\n",
       "0  3DC59AE84D3B4F01AC6AB1728F89B959  8F764CF0D24A452680B234A6905E33E9  None   \n",
       "\n",
       "   3  4  5     6  \n",
       "0  1  1  0  None  "
      ]
     },
     "execution_count": 8,
     "metadata": {},
     "output_type": "execute_result"
    }
   ],
   "source": [
    "pd.DataFrame(result)"
   ]
  },
  {
   "cell_type": "code",
   "execution_count": 9,
   "metadata": {},
   "outputs": [],
   "source": [
    "query = f'''SELECT tracks.*\n",
    "FROM albums\n",
    "         JOIN album_track ON albums.UUID = album_track.AlbumId\n",
    "         JOIN artist_track on artist_track.TrackId = album_track.TrackId\n",
    "         JOIN tracks on tracks.Id = album_track.TrackId\n",
    "WHERE album_track.AlbumId = '3DC59AE84D3B4F01AC6AB1728F89B959'\n",
    "and album_track.TrackId = '8F764CF0D24A452680B234A6905E33E9'\n",
    "LIMIT 10;'''\n",
    "\n",
    "mycursor.execute(query)\n",
    "result = mycursor.fetchall()"
   ]
  },
  {
   "cell_type": "code",
   "execution_count": 10,
   "metadata": {},
   "outputs": [
    {
     "data": {
      "text/html": [
       "<div>\n",
       "<style scoped>\n",
       "    .dataframe tbody tr th:only-of-type {\n",
       "        vertical-align: middle;\n",
       "    }\n",
       "\n",
       "    .dataframe tbody tr th {\n",
       "        vertical-align: top;\n",
       "    }\n",
       "\n",
       "    .dataframe thead th {\n",
       "        text-align: right;\n",
       "    }\n",
       "</style>\n",
       "<table border=\"1\" class=\"dataframe\">\n",
       "  <thead>\n",
       "    <tr style=\"text-align: right;\">\n",
       "      <th></th>\n",
       "      <th>0</th>\n",
       "      <th>1</th>\n",
       "      <th>2</th>\n",
       "      <th>3</th>\n",
       "      <th>4</th>\n",
       "      <th>5</th>\n",
       "      <th>6</th>\n",
       "      <th>7</th>\n",
       "      <th>8</th>\n",
       "      <th>9</th>\n",
       "      <th>...</th>\n",
       "      <th>15</th>\n",
       "      <th>16</th>\n",
       "      <th>17</th>\n",
       "      <th>18</th>\n",
       "      <th>19</th>\n",
       "      <th>20</th>\n",
       "      <th>21</th>\n",
       "      <th>22</th>\n",
       "      <th>23</th>\n",
       "      <th>24</th>\n",
       "    </tr>\n",
       "  </thead>\n",
       "  <tbody>\n",
       "    <tr>\n",
       "      <th>0</th>\n",
       "      <td>8F764CF0D24A452680B234A6905E33E9</td>\n",
       "      <td>208545462423420</td>\n",
       "      <td>1</td>\n",
       "      <td>2020-09-03 09:05:07</td>\n",
       "      <td>2018-01-29 05:27:51</td>\n",
       "      <td>Boyfriend</td>\n",
       "      <td>Justin Bieber</td>\n",
       "      <td>Boyfriend (Oliver Twizt Radio)</td>\n",
       "      <td>None</td>\n",
       "      <td>8</td>\n",
       "      <td>...</td>\n",
       "      <td>None</td>\n",
       "      <td>https://aimg.samV-vid.com/samV-images/al...</td>\n",
       "      <td>None</td>\n",
       "      <td>None</td>\n",
       "      <td>None</td>\n",
       "      <td>{\"short_id\": \"m5-Ki1cq\", \"releasedate\": \"2012-...</td>\n",
       "      <td>{\"wiki\": {\"brief\": \"\\\"Boyfriend\\\" is a song by...</td>\n",
       "      <td>v</td>\n",
       "      <td>0</td>\n",
       "      <td>2012-06-12</td>\n",
       "    </tr>\n",
       "  </tbody>\n",
       "</table>\n",
       "<p>1 rows × 25 columns</p>\n",
       "</div>"
      ],
      "text/plain": [
       "                                 0                1   2                   3   \\\n",
       "0  8F764CF0D24A452680B234A6905E33E9  208545462423420   1 2020-09-03 09:05:07   \n",
       "\n",
       "                   4           5              6   \\\n",
       "0 2018-01-29 05:27:51  Boyfriend   Justin Bieber   \n",
       "\n",
       "                               7     8   9   ...    15  \\\n",
       "0  Boyfriend (Oliver Twizt Radio)  None   8  ...  None   \n",
       "\n",
       "                                                  16    17    18    19  \\\n",
       "0  https://aimg.samV-vid.com/samV-images/al...  None  None  None   \n",
       "\n",
       "                                                  20  \\\n",
       "0  {\"short_id\": \"m5-Ki1cq\", \"releasedate\": \"2012-...   \n",
       "\n",
       "                                                  21 22 23         24  \n",
       "0  {\"wiki\": {\"brief\": \"\\\"Boyfriend\\\" is a song by...  v  0 2012-06-12  \n",
       "\n",
       "[1 rows x 25 columns]"
      ]
     },
     "execution_count": 10,
     "metadata": {},
     "output_type": "execute_result"
    }
   ],
   "source": [
    "pd.DataFrame(result)"
   ]
  },
  {
   "cell_type": "code",
   "execution_count": 11,
   "metadata": {},
   "outputs": [],
   "source": [
    "query = f'''SELECT datasources.*\n",
    "FROM albums\n",
    "         JOIN album_track ON albums.UUID = album_track.AlbumId\n",
    "         JOIN artist_track on artist_track.TrackId = album_track.TrackId\n",
    "         JOIN tracks on tracks.Id = album_track.TrackId\n",
    "         JOIN datasources ON datasources.TrackId = tracks.Id\n",
    "WHERE album_track.AlbumId = '3DC59AE84D3B4F01AC6AB1728F89B959'\n",
    "and album_track.TrackId = '8F764CF0D24A452680B234A6905E33E9'\n",
    "LIMIT 10;'''\n",
    "\n",
    "mycursor.execute(query)\n",
    "result = mycursor.fetchall()"
   ]
  },
  {
   "cell_type": "code",
   "execution_count": 12,
   "metadata": {
    "scrolled": true
   },
   "outputs": [
    {
     "data": {
      "text/html": [
       "<div>\n",
       "<style scoped>\n",
       "    .dataframe tbody tr th:only-of-type {\n",
       "        vertical-align: middle;\n",
       "    }\n",
       "\n",
       "    .dataframe tbody tr th {\n",
       "        vertical-align: top;\n",
       "    }\n",
       "\n",
       "    .dataframe thead th {\n",
       "        text-align: right;\n",
       "    }\n",
       "</style>\n",
       "<table border=\"1\" class=\"dataframe\">\n",
       "  <thead>\n",
       "    <tr style=\"text-align: right;\">\n",
       "      <th></th>\n",
       "      <th>0</th>\n",
       "      <th>1</th>\n",
       "      <th>2</th>\n",
       "      <th>3</th>\n",
       "      <th>4</th>\n",
       "      <th>5</th>\n",
       "      <th>6</th>\n",
       "      <th>7</th>\n",
       "      <th>8</th>\n",
       "      <th>9</th>\n",
       "      <th>...</th>\n",
       "      <th>20</th>\n",
       "      <th>21</th>\n",
       "      <th>22</th>\n",
       "      <th>23</th>\n",
       "      <th>24</th>\n",
       "      <th>25</th>\n",
       "      <th>26</th>\n",
       "      <th>27</th>\n",
       "      <th>28</th>\n",
       "      <th>29</th>\n",
       "    </tr>\n",
       "  </thead>\n",
       "  <tbody>\n",
       "    <tr>\n",
       "      <th>0</th>\n",
       "      <td>0DD69E521CA2498CB1F92DAA57373494</td>\n",
       "      <td>8F764CF0D24A452680B234A6905E33E9</td>\n",
       "      <td>-86</td>\n",
       "      <td>2019-10-03 03:33:31</td>\n",
       "      <td>2019-04-16 14:42:23</td>\n",
       "      <td>1A67A5F1E0D84FB9B48234AE65086375</td>\n",
       "      <td>YouTube</td>\n",
       "      <td>https://www.youtube.com/watch?v=7Z3NE1xTjow</td>\n",
       "      <td>1</td>\n",
       "      <td>2019-04-16 14:42:23</td>\n",
       "      <td>...</td>\n",
       "      <td>NaN</td>\n",
       "      <td>{\"source\": {\"id\": \"7Z3NE1xTjow\", \"ext\": \"m4a\",...</td>\n",
       "      <td>1</td>\n",
       "      <td>None</td>\n",
       "      <td>NaN</td>\n",
       "      <td></td>\n",
       "      <td>0</td>\n",
       "      <td>26965</td>\n",
       "      <td>2019-04-16 14:42:23</td>\n",
       "      <td>NaN</td>\n",
       "    </tr>\n",
       "    <tr>\n",
       "      <th>1</th>\n",
       "      <td>178C41D4A1FA42748583C980E3E95B90</td>\n",
       "      <td>8F764CF0D24A452680B234A6905E33E9</td>\n",
       "      <td>-9</td>\n",
       "      <td>2019-01-21 11:55:42</td>\n",
       "      <td>2018-08-24 08:19:52</td>\n",
       "      <td>1A67A5F1E0D84FB9B48234AE65086375</td>\n",
       "      <td>YouTube</td>\n",
       "      <td>https://www.youtube.com/watch?v=lhALLT3FRcw</td>\n",
       "      <td>0</td>\n",
       "      <td>NaT</td>\n",
       "      <td>...</td>\n",
       "      <td>NaN</td>\n",
       "      <td>{\"source\": {\"id\": \"lhALLT3FRcw\", \"ext\": \"webm\"...</td>\n",
       "      <td>1</td>\n",
       "      <td>None</td>\n",
       "      <td>NaN</td>\n",
       "      <td></td>\n",
       "      <td>0</td>\n",
       "      <td>12966</td>\n",
       "      <td>2018-09-02 08:08:42</td>\n",
       "      <td>NaN</td>\n",
       "    </tr>\n",
       "    <tr>\n",
       "      <th>2</th>\n",
       "      <td>6B2BF0EB73164A8FA9426CAEC62598B1</td>\n",
       "      <td>8F764CF0D24A452680B234A6905E33E9</td>\n",
       "      <td>1</td>\n",
       "      <td>2020-09-30 07:59:11</td>\n",
       "      <td>2017-06-13 21:14:45</td>\n",
       "      <td>C78F687CB3BE4D90B30F49435317C3AC</td>\n",
       "      <td>youtube</td>\n",
       "      <td>https://www.youtube.com/watch?v=7Z3NE1xTjow</td>\n",
       "      <td>1</td>\n",
       "      <td>2018-01-25 11:00:36</td>\n",
       "      <td>...</td>\n",
       "      <td>720.0</td>\n",
       "      <td>{\"samV_title\": \"Boyfriend (Oliver Twizt Rad...</td>\n",
       "      <td>1</td>\n",
       "      <td>{\"faststart\": true, \"resize_images\": [\"video__...</td>\n",
       "      <td>5.542625e+14</td>\n",
       "      <td>7Z3NE1xTjow</td>\n",
       "      <td>10</td>\n",
       "      <td>26482</td>\n",
       "      <td>2018-08-02 18:21:22</td>\n",
       "      <td>921600.0</td>\n",
       "    </tr>\n",
       "    <tr>\n",
       "      <th>3</th>\n",
       "      <td>6E32B86C4F8A4C28B2DB646C077FF836</td>\n",
       "      <td>8F764CF0D24A452680B234A6905E33E9</td>\n",
       "      <td>1</td>\n",
       "      <td>2020-09-30 17:44:44</td>\n",
       "      <td>2018-01-29 05:27:51</td>\n",
       "      <td>C78F687CB3BE4D90B30F49435317C3AC</td>\n",
       "      <td>youtube</td>\n",
       "      <td>https://www.youtube.com/watch?v=lhALLT3FRcw</td>\n",
       "      <td>1</td>\n",
       "      <td>2018-01-29 18:51:12</td>\n",
       "      <td>...</td>\n",
       "      <td>720.0</td>\n",
       "      <td>{\"samV_title\": \"Boyfriend (Oliver Twizt Rad...</td>\n",
       "      <td>1</td>\n",
       "      <td>{\"faststart\": true, \"resize_images\": [\"video__...</td>\n",
       "      <td>2.085455e+14</td>\n",
       "      <td>lhALLT3FRcw</td>\n",
       "      <td>10</td>\n",
       "      <td>12929</td>\n",
       "      <td>2018-08-02 16:38:22</td>\n",
       "      <td>921600.0</td>\n",
       "    </tr>\n",
       "    <tr>\n",
       "      <th>4</th>\n",
       "      <td>B4C0353EEBF24B1FBCB3FC06284AD55F</td>\n",
       "      <td>8F764CF0D24A452680B234A6905E33E9</td>\n",
       "      <td>-86</td>\n",
       "      <td>2019-10-03 03:33:31</td>\n",
       "      <td>2019-03-24 13:12:01</td>\n",
       "      <td>1A67A5F1E0D84FB9B48234AE65086375</td>\n",
       "      <td>youtube</td>\n",
       "      <td>https://www.youtube.com/watch?v=lhALLT3FRcw</td>\n",
       "      <td>2</td>\n",
       "      <td>2019-03-24 13:12:01</td>\n",
       "      <td>...</td>\n",
       "      <td>NaN</td>\n",
       "      <td>None</td>\n",
       "      <td>1</td>\n",
       "      <td>{\"original_datasource\": \"6E32B86C4F8A4C28B2DB6...</td>\n",
       "      <td>2.085455e+14</td>\n",
       "      <td>lhALLT3FRcw</td>\n",
       "      <td>20</td>\n",
       "      <td>12929</td>\n",
       "      <td>2018-08-02 16:38:22</td>\n",
       "      <td>NaN</td>\n",
       "    </tr>\n",
       "    <tr>\n",
       "      <th>5</th>\n",
       "      <td>EFF5E67EB096486B9F84BF78AB941B81</td>\n",
       "      <td>8F764CF0D24A452680B234A6905E33E9</td>\n",
       "      <td>1</td>\n",
       "      <td>2021-01-12 09:25:47</td>\n",
       "      <td>2019-03-24 13:12:01</td>\n",
       "      <td>1A67A5F1E0D84FB9B48234AE65086375</td>\n",
       "      <td>youtube</td>\n",
       "      <td>https://www.youtube.com/watch?v=7Z3NE1xTjow</td>\n",
       "      <td>2</td>\n",
       "      <td>2019-03-24 13:12:01</td>\n",
       "      <td>...</td>\n",
       "      <td>NaN</td>\n",
       "      <td>{\"samV_title\": \"Boyfriend (Oliver Twizt Rad...</td>\n",
       "      <td>1</td>\n",
       "      <td>{\"n_favorites\": 42, \"resize_images\": [\"video__...</td>\n",
       "      <td>5.542625e+14</td>\n",
       "      <td>7Z3NE1xTjow</td>\n",
       "      <td>20</td>\n",
       "      <td>26482</td>\n",
       "      <td>2018-08-02 18:21:22</td>\n",
       "      <td>NaN</td>\n",
       "    </tr>\n",
       "  </tbody>\n",
       "</table>\n",
       "<p>6 rows × 30 columns</p>\n",
       "</div>"
      ],
      "text/plain": [
       "                                 0                                 1   2   \\\n",
       "0  0DD69E521CA2498CB1F92DAA57373494  8F764CF0D24A452680B234A6905E33E9 -86   \n",
       "1  178C41D4A1FA42748583C980E3E95B90  8F764CF0D24A452680B234A6905E33E9  -9   \n",
       "2  6B2BF0EB73164A8FA9426CAEC62598B1  8F764CF0D24A452680B234A6905E33E9   1   \n",
       "3  6E32B86C4F8A4C28B2DB646C077FF836  8F764CF0D24A452680B234A6905E33E9   1   \n",
       "4  B4C0353EEBF24B1FBCB3FC06284AD55F  8F764CF0D24A452680B234A6905E33E9 -86   \n",
       "5  EFF5E67EB096486B9F84BF78AB941B81  8F764CF0D24A452680B234A6905E33E9   1   \n",
       "\n",
       "                   3                   4                                 5   \\\n",
       "0 2019-10-03 03:33:31 2019-04-16 14:42:23  1A67A5F1E0D84FB9B48234AE65086375   \n",
       "1 2019-01-21 11:55:42 2018-08-24 08:19:52  1A67A5F1E0D84FB9B48234AE65086375   \n",
       "2 2020-09-30 07:59:11 2017-06-13 21:14:45  C78F687CB3BE4D90B30F49435317C3AC   \n",
       "3 2020-09-30 17:44:44 2018-01-29 05:27:51  C78F687CB3BE4D90B30F49435317C3AC   \n",
       "4 2019-10-03 03:33:31 2019-03-24 13:12:01  1A67A5F1E0D84FB9B48234AE65086375   \n",
       "5 2021-01-12 09:25:47 2019-03-24 13:12:01  1A67A5F1E0D84FB9B48234AE65086375   \n",
       "\n",
       "        6                                            7   8   \\\n",
       "0  YouTube  https://www.youtube.com/watch?v=7Z3NE1xTjow   1   \n",
       "1  YouTube  https://www.youtube.com/watch?v=lhALLT3FRcw   0   \n",
       "2  youtube  https://www.youtube.com/watch?v=7Z3NE1xTjow   1   \n",
       "3  youtube  https://www.youtube.com/watch?v=lhALLT3FRcw   1   \n",
       "4  youtube  https://www.youtube.com/watch?v=lhALLT3FRcw   2   \n",
       "5  youtube  https://www.youtube.com/watch?v=7Z3NE1xTjow   2   \n",
       "\n",
       "                   9   ...     20  \\\n",
       "0 2019-04-16 14:42:23  ...    NaN   \n",
       "1                 NaT  ...    NaN   \n",
       "2 2018-01-25 11:00:36  ...  720.0   \n",
       "3 2018-01-29 18:51:12  ...  720.0   \n",
       "4 2019-03-24 13:12:01  ...    NaN   \n",
       "5 2019-03-24 13:12:01  ...    NaN   \n",
       "\n",
       "                                                  21  22  \\\n",
       "0  {\"source\": {\"id\": \"7Z3NE1xTjow\", \"ext\": \"m4a\",...   1   \n",
       "1  {\"source\": {\"id\": \"lhALLT3FRcw\", \"ext\": \"webm\"...   1   \n",
       "2  {\"samV_title\": \"Boyfriend (Oliver Twizt Rad...   1   \n",
       "3  {\"samV_title\": \"Boyfriend (Oliver Twizt Rad...   1   \n",
       "4                                               None   1   \n",
       "5  {\"samV_title\": \"Boyfriend (Oliver Twizt Rad...   1   \n",
       "\n",
       "                                                  23            24  \\\n",
       "0                                               None           NaN   \n",
       "1                                               None           NaN   \n",
       "2  {\"faststart\": true, \"resize_images\": [\"video__...  5.542625e+14   \n",
       "3  {\"faststart\": true, \"resize_images\": [\"video__...  2.085455e+14   \n",
       "4  {\"original_datasource\": \"6E32B86C4F8A4C28B2DB6...  2.085455e+14   \n",
       "5  {\"n_favorites\": 42, \"resize_images\": [\"video__...  5.542625e+14   \n",
       "\n",
       "            25  26     27                  28        29  \n",
       "0                0  26965 2019-04-16 14:42:23       NaN  \n",
       "1                0  12966 2018-09-02 08:08:42       NaN  \n",
       "2  7Z3NE1xTjow  10  26482 2018-08-02 18:21:22  921600.0  \n",
       "3  lhALLT3FRcw  10  12929 2018-08-02 16:38:22  921600.0  \n",
       "4  lhALLT3FRcw  20  12929 2018-08-02 16:38:22       NaN  \n",
       "5  7Z3NE1xTjow  20  26482 2018-08-02 18:21:22       NaN  \n",
       "\n",
       "[6 rows x 30 columns]"
      ]
     },
     "execution_count": 12,
     "metadata": {},
     "output_type": "execute_result"
    }
   ],
   "source": [
    "pd.DataFrame(result)"
   ]
  },
  {
   "cell_type": "markdown",
   "metadata": {},
   "source": [
    "##\tXóa 1 record trong bảng tracks\t3DC59AE84D3B4F01AC6AB1728F89B959\n",
    "##\tXóa 1 record trong bảng datasources\t3DC59AE84D3B4F01AC6AB1728F89B959\n",
    "##\tXóa 1 record trong bảng artist_track\t28940B7D2941459AB548CCBA771EB209"
   ]
  },
  {
   "cell_type": "code",
   "execution_count": 12,
   "metadata": {},
   "outputs": [],
   "source": [
    "query = f'''DELETE\n",
    "FROM album_track\n",
    "WHERE album_track.AlbumId = '3DC59AE84D3B4F01AC6AB1728F89B959'\n",
    "  AND album_track.TrackId = '8F764CF0D24A452680B234A6905E33E9';'''\n",
    "mycursor.execute(query)"
   ]
  },
  {
   "cell_type": "code",
   "execution_count": 13,
   "metadata": {},
   "outputs": [],
   "source": [
    "query = f'''DELETE\n",
    "FROM tracks\n",
    "WHERE tracks.Id = '8F764CF0D24A452680B234A6905E33E9';'''\n",
    "mycursor.execute(query)"
   ]
  },
  {
   "cell_type": "code",
   "execution_count": 14,
   "metadata": {},
   "outputs": [],
   "source": [
    "query = f'''DELETE\n",
    "FROM datasources\n",
    "where Id = '0DD69E521CA2498CB1F92DAA57373494';'''\n",
    "mycursor.execute(query)"
   ]
  },
  {
   "cell_type": "markdown",
   "metadata": {},
   "source": [
    "## Sau khi xóa"
   ]
  },
  {
   "cell_type": "code",
   "execution_count": 15,
   "metadata": {},
   "outputs": [],
   "source": [
    "query = f'''SELECT album_track.*\n",
    "FROM albums\n",
    "         JOIN album_track ON albums.UUID = album_track.AlbumId\n",
    "         JOIN artist_track on artist_track.TrackId = album_track.TrackId\n",
    "         JOIN tracks on tracks.Id = album_track.TrackId\n",
    "WHERE album_track.AlbumId = '3DC59AE84D3B4F01AC6AB1728F89B959'\n",
    "and album_track.TrackId = '8F764CF0D24A452680B234A6905E33E9'\n",
    "LIMIT 10;'''\n",
    "\n",
    "mycursor.execute(query)\n",
    "result = mycursor.fetchall()"
   ]
  },
  {
   "cell_type": "code",
   "execution_count": 16,
   "metadata": {},
   "outputs": [
    {
     "data": {
      "text/html": [
       "<div>\n",
       "<style scoped>\n",
       "    .dataframe tbody tr th:only-of-type {\n",
       "        vertical-align: middle;\n",
       "    }\n",
       "\n",
       "    .dataframe tbody tr th {\n",
       "        vertical-align: top;\n",
       "    }\n",
       "\n",
       "    .dataframe thead th {\n",
       "        text-align: right;\n",
       "    }\n",
       "</style>\n",
       "<table border=\"1\" class=\"dataframe\">\n",
       "  <thead>\n",
       "    <tr style=\"text-align: right;\">\n",
       "      <th></th>\n",
       "    </tr>\n",
       "  </thead>\n",
       "  <tbody>\n",
       "  </tbody>\n",
       "</table>\n",
       "</div>"
      ],
      "text/plain": [
       "Empty DataFrame\n",
       "Columns: []\n",
       "Index: []"
      ]
     },
     "execution_count": 16,
     "metadata": {},
     "output_type": "execute_result"
    }
   ],
   "source": [
    "pd.DataFrame(result)"
   ]
  },
  {
   "cell_type": "code",
   "execution_count": 17,
   "metadata": {},
   "outputs": [],
   "source": [
    "query = f'''SELECT tracks.*\n",
    "FROM albums\n",
    "         JOIN album_track ON albums.UUID = album_track.AlbumId\n",
    "         JOIN artist_track on artist_track.TrackId = album_track.TrackId\n",
    "         JOIN tracks on tracks.Id = album_track.TrackId\n",
    "WHERE album_track.AlbumId = '3DC59AE84D3B4F01AC6AB1728F89B959'\n",
    "and album_track.TrackId = '8F764CF0D24A452680B234A6905E33E9'\n",
    "LIMIT 10;'''\n",
    "\n",
    "mycursor.execute(query)\n",
    "result = mycursor.fetchall()"
   ]
  },
  {
   "cell_type": "code",
   "execution_count": 18,
   "metadata": {},
   "outputs": [
    {
     "data": {
      "text/html": [
       "<div>\n",
       "<style scoped>\n",
       "    .dataframe tbody tr th:only-of-type {\n",
       "        vertical-align: middle;\n",
       "    }\n",
       "\n",
       "    .dataframe tbody tr th {\n",
       "        vertical-align: top;\n",
       "    }\n",
       "\n",
       "    .dataframe thead th {\n",
       "        text-align: right;\n",
       "    }\n",
       "</style>\n",
       "<table border=\"1\" class=\"dataframe\">\n",
       "  <thead>\n",
       "    <tr style=\"text-align: right;\">\n",
       "      <th></th>\n",
       "    </tr>\n",
       "  </thead>\n",
       "  <tbody>\n",
       "  </tbody>\n",
       "</table>\n",
       "</div>"
      ],
      "text/plain": [
       "Empty DataFrame\n",
       "Columns: []\n",
       "Index: []"
      ]
     },
     "execution_count": 18,
     "metadata": {},
     "output_type": "execute_result"
    }
   ],
   "source": [
    "pd.DataFrame(result)"
   ]
  },
  {
   "cell_type": "code",
   "execution_count": 19,
   "metadata": {},
   "outputs": [],
   "source": [
    "query = f'''SELECT datasources.*\n",
    "FROM albums\n",
    "         JOIN album_track ON albums.UUID = album_track.AlbumId\n",
    "         JOIN artist_track on artist_track.TrackId = album_track.TrackId\n",
    "         JOIN tracks on tracks.Id = album_track.TrackId\n",
    "         JOIN datasources ON datasources.TrackId = tracks.Id\n",
    "WHERE album_track.AlbumId = '3DC59AE84D3B4F01AC6AB1728F89B959'\n",
    "and album_track.TrackId = '8F764CF0D24A452680B234A6905E33E9'\n",
    "LIMIT 10;'''\n",
    "\n",
    "mycursor.execute(query)\n",
    "result = mycursor.fetchall()"
   ]
  },
  {
   "cell_type": "code",
   "execution_count": 20,
   "metadata": {
    "scrolled": true
   },
   "outputs": [
    {
     "data": {
      "text/html": [
       "<div>\n",
       "<style scoped>\n",
       "    .dataframe tbody tr th:only-of-type {\n",
       "        vertical-align: middle;\n",
       "    }\n",
       "\n",
       "    .dataframe tbody tr th {\n",
       "        vertical-align: top;\n",
       "    }\n",
       "\n",
       "    .dataframe thead th {\n",
       "        text-align: right;\n",
       "    }\n",
       "</style>\n",
       "<table border=\"1\" class=\"dataframe\">\n",
       "  <thead>\n",
       "    <tr style=\"text-align: right;\">\n",
       "      <th></th>\n",
       "    </tr>\n",
       "  </thead>\n",
       "  <tbody>\n",
       "  </tbody>\n",
       "</table>\n",
       "</div>"
      ],
      "text/plain": [
       "Empty DataFrame\n",
       "Columns: []\n",
       "Index: []"
      ]
     },
     "execution_count": 20,
     "metadata": {},
     "output_type": "execute_result"
    }
   ],
   "source": [
    "pd.DataFrame(result)"
   ]
  },
  {
   "cell_type": "markdown",
   "metadata": {},
   "source": [
    "## Insert"
   ]
  },
  {
   "cell_type": "code",
   "execution_count": 18,
   "metadata": {},
   "outputs": [],
   "source": [
    "query = f'''insert into crawlingtasks(Id, ActionId, TaskDetail, Priority) values (uuid4(), '9C8473C36E57472281A1C7936108FC06',JSON_SET(IFNULL(crawlingtasks.TaskDetail, JSON_OBJECT()), '$.album_id',1440807599 ,'$.region','us','$.PIC', 'V_Crawler_Albums_Sam'),1999);'''\n",
    "mycursor.execute(query)\n",
    "mydb.commit()"
   ]
  },
  {
   "cell_type": "code",
   "execution_count": 17,
   "metadata": {},
   "outputs": [],
   "source": []
  },
  {
   "cell_type": "markdown",
   "metadata": {},
   "source": [
    "## Checking"
   ]
  },
  {
   "cell_type": "code",
   "execution_count": 33,
   "metadata": {},
   "outputs": [],
   "source": [
    "query = f'''SELECT *\n",
    "FROM crawlingtasks\n",
    "where crawlingtasks.TaskDetail ->> \"$.PIC\" = 'V_Crawler_Albums_Sam'\n",
    "ORDER BY CreatedAt DESC\n",
    "LIMIT 10'''\n",
    "mycursor.execute(query)\n",
    "result = mycursor.fetchall()\n"
   ]
  },
  {
   "cell_type": "code",
   "execution_count": 34,
   "metadata": {},
   "outputs": [
    {
     "data": {
      "text/html": [
       "<div>\n",
       "<style scoped>\n",
       "    .dataframe tbody tr th:only-of-type {\n",
       "        vertical-align: middle;\n",
       "    }\n",
       "\n",
       "    .dataframe tbody tr th {\n",
       "        vertical-align: top;\n",
       "    }\n",
       "\n",
       "    .dataframe thead th {\n",
       "        text-align: right;\n",
       "    }\n",
       "</style>\n",
       "<table border=\"1\" class=\"dataframe\">\n",
       "  <thead>\n",
       "    <tr style=\"text-align: right;\">\n",
       "      <th></th>\n",
       "      <th>0</th>\n",
       "      <th>1</th>\n",
       "      <th>2</th>\n",
       "      <th>3</th>\n",
       "      <th>4</th>\n",
       "      <th>5</th>\n",
       "      <th>6</th>\n",
       "      <th>7</th>\n",
       "      <th>8</th>\n",
       "      <th>9</th>\n",
       "      <th>10</th>\n",
       "      <th>11</th>\n",
       "      <th>12</th>\n",
       "    </tr>\n",
       "  </thead>\n",
       "  <tbody>\n",
       "    <tr>\n",
       "      <th>0</th>\n",
       "      <td>5584D7933556437D993883F5F3C8370B</td>\n",
       "      <td>None</td>\n",
       "      <td>2021-01-21 07:33:56</td>\n",
       "      <td>9C8473C36E57472281A1C7936108FC06</td>\n",
       "      <td>None</td>\n",
       "      <td>None</td>\n",
       "      <td>1999</td>\n",
       "      <td>{\"PIC\": \"V_Crawler_Albums_Sam\", \"region\": \"us\"...</td>\n",
       "      <td>None</td>\n",
       "      <td>None</td>\n",
       "      <td>None</td>\n",
       "      <td>None</td>\n",
       "      <td>0</td>\n",
       "    </tr>\n",
       "  </tbody>\n",
       "</table>\n",
       "</div>"
      ],
      "text/plain": [
       "                                  0     1                   2  \\\n",
       "0  5584D7933556437D993883F5F3C8370B  None 2021-01-21 07:33:56   \n",
       "\n",
       "                                  3     4     5     6  \\\n",
       "0  9C8473C36E57472281A1C7936108FC06  None  None  1999   \n",
       "\n",
       "                                                   7     8     9    10    11  \\\n",
       "0  {\"PIC\": \"V_Crawler_Albums_Sam\", \"region\": \"us\"...  None  None  None  None   \n",
       "\n",
       "   12  \n",
       "0   0  "
      ]
     },
     "execution_count": 34,
     "metadata": {},
     "output_type": "execute_result"
    }
   ],
   "source": [
    "pd.DataFrame(result)"
   ]
  },
  {
   "cell_type": "markdown",
   "metadata": {},
   "source": [
    "## Sau khi Insert"
   ]
  },
  {
   "cell_type": "code",
   "execution_count": 35,
   "metadata": {},
   "outputs": [],
   "source": [
    "query = f'''SELECT album_track.*\n",
    "FROM albums\n",
    "         JOIN album_track ON albums.UUID = album_track.AlbumId\n",
    "         JOIN artist_track on artist_track.TrackId = album_track.TrackId\n",
    "         JOIN tracks on tracks.Id = album_track.TrackId\n",
    "WHERE album_track.AlbumId = '3DC59AE84D3B4F01AC6AB1728F89B959'\n",
    "and album_track.TrackId = '8F764CF0D24A452680B234A6905E33E9'\n",
    "LIMIT 10;'''\n",
    "\n",
    "mycursor.execute(query)\n",
    "result = mycursor.fetchall()"
   ]
  },
  {
   "cell_type": "code",
   "execution_count": 36,
   "metadata": {},
   "outputs": [
    {
     "data": {
      "text/html": [
       "<div>\n",
       "<style scoped>\n",
       "    .dataframe tbody tr th:only-of-type {\n",
       "        vertical-align: middle;\n",
       "    }\n",
       "\n",
       "    .dataframe tbody tr th {\n",
       "        vertical-align: top;\n",
       "    }\n",
       "\n",
       "    .dataframe thead th {\n",
       "        text-align: right;\n",
       "    }\n",
       "</style>\n",
       "<table border=\"1\" class=\"dataframe\">\n",
       "  <thead>\n",
       "    <tr style=\"text-align: right;\">\n",
       "      <th></th>\n",
       "      <th>0</th>\n",
       "      <th>1</th>\n",
       "      <th>2</th>\n",
       "      <th>3</th>\n",
       "      <th>4</th>\n",
       "      <th>5</th>\n",
       "      <th>6</th>\n",
       "    </tr>\n",
       "  </thead>\n",
       "  <tbody>\n",
       "    <tr>\n",
       "      <th>0</th>\n",
       "      <td>3DC59AE84D3B4F01AC6AB1728F89B959</td>\n",
       "      <td>8F764CF0D24A452680B234A6905E33E9</td>\n",
       "      <td>None</td>\n",
       "      <td>1</td>\n",
       "      <td>1</td>\n",
       "      <td>0</td>\n",
       "      <td>None</td>\n",
       "    </tr>\n",
       "  </tbody>\n",
       "</table>\n",
       "</div>"
      ],
      "text/plain": [
       "                                  0                                 1     2  \\\n",
       "0  3DC59AE84D3B4F01AC6AB1728F89B959  8F764CF0D24A452680B234A6905E33E9  None   \n",
       "\n",
       "   3  4  5     6  \n",
       "0  1  1  0  None  "
      ]
     },
     "execution_count": 36,
     "metadata": {},
     "output_type": "execute_result"
    }
   ],
   "source": [
    "pd.DataFrame(result)"
   ]
  },
  {
   "cell_type": "code",
   "execution_count": 37,
   "metadata": {},
   "outputs": [],
   "source": [
    "query = f'''SELECT tracks.*\n",
    "FROM albums\n",
    "         JOIN album_track ON albums.UUID = album_track.AlbumId\n",
    "         JOIN artist_track on artist_track.TrackId = album_track.TrackId\n",
    "         JOIN tracks on tracks.Id = album_track.TrackId\n",
    "WHERE album_track.AlbumId = '3DC59AE84D3B4F01AC6AB1728F89B959'\n",
    "and album_track.TrackId = '8F764CF0D24A452680B234A6905E33E9'\n",
    "LIMIT 10;'''\n",
    "\n",
    "mycursor.execute(query)\n",
    "result = mycursor.fetchall()"
   ]
  },
  {
   "cell_type": "code",
   "execution_count": 38,
   "metadata": {},
   "outputs": [
    {
     "data": {
      "text/html": [
       "<div>\n",
       "<style scoped>\n",
       "    .dataframe tbody tr th:only-of-type {\n",
       "        vertical-align: middle;\n",
       "    }\n",
       "\n",
       "    .dataframe tbody tr th {\n",
       "        vertical-align: top;\n",
       "    }\n",
       "\n",
       "    .dataframe thead th {\n",
       "        text-align: right;\n",
       "    }\n",
       "</style>\n",
       "<table border=\"1\" class=\"dataframe\">\n",
       "  <thead>\n",
       "    <tr style=\"text-align: right;\">\n",
       "      <th></th>\n",
       "      <th>0</th>\n",
       "      <th>1</th>\n",
       "      <th>2</th>\n",
       "      <th>3</th>\n",
       "      <th>4</th>\n",
       "      <th>5</th>\n",
       "      <th>6</th>\n",
       "      <th>7</th>\n",
       "      <th>8</th>\n",
       "      <th>9</th>\n",
       "      <th>...</th>\n",
       "      <th>15</th>\n",
       "      <th>16</th>\n",
       "      <th>17</th>\n",
       "      <th>18</th>\n",
       "      <th>19</th>\n",
       "      <th>20</th>\n",
       "      <th>21</th>\n",
       "      <th>22</th>\n",
       "      <th>23</th>\n",
       "      <th>24</th>\n",
       "    </tr>\n",
       "  </thead>\n",
       "  <tbody>\n",
       "    <tr>\n",
       "      <th>0</th>\n",
       "      <td>8F764CF0D24A452680B234A6905E33E9</td>\n",
       "      <td>208545462423420</td>\n",
       "      <td>1</td>\n",
       "      <td>2020-09-03 09:05:07</td>\n",
       "      <td>2018-01-29 05:27:51</td>\n",
       "      <td>Boyfriend</td>\n",
       "      <td>Justin Bieber</td>\n",
       "      <td>Boyfriend (Oliver Twizt Radio)</td>\n",
       "      <td>None</td>\n",
       "      <td>8</td>\n",
       "      <td>...</td>\n",
       "      <td>None</td>\n",
       "      <td>https://aimg.samV-vid.com/samV-images/al...</td>\n",
       "      <td>None</td>\n",
       "      <td>None</td>\n",
       "      <td>None</td>\n",
       "      <td>{\"short_id\": \"m5-Ki1cq\", \"releasedate\": \"2012-...</td>\n",
       "      <td>{\"wiki\": {\"brief\": \"\\\"Boyfriend\\\" is a song by...</td>\n",
       "      <td>v</td>\n",
       "      <td>0</td>\n",
       "      <td>2012-06-12</td>\n",
       "    </tr>\n",
       "  </tbody>\n",
       "</table>\n",
       "<p>1 rows × 25 columns</p>\n",
       "</div>"
      ],
      "text/plain": [
       "                                 0                1   2                   3   \\\n",
       "0  8F764CF0D24A452680B234A6905E33E9  208545462423420   1 2020-09-03 09:05:07   \n",
       "\n",
       "                   4           5              6   \\\n",
       "0 2018-01-29 05:27:51  Boyfriend   Justin Bieber   \n",
       "\n",
       "                               7     8   9   ...    15  \\\n",
       "0  Boyfriend (Oliver Twizt Radio)  None   8  ...  None   \n",
       "\n",
       "                                                  16    17    18    19  \\\n",
       "0  https://aimg.samV-vid.com/samV-images/al...  None  None  None   \n",
       "\n",
       "                                                  20  \\\n",
       "0  {\"short_id\": \"m5-Ki1cq\", \"releasedate\": \"2012-...   \n",
       "\n",
       "                                                  21 22 23         24  \n",
       "0  {\"wiki\": {\"brief\": \"\\\"Boyfriend\\\" is a song by...  v  0 2012-06-12  \n",
       "\n",
       "[1 rows x 25 columns]"
      ]
     },
     "execution_count": 38,
     "metadata": {},
     "output_type": "execute_result"
    }
   ],
   "source": [
    "pd.DataFrame(result)"
   ]
  },
  {
   "cell_type": "code",
   "execution_count": 39,
   "metadata": {},
   "outputs": [],
   "source": [
    "query = f'''SELECT datasources.*\n",
    "FROM albums\n",
    "         JOIN album_track ON albums.UUID = album_track.AlbumId\n",
    "         JOIN artist_track on artist_track.TrackId = album_track.TrackId\n",
    "         JOIN tracks on tracks.Id = album_track.TrackId\n",
    "         JOIN datasources ON datasources.TrackId = tracks.Id\n",
    "WHERE album_track.AlbumId = '3DC59AE84D3B4F01AC6AB1728F89B959'\n",
    "and album_track.TrackId = '8F764CF0D24A452680B234A6905E33E9'\n",
    "LIMIT 10;'''\n",
    "\n",
    "mycursor.execute(query)\n",
    "result = mycursor.fetchall()"
   ]
  },
  {
   "cell_type": "code",
   "execution_count": 40,
   "metadata": {
    "scrolled": true
   },
   "outputs": [
    {
     "data": {
      "text/html": [
       "<div>\n",
       "<style scoped>\n",
       "    .dataframe tbody tr th:only-of-type {\n",
       "        vertical-align: middle;\n",
       "    }\n",
       "\n",
       "    .dataframe tbody tr th {\n",
       "        vertical-align: top;\n",
       "    }\n",
       "\n",
       "    .dataframe thead th {\n",
       "        text-align: right;\n",
       "    }\n",
       "</style>\n",
       "<table border=\"1\" class=\"dataframe\">\n",
       "  <thead>\n",
       "    <tr style=\"text-align: right;\">\n",
       "      <th></th>\n",
       "    </tr>\n",
       "  </thead>\n",
       "  <tbody>\n",
       "  </tbody>\n",
       "</table>\n",
       "</div>"
      ],
      "text/plain": [
       "Empty DataFrame\n",
       "Columns: []\n",
       "Index: []"
      ]
     },
     "execution_count": 40,
     "metadata": {},
     "output_type": "execute_result"
    }
   ],
   "source": [
    "pd.DataFrame(result)"
   ]
  },
  {
   "cell_type": "code",
   "execution_count": null,
   "metadata": {},
   "outputs": [],
   "source": []
  }
 ],
 "metadata": {
  "kernelspec": {
   "display_name": "PyCharm (Project)",
   "language": "python",
   "name": "pycharm-6c872235"
  },
  "language_info": {
   "codemirror_mode": {
    "name": "ipython",
    "version": 3
   },
   "file_extension": ".py",
   "mimetype": "text/x-python",
   "name": "python",
   "nbconvert_exporter": "python",
   "pygments_lexer": "ipython3",
   "version": "3.7.4"
  }
 },
 "nbformat": 4,
 "nbformat_minor": 1
}
