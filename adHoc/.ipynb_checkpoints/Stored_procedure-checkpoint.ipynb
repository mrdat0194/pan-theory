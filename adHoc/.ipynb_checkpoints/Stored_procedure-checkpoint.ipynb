{
 "cells": [
  {
   "cell_type": "code",
   "execution_count": 1,
   "metadata": {},
   "outputs": [],
   "source": [
    "import os\n",
    "import pandas as pd"
   ]
  },
  {
   "cell_type": "code",
   "execution_count": 2,
   "metadata": {},
   "outputs": [],
   "source": [
    "df = pd.read_csv(\"stored_procedure.csv\")"
   ]
  },
  {
   "cell_type": "code",
   "execution_count": 3,
   "metadata": {},
   "outputs": [
    {
     "data": {
      "text/html": [
       "<div>\n",
       "<style scoped>\n",
       "    .dataframe tbody tr th:only-of-type {\n",
       "        vertical-align: middle;\n",
       "    }\n",
       "\n",
       "    .dataframe tbody tr th {\n",
       "        vertical-align: top;\n",
       "    }\n",
       "\n",
       "    .dataframe thead th {\n",
       "        text-align: right;\n",
       "    }\n",
       "</style>\n",
       "<table border=\"1\" class=\"dataframe\">\n",
       "  <thead>\n",
       "    <tr style=\"text-align: right;\">\n",
       "      <th></th>\n",
       "      <th>Unnamed: 0</th>\n",
       "      <th>name</th>\n",
       "      <th>text</th>\n",
       "    </tr>\n",
       "  </thead>\n",
       "  <tbody>\n",
       "    <tr>\n",
       "      <th>0</th>\n",
       "      <td>0</td>\n",
       "      <td>AIElearning_Class_GetClassByUsername</td>\n",
       "      <td>CREATE PROC [dbo].[AIElearning_Class_GetClassB...</td>\n",
       "    </tr>\n",
       "    <tr>\n",
       "      <th>1</th>\n",
       "      <td>1</td>\n",
       "      <td>GetPortalGroups</td>\n",
       "      <td>CREATE PROCEDURE dbo.[GetPortalGroups]    AS  ...</td>\n",
       "    </tr>\n",
       "    <tr>\n",
       "      <th>2</th>\n",
       "      <td>2</td>\n",
       "      <td>AISystem_UserInRole_IsInDNNRole</td>\n",
       "      <td>CREATE PROC [dbo].[AISystem_UserInRole_IsInDNN...</td>\n",
       "    </tr>\n",
       "    <tr>\n",
       "      <th>3</th>\n",
       "      <td>3</td>\n",
       "      <td>Journal_Get</td>\n",
       "      <td>CREATE PROCEDURE dbo.[Journal_Get]      @Porta...</td>\n",
       "    </tr>\n",
       "    <tr>\n",
       "      <th>4</th>\n",
       "      <td>4</td>\n",
       "      <td>AIElearning_ClassUser_GetGeneralLearningInfo</td>\n",
       "      <td>CREATE PROC [dbo].[AIElearning_ClassUser_GetGe...</td>\n",
       "    </tr>\n",
       "    <tr>\n",
       "      <th>...</th>\n",
       "      <td>...</td>\n",
       "      <td>...</td>\n",
       "      <td>...</td>\n",
       "    </tr>\n",
       "    <tr>\n",
       "      <th>1847</th>\n",
       "      <td>1847</td>\n",
       "      <td>AIElearning_Class_Lecturers_GetsBySearchCount</td>\n",
       "      <td>CREATE proc [dbo].[AIElearning_Class_Lecture...</td>\n",
       "    </tr>\n",
       "    <tr>\n",
       "      <th>1848</th>\n",
       "      <td>1848</td>\n",
       "      <td>AISystem_Subject_GetsSubjectNotInTalentSubject</td>\n",
       "      <td>CREATE proc [dbo].[AISystem_Subject_GetsSubjec...</td>\n",
       "    </tr>\n",
       "    <tr>\n",
       "      <th>1849</th>\n",
       "      <td>1849</td>\n",
       "      <td>AIElearning_Training_Plan_GetsBySearchCount</td>\n",
       "      <td>CREATE proc [dbo].[AIElearning_Training_Plan_G...</td>\n",
       "    </tr>\n",
       "    <tr>\n",
       "      <th>1850</th>\n",
       "      <td>1850</td>\n",
       "      <td>Files</td>\n",
       "      <td>([dbo].[GetFileFolderFunc]([FolderID]))</td>\n",
       "    </tr>\n",
       "    <tr>\n",
       "      <th>1851</th>\n",
       "      <td>1851</td>\n",
       "      <td>Users</td>\n",
       "      <td>(lower([Email]))</td>\n",
       "    </tr>\n",
       "  </tbody>\n",
       "</table>\n",
       "<p>1852 rows × 3 columns</p>\n",
       "</div>"
      ],
      "text/plain": [
       "      Unnamed: 0                                            name  \\\n",
       "0              0            AIElearning_Class_GetClassByUsername   \n",
       "1              1                                 GetPortalGroups   \n",
       "2              2                 AISystem_UserInRole_IsInDNNRole   \n",
       "3              3                                     Journal_Get   \n",
       "4              4    AIElearning_ClassUser_GetGeneralLearningInfo   \n",
       "...          ...                                             ...   \n",
       "1847        1847   AIElearning_Class_Lecturers_GetsBySearchCount   \n",
       "1848        1848  AISystem_Subject_GetsSubjectNotInTalentSubject   \n",
       "1849        1849     AIElearning_Training_Plan_GetsBySearchCount   \n",
       "1850        1850                                           Files   \n",
       "1851        1851                                           Users   \n",
       "\n",
       "                                                   text  \n",
       "0     CREATE PROC [dbo].[AIElearning_Class_GetClassB...  \n",
       "1     CREATE PROCEDURE dbo.[GetPortalGroups]    AS  ...  \n",
       "2     CREATE PROC [dbo].[AISystem_UserInRole_IsInDNN...  \n",
       "3     CREATE PROCEDURE dbo.[Journal_Get]      @Porta...  \n",
       "4     CREATE PROC [dbo].[AIElearning_ClassUser_GetGe...  \n",
       "...                                                 ...  \n",
       "1847    CREATE proc [dbo].[AIElearning_Class_Lecture...  \n",
       "1848  CREATE proc [dbo].[AISystem_Subject_GetsSubjec...  \n",
       "1849  CREATE proc [dbo].[AIElearning_Training_Plan_G...  \n",
       "1850            ([dbo].[GetFileFolderFunc]([FolderID]))  \n",
       "1851                                   (lower([Email]))  \n",
       "\n",
       "[1852 rows x 3 columns]"
      ]
     },
     "execution_count": 3,
     "metadata": {},
     "output_type": "execute_result"
    }
   ],
   "source": [
    "df"
   ]
  },
  {
   "cell_type": "code",
   "execution_count": 4,
   "metadata": {},
   "outputs": [],
   "source": [
    "df_insert = df[df['text'].str.lower().str.contains(\"insert into\")]\n",
    "df_view = df[df['text'].str.lower().str.contains(\"create view\")]"
   ]
  },
  {
   "cell_type": "code",
   "execution_count": 97,
   "metadata": {},
   "outputs": [
    {
     "name": "stderr",
     "output_type": "stream",
     "text": [
      "c:\\hello\\ai\\ai_evr\\lib\\site-packages\\ipykernel_launcher.py:1: SettingWithCopyWarning: \n",
      "A value is trying to be set on a copy of a slice from a DataFrame.\n",
      "Try using .loc[row_indexer,col_indexer] = value instead\n",
      "\n",
      "See the caveats in the documentation: https://pandas.pydata.org/pandas-docs/stable/user_guide/indexing.html#returning-a-view-versus-a-copy\n",
      "  \"\"\"Entry point for launching an IPython kernel.\n"
     ]
    }
   ],
   "source": [
    "df_insert['new'] = df_insert['text'].str.lower().str.extract(r'insert into (\\w+.*) values')"
   ]
  },
  {
   "cell_type": "code",
   "execution_count": 98,
   "metadata": {},
   "outputs": [
    {
     "name": "stderr",
     "output_type": "stream",
     "text": [
      "c:\\hello\\ai\\ai_evr\\lib\\site-packages\\ipykernel_launcher.py:1: SettingWithCopyWarning: \n",
      "A value is trying to be set on a copy of a slice from a DataFrame.\n",
      "Try using .loc[row_indexer,col_indexer] = value instead\n",
      "\n",
      "See the caveats in the documentation: https://pandas.pydata.org/pandas-docs/stable/user_guide/indexing.html#returning-a-view-versus-a-copy\n",
      "  \"\"\"Entry point for launching an IPython kernel.\n"
     ]
    }
   ],
   "source": [
    "df_insert['new_select'] = df_insert['text'].str.lower().str.extract(r'insert into (#\\w+.*) select')"
   ]
  },
  {
   "cell_type": "code",
   "execution_count": 99,
   "metadata": {},
   "outputs": [
    {
     "name": "stderr",
     "output_type": "stream",
     "text": [
      "c:\\hello\\ai\\ai_evr\\lib\\site-packages\\ipykernel_launcher.py:1: SettingWithCopyWarning: \n",
      "A value is trying to be set on a copy of a slice from a DataFrame.\n",
      "Try using .loc[row_indexer,col_indexer] = value instead\n",
      "\n",
      "See the caveats in the documentation: https://pandas.pydata.org/pandas-docs/stable/user_guide/indexing.html#returning-a-view-versus-a-copy\n",
      "  \"\"\"Entry point for launching an IPython kernel.\n"
     ]
    }
   ],
   "source": [
    "df_insert['new_select'] = df_insert['new_select'].str.lower().str.extract(r'\\W+(\\w+)')"
   ]
  },
  {
   "cell_type": "code",
   "execution_count": 100,
   "metadata": {},
   "outputs": [
    {
     "data": {
      "text/html": [
       "<div>\n",
       "<style scoped>\n",
       "    .dataframe tbody tr th:only-of-type {\n",
       "        vertical-align: middle;\n",
       "    }\n",
       "\n",
       "    .dataframe tbody tr th {\n",
       "        vertical-align: top;\n",
       "    }\n",
       "\n",
       "    .dataframe thead th {\n",
       "        text-align: right;\n",
       "    }\n",
       "</style>\n",
       "<table border=\"1\" class=\"dataframe\">\n",
       "  <thead>\n",
       "    <tr style=\"text-align: right;\">\n",
       "      <th></th>\n",
       "      <th>Unnamed: 0</th>\n",
       "      <th>name</th>\n",
       "      <th>text</th>\n",
       "      <th>new</th>\n",
       "      <th>new_select</th>\n",
       "    </tr>\n",
       "  </thead>\n",
       "  <tbody>\n",
       "    <tr>\n",
       "      <th>8</th>\n",
       "      <td>8</td>\n",
       "      <td>AISystem_Subject_GetAllSubjectByJobtitle</td>\n",
       "      <td>CREATE proc [dbo].[AISystem_Subject_GetAllSubj...</td>\n",
       "      <td>NaN</td>\n",
       "      <td>aisystem_talent_temp</td>\n",
       "    </tr>\n",
       "    <tr>\n",
       "      <th>18</th>\n",
       "      <td>18</td>\n",
       "      <td>AddSkinPackage</td>\n",
       "      <td>CREATE PROCEDURE dbo.[AddSkinPackage]   @Packa...</td>\n",
       "      <td>dbo.skinpackages (     packageid,     portalid...</td>\n",
       "      <td>NaN</td>\n",
       "    </tr>\n",
       "    <tr>\n",
       "      <th>19</th>\n",
       "      <td>19</td>\n",
       "      <td>AIElearning_TestCampaign_GetsByParam</td>\n",
       "      <td>CREATE PROC [dbo].[AIElearning_TestCampaign_Ge...</td>\n",
       "      <td>NaN</td>\n",
       "      <td>NaN</td>\n",
       "    </tr>\n",
       "    <tr>\n",
       "      <th>24</th>\n",
       "      <td>24</td>\n",
       "      <td>AISystem_JobTitle_Talent_GetAllTalentByJobtitl...</td>\n",
       "      <td>CREATE proc [dbo].[AISystem_JobTitle_Talent_...</td>\n",
       "      <td>NaN</td>\n",
       "      <td>aisystem_talent_temp</td>\n",
       "    </tr>\n",
       "    <tr>\n",
       "      <th>26</th>\n",
       "      <td>26</td>\n",
       "      <td>SaveRelationshipType</td>\n",
       "      <td>CREATE PROCEDURE dbo.[SaveRelationshipType]   ...</td>\n",
       "      <td>NaN</td>\n",
       "      <td>NaN</td>\n",
       "    </tr>\n",
       "    <tr>\n",
       "      <th>...</th>\n",
       "      <td>...</td>\n",
       "      <td>...</td>\n",
       "      <td>...</td>\n",
       "      <td>...</td>\n",
       "      <td>...</td>\n",
       "    </tr>\n",
       "    <tr>\n",
       "      <th>1828</th>\n",
       "      <td>1828</td>\n",
       "      <td>AISystem_Subject_GetSubjectByBaseTalent</td>\n",
       "      <td>CREATE proc [dbo].[AISystem_Subject_GetSubject...</td>\n",
       "      <td>NaN</td>\n",
       "      <td>aisystem_talent_temp</td>\n",
       "    </tr>\n",
       "    <tr>\n",
       "      <th>1829</th>\n",
       "      <td>1829</td>\n",
       "      <td>AddTabPermission</td>\n",
       "      <td>CREATE PROCEDURE dbo.[AddTabPermission]      @...</td>\n",
       "      <td>dbo.[tabpermission] (          [tabid],       ...</td>\n",
       "      <td>NaN</td>\n",
       "    </tr>\n",
       "    <tr>\n",
       "      <th>1837</th>\n",
       "      <td>1837</td>\n",
       "      <td>sp_upgraddiagrams</td>\n",
       "      <td>CREATE PROCEDURE dbo.sp_upgraddiagrams   AS...</td>\n",
       "      <td>NaN</td>\n",
       "      <td>NaN</td>\n",
       "    </tr>\n",
       "    <tr>\n",
       "      <th>1840</th>\n",
       "      <td>1840</td>\n",
       "      <td>AISystem_Category_Document_GetAllChildAndInclu...</td>\n",
       "      <td>CREATE PROC [dbo].[AISystem_Category_Document_...</td>\n",
       "      <td>NaN</td>\n",
       "      <td>pathconstruction</td>\n",
       "    </tr>\n",
       "    <tr>\n",
       "      <th>1844</th>\n",
       "      <td>1844</td>\n",
       "      <td>AISystem_Subject_GetsByTalent</td>\n",
       "      <td>CREATE proc [dbo].[AISystem_Subject_GetsByTale...</td>\n",
       "      <td>NaN</td>\n",
       "      <td>aisystem_subject_temp</td>\n",
       "    </tr>\n",
       "  </tbody>\n",
       "</table>\n",
       "<p>248 rows × 5 columns</p>\n",
       "</div>"
      ],
      "text/plain": [
       "      Unnamed: 0                                               name  \\\n",
       "8              8           AISystem_Subject_GetAllSubjectByJobtitle   \n",
       "18            18                                     AddSkinPackage   \n",
       "19            19               AIElearning_TestCampaign_GetsByParam   \n",
       "24            24  AISystem_JobTitle_Talent_GetAllTalentByJobtitl...   \n",
       "26            26                               SaveRelationshipType   \n",
       "...          ...                                                ...   \n",
       "1828        1828            AISystem_Subject_GetSubjectByBaseTalent   \n",
       "1829        1829                                   AddTabPermission   \n",
       "1837        1837                                  sp_upgraddiagrams   \n",
       "1840        1840  AISystem_Category_Document_GetAllChildAndInclu...   \n",
       "1844        1844                      AISystem_Subject_GetsByTalent   \n",
       "\n",
       "                                                   text  \\\n",
       "8     CREATE proc [dbo].[AISystem_Subject_GetAllSubj...   \n",
       "18    CREATE PROCEDURE dbo.[AddSkinPackage]   @Packa...   \n",
       "19    CREATE PROC [dbo].[AIElearning_TestCampaign_Ge...   \n",
       "24      CREATE proc [dbo].[AISystem_JobTitle_Talent_...   \n",
       "26    CREATE PROCEDURE dbo.[SaveRelationshipType]   ...   \n",
       "...                                                 ...   \n",
       "1828  CREATE proc [dbo].[AISystem_Subject_GetSubject...   \n",
       "1829  CREATE PROCEDURE dbo.[AddTabPermission]      @...   \n",
       "1837     CREATE PROCEDURE dbo.sp_upgraddiagrams   AS...   \n",
       "1840  CREATE PROC [dbo].[AISystem_Category_Document_...   \n",
       "1844  CREATE proc [dbo].[AISystem_Subject_GetsByTale...   \n",
       "\n",
       "                                                    new             new_select  \n",
       "8                                                   NaN   aisystem_talent_temp  \n",
       "18    dbo.skinpackages (     packageid,     portalid...                    NaN  \n",
       "19                                                  NaN                    NaN  \n",
       "24                                                  NaN   aisystem_talent_temp  \n",
       "26                                                  NaN                    NaN  \n",
       "...                                                 ...                    ...  \n",
       "1828                                                NaN   aisystem_talent_temp  \n",
       "1829  dbo.[tabpermission] (          [tabid],       ...                    NaN  \n",
       "1837                                                NaN                    NaN  \n",
       "1840                                                NaN       pathconstruction  \n",
       "1844                                                NaN  aisystem_subject_temp  \n",
       "\n",
       "[248 rows x 5 columns]"
      ]
     },
     "execution_count": 100,
     "metadata": {},
     "output_type": "execute_result"
    }
   ],
   "source": [
    "df_insert"
   ]
  },
  {
   "cell_type": "code",
   "execution_count": 101,
   "metadata": {},
   "outputs": [
    {
     "data": {
      "text/plain": [
       "'aisystem_talent_temp'"
      ]
     },
     "execution_count": 101,
     "metadata": {},
     "output_type": "execute_result"
    }
   ],
   "source": [
    "df_insert['new_select'][8]"
   ]
  },
  {
   "cell_type": "code",
   "execution_count": 28,
   "metadata": {},
   "outputs": [
    {
     "data": {
      "text/plain": [
       "'dbo.skinpackages (     packageid,     portalid,     skinname,     skintype,   [createdbyuserid],   [createdondate],   [lastmodifiedbyuserid],   [lastmodifiedondate]   )  '"
      ]
     },
     "execution_count": 28,
     "metadata": {},
     "output_type": "execute_result"
    }
   ],
   "source": [
    "df_insert['new'][18]"
   ]
  },
  {
   "cell_type": "code",
   "execution_count": 29,
   "metadata": {},
   "outputs": [
    {
     "data": {
      "text/plain": [
       "\"CREATE proc [dbo].[AISystem_Subject_GetAllSubjectByJobtitle]  @type int,  @unitCode nvarchar(50),  @limit int,  @jobTitleId INT  as  -- AISystem_Subject_GetAllSubjectByJobtitle 1,'aivietnam',1,2503    --Bảng tạm nang luc  Create table #AISystem_Talent_Temp (   Id int,   IsChild int  )  --Bảng tạm luu khoa hoc  Create table #AISystem_Subject_Temp (   Id int,   CateSubjectId INT,   Code NVARCHAR(50),   Name NVARCHAR(250),  )    --Bảng tạm luu danh muc khoa hoc va khoa hoc  Create table #AISystem_Category_Subject_Temp (   PK int IDENTITY (1,1),   ItemId INT,   CateSubjectId INT,   Code NVARCHAR(50),   Name NVARCHAR(250),   [Path] NVARCHAR(250),   IsCategory BIT,   SortColumn nvarchar(max)  )    -- Thêm năng lực cha (nang luc dung chung)  Insert Into #AISystem_Talent_Temp  SELECT   t.Id,0  From AISystem_Talent t  Where t.Limit = @limit and t.Type = @type    -- Them nang luc con (nang luc dung chung)  Insert Into #AISystem_Talent_Temp  select tc.Id,  1   from AISystem_Talent_Child tc inner join AISystem_Talent t on t.Id = tc.TalentId  where t.Limit = @limit and t.Type = @type    -- Thêm năng lực cha (nang luc don vi)  Insert Into #AISystem_Talent_Temp  SELECT   t.Id, 0  From AISystem_Talent t  Where t.Limit <> @limit and t.UnitCode = @unitCode  and t.Type = @type    -- Them nang luc con (nang luc don vi)  Insert Into #AISystem_Talent_Temp  select tc.Id,1   from AISystem_Talent_Child tc inner join AISystem_Talent t on t.Id = tc.TalentId  where t.Limit <> @limit and t.UnitCode = @unitCode  and t.Type = @type    PRINT('Begin add subject')  -- Them khoa học  Insert Into #AISystem_Subject_Temp   SELECT         DISTINCT          ( s.Id ),  s.CateSubjectId, s.Code, s.Name      FROM          dbo.AISystem_Talent_Subject ts          INNER JOIN dbo.AISystem_Subject s  ON ts.SubjectId = s.Id          INNER JOIN #AISystem_Talent_Temp tt on (ts.TalentId = tt.Id AND tt.IsChild = 0)     OR (ts.TalentChildId = tt.Id AND tt.IsChild = 1)       -- Khaoa hoc cua chuc danh  Insert Into #AISystem_Subject_Temp  SELECT    DISTINCT ( s.Id ),  s.CateSubjectId, s.Code, s.Name      FROM          dbo.AISystem_JobTitle_Talent jt          INNER JOIN dbo.AISystem_Talent_Subject ts              ON ( ts.TalentId = jt.TalentId AND jt.IsChild = 0 AND ((CASE WHEN ts.TalentLevelId > 0 THEN ts.TalentLevelId ELSE 0 END) = jt.TalentLevelId ) ) OR ( ts.TalentChildId = jt.TalentId AND jt.IsChild = 1 AND ((CASE WHEN ts.TalentLevelId > 0 THEN ts.TalentLevelId ELSE 0 END) = jt.TalentLevelId ) )          INNER JOIN dbo.AISystem_Subject s              ON ts.SubjectId = s.Id     WHERE jt.JobTitleId = @jobTitleId    PRINT('Begin sort by category')  --Lay cac danh muc khoa hoc  INSERT INTO #AISystem_Category_Subject_Temp  SELECT DISTINCT (st.CateSubjectId),-1, '', cs.Title,cs.Title, 1,STR(DENSE_RANK() OVER (ORDER BY st.CateSubjectId desc))  FROM #AISystem_Subject_Temp st INNER JOIN dbo.AISystem_Category_Subject cs  ON st.CateSubjectId = cs.Id ORDER BY st.CateSubjectId DESC  -- Lấy các khóa học của danh mục  INSERT INTO #AISystem_Category_Subject_Temp  SELECT DISTINCT (s.Id), s.CateSubjectId, s.Code, s.Name, '-+ ' + s.Name, 0, STR(st.PK) + str(DENSE_RANK() OVER (ORDER BY s.Id desc))  FROM #AISystem_Category_Subject_Temp st INNER JOIN #AISystem_Subject_Temp s  on st.ItemId = s.CateSubjectId ORDER BY s.Id DESC    --Tra ve du lieu cuoi cung  SELECT ROW_NUMBER() OVER (ORDER BY SortColumn ) AS RowNumber,* FROM #AISystem_Category_Subject_Temp     -- Xoa bang tam  DROP TABLE #AISystem_Talent_Temp  DROP TABLE #AISystem_Subject_Temp  DROP TABLE #AISystem_Category_Subject_Temp  SET QUOTED_IDENTIFIER OFF\""
      ]
     },
     "execution_count": 29,
     "metadata": {},
     "output_type": "execute_result"
    }
   ],
   "source": [
    "df_insert['text'][8]"
   ]
  },
  {
   "cell_type": "code",
   "execution_count": null,
   "metadata": {},
   "outputs": [],
   "source": []
  }
 ],
 "metadata": {
  "kernelspec": {
   "display_name": "Python 3",
   "language": "python",
   "name": "python3"
  },
  "language_info": {
   "codemirror_mode": {
    "name": "ipython",
    "version": 3
   },
   "file_extension": ".py",
   "mimetype": "text/x-python",
   "name": "python",
   "nbconvert_exporter": "python",
   "pygments_lexer": "ipython3",
   "version": "3.7.8"
  }
 },
 "nbformat": 4,
 "nbformat_minor": 4
}
