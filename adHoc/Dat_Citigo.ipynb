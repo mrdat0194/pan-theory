{
 "cells": [
  {
   "cell_type": "code",
   "execution_count": 1,
   "metadata": {},
   "outputs": [],
   "source": [
    "import os\n",
    "import pandas as pd\n",
    "import re"
   ]
  },
  {
   "cell_type": "code",
   "execution_count": 7,
   "metadata": {},
   "outputs": [],
   "source": [
    "dir_ = '/Users/petern/Desktop/Python/Data_Analyst_Test/Citigo/' #Tên folder\n",
    "directory = os.listdir(dir_)"
   ]
  },
  {
   "cell_type": "code",
   "execution_count": 19,
   "metadata": {},
   "outputs": [],
   "source": [
    "f_sales = pd.read_excel('/Users/petern/Desktop/Python/Data_Analyst_Test/Citigo/f_sales.xlsx')\n",
    "d_product = pd.read_excel('/Users/petern/Desktop/Python/Data_Analyst_Test/Citigo/d_product.xlsx')\n",
    "d_sales_territory = pd.read_excel('/Users/petern/Desktop/Python/Data_Analyst_Test/Citigo/d_sales_territory.xlsx')\n",
    "d_product_subcategory = pd.read_excel('/Users/petern/Desktop/Python/Data_Analyst_Test/Citigo/d_product_subcategory.xlsx')\n",
    "d_customer = pd.read_excel('/Users/petern/Desktop/Data_Analyst_Test/Python/Citigo/d_customer.xlsx')"
   ]
  },
  {
   "cell_type": "code",
   "execution_count": 18,
   "metadata": {},
   "outputs": [
    {
     "data": {
      "text/html": [
       "<div>\n",
       "<style scoped>\n",
       "    .dataframe tbody tr th:only-of-type {\n",
       "        vertical-align: middle;\n",
       "    }\n",
       "\n",
       "    .dataframe tbody tr th {\n",
       "        vertical-align: top;\n",
       "    }\n",
       "\n",
       "    .dataframe thead th {\n",
       "        text-align: right;\n",
       "    }\n",
       "</style>\n",
       "<table border=\"1\" class=\"dataframe\">\n",
       "  <thead>\n",
       "    <tr style=\"text-align: right;\">\n",
       "      <th></th>\n",
       "      <th>ProductKey</th>\n",
       "      <th>OrderDateKey</th>\n",
       "      <th>CustomerKey</th>\n",
       "      <th>SalesTerritoryKey</th>\n",
       "      <th>SalesOrderNumber</th>\n",
       "      <th>SalesOrderLineNumber</th>\n",
       "      <th>OrderQuantity</th>\n",
       "      <th>UnitPrice</th>\n",
       "      <th>TotalProductCost</th>\n",
       "      <th>TaxAmount</th>\n",
       "      <th>SalesAmount</th>\n",
       "      <th>OrderDate</th>\n",
       "    </tr>\n",
       "  </thead>\n",
       "  <tbody>\n",
       "    <tr>\n",
       "      <td>0</td>\n",
       "      <td>528</td>\n",
       "      <td>20130128</td>\n",
       "      <td>14870</td>\n",
       "      <td>4</td>\n",
       "      <td>SO51900</td>\n",
       "      <td>1</td>\n",
       "      <td>1</td>\n",
       "      <td>4.99</td>\n",
       "      <td>1.8663</td>\n",
       "      <td>0.3992</td>\n",
       "      <td>5</td>\n",
       "      <td>2013-01-28</td>\n",
       "    </tr>\n",
       "    <tr>\n",
       "      <td>1</td>\n",
       "      <td>528</td>\n",
       "      <td>20130129</td>\n",
       "      <td>15319</td>\n",
       "      <td>4</td>\n",
       "      <td>SO51948</td>\n",
       "      <td>1</td>\n",
       "      <td>1</td>\n",
       "      <td>4.99</td>\n",
       "      <td>1.8663</td>\n",
       "      <td>0.3992</td>\n",
       "      <td>5</td>\n",
       "      <td>2013-01-29</td>\n",
       "    </tr>\n",
       "    <tr>\n",
       "      <td>2</td>\n",
       "      <td>528</td>\n",
       "      <td>20130131</td>\n",
       "      <td>16384</td>\n",
       "      <td>4</td>\n",
       "      <td>SO52043</td>\n",
       "      <td>1</td>\n",
       "      <td>1</td>\n",
       "      <td>4.99</td>\n",
       "      <td>1.8663</td>\n",
       "      <td>0.3992</td>\n",
       "      <td>5</td>\n",
       "      <td>2013-01-31</td>\n",
       "    </tr>\n",
       "    <tr>\n",
       "      <td>3</td>\n",
       "      <td>528</td>\n",
       "      <td>20130131</td>\n",
       "      <td>15476</td>\n",
       "      <td>4</td>\n",
       "      <td>SO52045</td>\n",
       "      <td>1</td>\n",
       "      <td>1</td>\n",
       "      <td>4.99</td>\n",
       "      <td>1.8663</td>\n",
       "      <td>0.3992</td>\n",
       "      <td>5</td>\n",
       "      <td>2013-01-31</td>\n",
       "    </tr>\n",
       "    <tr>\n",
       "      <td>4</td>\n",
       "      <td>528</td>\n",
       "      <td>20130201</td>\n",
       "      <td>15861</td>\n",
       "      <td>4</td>\n",
       "      <td>SO52094</td>\n",
       "      <td>1</td>\n",
       "      <td>1</td>\n",
       "      <td>4.99</td>\n",
       "      <td>1.8663</td>\n",
       "      <td>0.3992</td>\n",
       "      <td>5</td>\n",
       "      <td>2013-02-01</td>\n",
       "    </tr>\n",
       "  </tbody>\n",
       "</table>\n",
       "</div>"
      ],
      "text/plain": [
       "   ProductKey  OrderDateKey  CustomerKey  SalesTerritoryKey SalesOrderNumber  \\\n",
       "0         528      20130128        14870                  4          SO51900   \n",
       "1         528      20130129        15319                  4          SO51948   \n",
       "2         528      20130131        16384                  4          SO52043   \n",
       "3         528      20130131        15476                  4          SO52045   \n",
       "4         528      20130201        15861                  4          SO52094   \n",
       "\n",
       "   SalesOrderLineNumber  OrderQuantity  UnitPrice  TotalProductCost  \\\n",
       "0                     1              1       4.99            1.8663   \n",
       "1                     1              1       4.99            1.8663   \n",
       "2                     1              1       4.99            1.8663   \n",
       "3                     1              1       4.99            1.8663   \n",
       "4                     1              1       4.99            1.8663   \n",
       "\n",
       "   TaxAmount  SalesAmount  OrderDate  \n",
       "0     0.3992            5 2013-01-28  \n",
       "1     0.3992            5 2013-01-29  \n",
       "2     0.3992            5 2013-01-31  \n",
       "3     0.3992            5 2013-01-31  \n",
       "4     0.3992            5 2013-02-01  "
      ]
     },
     "execution_count": 18,
     "metadata": {},
     "output_type": "execute_result"
    }
   ],
   "source": [
    "f_sales.head()"
   ]
  },
  {
   "cell_type": "markdown",
   "metadata": {},
   "source": [
    "# Note: Q1 is Question_1: Which Key Metrics to be included in your Report? Please shortly explain your choices for each Metrics."
   ]
  },
  {
   "cell_type": "markdown",
   "metadata": {},
   "source": [
    "# Note: Q2 is Question_2: Visualizations"
   ]
  },
  {
   "cell_type": "markdown",
   "metadata": {},
   "source": [
    "# Note: Q3 is Question_3: Based on your Report (and all data you have), your Manager requests you to make recommendations on how to improve revenue and profit in 2014 and 2015. What will you recommend, and Why? "
   ]
  },
  {
   "cell_type": "code",
   "execution_count": 168,
   "metadata": {},
   "outputs": [
    {
     "data": {
      "text/plain": [
       "1    27659\n",
       "2    17991\n",
       "3     9828\n",
       "4     3958\n",
       "5      820\n",
       "6      124\n",
       "7       15\n",
       "8        3\n",
       "Name: SalesOrderLineNumber, dtype: int64"
      ]
     },
     "execution_count": 168,
     "metadata": {},
     "output_type": "execute_result"
    }
   ],
   "source": [
    "f_sales['SalesOrderLineNumber'].hist()\n",
    "f_sales['SalesOrderLineNumber'].value_counts()"
   ]
  },
  {
   "cell_type": "code",
   "execution_count": 87,
   "metadata": {},
   "outputs": [
    {
     "name": "stdout",
     "output_type": "stream",
     "text": [
      "count    60398.000000\n",
      "mean       286.065657\n",
      "std        552.457641\n",
      "min          0.856500\n",
      "25%          2.973300\n",
      "50%         11.216300\n",
      "75%        294.579700\n",
      "max       2171.294200\n",
      "Name: TotalProductCost, dtype: float64\n"
     ]
    },
    {
     "data": {
      "text/plain": [
       "<matplotlib.axes._subplots.AxesSubplot at 0x7fb101280910>"
      ]
     },
     "execution_count": 87,
     "metadata": {},
     "output_type": "execute_result"
    },
    {
     "data": {
      "image/png": "[encoded data removed]",
      "text/plain": [
       "<Figure size 648x576 with 1 Axes>"
      ]
     },
     "metadata": {
      "needs_background": "light"
     },
     "output_type": "display_data"
    }
   ],
   "source": [
    "import seaborn as sns\n",
    "import matplotlib.pyplot as plt\n",
    "print(f_sales['TotalProductCost'].describe())\n",
    "plt.figure(figsize=(9, 8))\n",
    "sns.distplot(f_sales[f_sales['TotalProductCost']<100]['TotalProductCost'], color='g', bins=100, hist_kws={'alpha': 0.4})"
   ]
  },
  {
   "cell_type": "code",
   "execution_count": 127,
   "metadata": {},
   "outputs": [
    {
     "name": "stdout",
     "output_type": "stream",
     "text": [
      "count    60398.000000\n",
      "mean       486.037783\n",
      "std        928.454329\n",
      "min          2.000000\n",
      "25%          8.000000\n",
      "50%         30.000000\n",
      "75%        540.000000\n",
      "max       3578.000000\n",
      "Name: SalesAmount, dtype: float64\n"
     ]
    },
    {
     "data": {
      "text/plain": [
       "<matplotlib.axes._subplots.AxesSubplot at 0x7fb101e44dd0>"
      ]
     },
     "execution_count": 127,
     "metadata": {},
     "output_type": "execute_result"
    },
    {
     "data": {
      "image/png": "[encoded data removed]",
      "text/plain": [
       "<Figure size 648x576 with 1 Axes>"
      ]
     },
     "metadata": {
      "needs_background": "light"
     },
     "output_type": "display_data"
    }
   ],
   "source": [
    "print(f_sales['SalesAmount'].describe())\n",
    "plt.figure(figsize=(9, 8))\n",
    "sns.distplot(f_sales[f_sales['SalesAmount']<100]['SalesAmount'], color='g', bins=100, hist_kws={'alpha': 0.4})"
   ]
  },
  {
   "cell_type": "code",
   "execution_count": 170,
   "metadata": {},
   "outputs": [
    {
     "data": {
      "text/plain": [
       "<matplotlib.axes._subplots.AxesSubplot at 0x7faf27e85610>"
      ]
     },
     "execution_count": 170,
     "metadata": {},
     "output_type": "execute_result"
    },
    {
     "data": {
      "image/png": "[encoded data removed]",
      "text/plain": [
       "<Figure size 432x288 with 1 Axes>"
      ]
     },
     "metadata": {
      "needs_background": "light"
     },
     "output_type": "display_data"
    }
   ],
   "source": [
    "f_sales[f_sales['SalesAmount']<100][['SalesAmount','TotalProductCost']][0:9].plot.bar()"
   ]
  },
  {
   "cell_type": "code",
   "execution_count": 177,
   "metadata": {},
   "outputs": [],
   "source": [
    "f_sales['Sale_Prodcost'] = (f_sales['SalesAmount']/f_sales['TotalProductCost'])"
   ]
  },
  {
   "cell_type": "code",
   "execution_count": 178,
   "metadata": {},
   "outputs": [
    {
     "data": {
      "text/plain": [
       "array([[<matplotlib.axes._subplots.AxesSubplot object at 0x7faf775e7710>,\n",
       "        <matplotlib.axes._subplots.AxesSubplot object at 0x7faf65a83490>,\n",
       "        <matplotlib.axes._subplots.AxesSubplot object at 0x7faf0367ced0>],\n",
       "       [<matplotlib.axes._subplots.AxesSubplot object at 0x7faf03650390>,\n",
       "        <matplotlib.axes._subplots.AxesSubplot object at 0x7faef18f2f10>,\n",
       "        <matplotlib.axes._subplots.AxesSubplot object at 0x7faef18f2e10>],\n",
       "       [<matplotlib.axes._subplots.AxesSubplot object at 0x7faef18d17d0>,\n",
       "        <matplotlib.axes._subplots.AxesSubplot object at 0x7faef8c46450>,\n",
       "        <matplotlib.axes._subplots.AxesSubplot object at 0x7faef8c219d0>],\n",
       "       [<matplotlib.axes._subplots.AxesSubplot object at 0x7faef8bfb8d0>,\n",
       "        <matplotlib.axes._subplots.AxesSubplot object at 0x7faef8b76890>,\n",
       "        <matplotlib.axes._subplots.AxesSubplot object at 0x7faef17f38d0>]],\n",
       "      dtype=object)"
      ]
     },
     "execution_count": 178,
     "metadata": {},
     "output_type": "execute_result"
    },
    {
     "data": {
      "image/png": "[encoded data removed]",
      "text/plain": [
       "<Figure size 1152x1440 with 12 Axes>"
      ]
     },
     "metadata": {
      "needs_background": "light"
     },
     "output_type": "display_data"
    }
   ],
   "source": [
    "f_sales.hist(figsize=(16, 20), bins=50, xlabelsize=8, ylabelsize=8)"
   ]
  },
  {
   "cell_type": "code",
   "execution_count": 86,
   "metadata": {},
   "outputs": [
    {
     "name": "stdout",
     "output_type": "stream",
     "text": [
      "count    60398.000000\n",
      "mean       486.037783\n",
      "std        928.454329\n",
      "min          2.000000\n",
      "25%          8.000000\n",
      "50%         30.000000\n",
      "75%        540.000000\n",
      "max       3578.000000\n",
      "Name: SalesAmount, dtype: float64\n"
     ]
    },
    {
     "data": {
      "text/plain": [
       "<matplotlib.axes._subplots.AxesSubplot at 0x7fb0f059b690>"
      ]
     },
     "execution_count": 86,
     "metadata": {},
     "output_type": "execute_result"
    },
    {
     "data": {
      "image/png": "[encoded data removed]",
      "text/plain": [
       "<Figure size 648x576 with 1 Axes>"
      ]
     },
     "metadata": {
      "needs_background": "light"
     },
     "output_type": "display_data"
    }
   ],
   "source": [
    "print(f_sales['SalesAmount'].describe())\n",
    "plt.figure(figsize=(9, 8))\n",
    "sns.distplot(f_sales[f_sales['SalesAmount']<100]['SalesAmount'], color='g', bins=100, hist_kws={'alpha': 0.4})"
   ]
  },
  {
   "cell_type": "code",
   "execution_count": 179,
   "metadata": {},
   "outputs": [
    {
     "data": {
      "text/plain": [
       "Index(['ProductKey', 'OrderDateKey', 'CustomerKey', 'SalesTerritoryKey',\n",
       "       'SalesOrderNumber', 'SalesOrderLineNumber', 'OrderQuantity',\n",
       "       'UnitPrice', 'TotalProductCost', 'TaxAmount', 'SalesAmount',\n",
       "       'OrderDate', 'Sale_Prodcost'],\n",
       "      dtype='object')"
      ]
     },
     "execution_count": 179,
     "metadata": {},
     "output_type": "execute_result"
    }
   ],
   "source": [
    "f_sales.columns"
   ]
  },
  {
   "cell_type": "code",
   "execution_count": 188,
   "metadata": {},
   "outputs": [
    {
     "data": {
      "text/plain": [
       "<seaborn.axisgrid.PairGrid at 0x7faef93a1350>"
      ]
     },
     "execution_count": 188,
     "metadata": {},
     "output_type": "execute_result"
    },
    {
     "data": {
      "image/png": "[encoded data removed]",
      "text/plain": [
       "<Figure size 900x900 with 25 Axes>"
      ]
     },
     "metadata": {
      "needs_background": "light"
     },
     "output_type": "display_data"
    }
   ],
   "source": [
    "# Then you map to the grid\n",
    "g = sns.PairGrid(f_sales[['OrderQuantity','UnitPrice','TotalProductCost','TaxAmount','SalesAmount']])\n",
    "g.map(plt.scatter)"
   ]
  },
  {
   "cell_type": "code",
   "execution_count": 20,
   "metadata": {},
   "outputs": [
    {
     "data": {
      "text/html": [
       "<div>\n",
       "<style scoped>\n",
       "    .dataframe tbody tr th:only-of-type {\n",
       "        vertical-align: middle;\n",
       "    }\n",
       "\n",
       "    .dataframe tbody tr th {\n",
       "        vertical-align: top;\n",
       "    }\n",
       "\n",
       "    .dataframe thead th {\n",
       "        text-align: right;\n",
       "    }\n",
       "</style>\n",
       "<table border=\"1\" class=\"dataframe\">\n",
       "  <thead>\n",
       "    <tr style=\"text-align: right;\">\n",
       "      <th></th>\n",
       "      <th>ProductKey</th>\n",
       "      <th>ProductSubcategoryKey</th>\n",
       "      <th>ProductName</th>\n",
       "      <th>Color</th>\n",
       "      <th>ListPrice</th>\n",
       "      <th>Size</th>\n",
       "      <th>SizeRange</th>\n",
       "      <th>ProductLine</th>\n",
       "      <th>DealerPrice</th>\n",
       "      <th>Class</th>\n",
       "      <th>Style</th>\n",
       "      <th>ModelName</th>\n",
       "      <th>Status</th>\n",
       "    </tr>\n",
       "  </thead>\n",
       "  <tbody>\n",
       "    <tr>\n",
       "      <td>0</td>\n",
       "      <td>1</td>\n",
       "      <td>NaN</td>\n",
       "      <td>Adjustable Race</td>\n",
       "      <td>NaN</td>\n",
       "      <td>NaN</td>\n",
       "      <td>NaN</td>\n",
       "      <td>NaN</td>\n",
       "      <td>NaN</td>\n",
       "      <td>NaN</td>\n",
       "      <td>NaN</td>\n",
       "      <td>NaN</td>\n",
       "      <td>NaN</td>\n",
       "      <td>Current</td>\n",
       "    </tr>\n",
       "    <tr>\n",
       "      <td>1</td>\n",
       "      <td>2</td>\n",
       "      <td>NaN</td>\n",
       "      <td>Bearing Ball</td>\n",
       "      <td>NaN</td>\n",
       "      <td>NaN</td>\n",
       "      <td>NaN</td>\n",
       "      <td>NaN</td>\n",
       "      <td>NaN</td>\n",
       "      <td>NaN</td>\n",
       "      <td>NaN</td>\n",
       "      <td>NaN</td>\n",
       "      <td>NaN</td>\n",
       "      <td>Current</td>\n",
       "    </tr>\n",
       "    <tr>\n",
       "      <td>2</td>\n",
       "      <td>12</td>\n",
       "      <td>NaN</td>\n",
       "      <td>Crown Race</td>\n",
       "      <td>NaN</td>\n",
       "      <td>NaN</td>\n",
       "      <td>NaN</td>\n",
       "      <td>NaN</td>\n",
       "      <td>NaN</td>\n",
       "      <td>NaN</td>\n",
       "      <td>NaN</td>\n",
       "      <td>NaN</td>\n",
       "      <td>NaN</td>\n",
       "      <td>Current</td>\n",
       "    </tr>\n",
       "    <tr>\n",
       "      <td>3</td>\n",
       "      <td>14</td>\n",
       "      <td>NaN</td>\n",
       "      <td>Decal 1</td>\n",
       "      <td>NaN</td>\n",
       "      <td>NaN</td>\n",
       "      <td>NaN</td>\n",
       "      <td>NaN</td>\n",
       "      <td>NaN</td>\n",
       "      <td>NaN</td>\n",
       "      <td>NaN</td>\n",
       "      <td>NaN</td>\n",
       "      <td>NaN</td>\n",
       "      <td>Current</td>\n",
       "    </tr>\n",
       "    <tr>\n",
       "      <td>4</td>\n",
       "      <td>15</td>\n",
       "      <td>NaN</td>\n",
       "      <td>Decal 2</td>\n",
       "      <td>NaN</td>\n",
       "      <td>NaN</td>\n",
       "      <td>NaN</td>\n",
       "      <td>NaN</td>\n",
       "      <td>NaN</td>\n",
       "      <td>NaN</td>\n",
       "      <td>NaN</td>\n",
       "      <td>NaN</td>\n",
       "      <td>NaN</td>\n",
       "      <td>Current</td>\n",
       "    </tr>\n",
       "  </tbody>\n",
       "</table>\n",
       "</div>"
      ],
      "text/plain": [
       "   ProductKey  ProductSubcategoryKey      ProductName Color  ListPrice Size  \\\n",
       "0           1                    NaN  Adjustable Race   NaN        NaN  NaN   \n",
       "1           2                    NaN     Bearing Ball   NaN        NaN  NaN   \n",
       "2          12                    NaN       Crown Race   NaN        NaN  NaN   \n",
       "3          14                    NaN          Decal 1   NaN        NaN  NaN   \n",
       "4          15                    NaN          Decal 2   NaN        NaN  NaN   \n",
       "\n",
       "  SizeRange ProductLine  DealerPrice Class Style ModelName   Status  \n",
       "0       NaN         NaN          NaN   NaN   NaN       NaN  Current  \n",
       "1       NaN         NaN          NaN   NaN   NaN       NaN  Current  \n",
       "2       NaN         NaN          NaN   NaN   NaN       NaN  Current  \n",
       "3       NaN         NaN          NaN   NaN   NaN       NaN  Current  \n",
       "4       NaN         NaN          NaN   NaN   NaN       NaN  Current  "
      ]
     },
     "execution_count": 20,
     "metadata": {},
     "output_type": "execute_result"
    }
   ],
   "source": [
    "d_product.head()"
   ]
  },
  {
   "cell_type": "code",
   "execution_count": 69,
   "metadata": {},
   "outputs": [
    {
     "data": {
      "text/plain": [
       "606"
      ]
     },
     "execution_count": 69,
     "metadata": {},
     "output_type": "execute_result"
    }
   ],
   "source": [
    "len(d_product)"
   ]
  },
  {
   "cell_type": "code",
   "execution_count": 25,
   "metadata": {},
   "outputs": [
    {
     "data": {
      "text/plain": [
       "Index(['ProductKey', 'ProductSubcategoryKey', 'ProductName', 'Color',\n",
       "       'ListPrice', 'Size', 'SizeRange', 'ProductLine', 'DealerPrice', 'Class',\n",
       "       'Style', 'ModelName', 'Status'],\n",
       "      dtype='object')"
      ]
     },
     "execution_count": 25,
     "metadata": {},
     "output_type": "execute_result"
    }
   ],
   "source": [
    "d_product.columns"
   ]
  },
  {
   "cell_type": "code",
   "execution_count": 189,
   "metadata": {},
   "outputs": [
    {
     "data": {
      "text/html": [
       "<div>\n",
       "<style scoped>\n",
       "    .dataframe tbody tr th:only-of-type {\n",
       "        vertical-align: middle;\n",
       "    }\n",
       "\n",
       "    .dataframe tbody tr th {\n",
       "        vertical-align: top;\n",
       "    }\n",
       "\n",
       "    .dataframe thead th {\n",
       "        text-align: right;\n",
       "    }\n",
       "</style>\n",
       "<table border=\"1\" class=\"dataframe\">\n",
       "  <thead>\n",
       "    <tr style=\"text-align: right;\">\n",
       "      <th></th>\n",
       "      <th>ProductKey</th>\n",
       "      <th>OrderDateKey</th>\n",
       "      <th>CustomerKey</th>\n",
       "      <th>SalesTerritoryKey</th>\n",
       "      <th>SalesOrderNumber</th>\n",
       "      <th>SalesOrderLineNumber</th>\n",
       "      <th>OrderQuantity</th>\n",
       "      <th>UnitPrice</th>\n",
       "      <th>TotalProductCost</th>\n",
       "      <th>TaxAmount</th>\n",
       "      <th>SalesAmount</th>\n",
       "      <th>OrderDate</th>\n",
       "      <th>Sale_Prodcost</th>\n",
       "      <th>ProductSubcategoryKey</th>\n",
       "      <th>ProductName</th>\n",
       "    </tr>\n",
       "  </thead>\n",
       "  <tbody>\n",
       "    <tr>\n",
       "      <td>0</td>\n",
       "      <td>528</td>\n",
       "      <td>20130128</td>\n",
       "      <td>14870</td>\n",
       "      <td>4</td>\n",
       "      <td>SO51900</td>\n",
       "      <td>1</td>\n",
       "      <td>1</td>\n",
       "      <td>4.99</td>\n",
       "      <td>1.8663</td>\n",
       "      <td>0.3992</td>\n",
       "      <td>5</td>\n",
       "      <td>2013-01-28</td>\n",
       "      <td>2.679098</td>\n",
       "      <td>37.0</td>\n",
       "      <td>Mountain Tire Tube</td>\n",
       "    </tr>\n",
       "    <tr>\n",
       "      <td>1</td>\n",
       "      <td>528</td>\n",
       "      <td>20130129</td>\n",
       "      <td>15319</td>\n",
       "      <td>4</td>\n",
       "      <td>SO51948</td>\n",
       "      <td>1</td>\n",
       "      <td>1</td>\n",
       "      <td>4.99</td>\n",
       "      <td>1.8663</td>\n",
       "      <td>0.3992</td>\n",
       "      <td>5</td>\n",
       "      <td>2013-01-29</td>\n",
       "      <td>2.679098</td>\n",
       "      <td>37.0</td>\n",
       "      <td>Mountain Tire Tube</td>\n",
       "    </tr>\n",
       "    <tr>\n",
       "      <td>2</td>\n",
       "      <td>528</td>\n",
       "      <td>20130131</td>\n",
       "      <td>16384</td>\n",
       "      <td>4</td>\n",
       "      <td>SO52043</td>\n",
       "      <td>1</td>\n",
       "      <td>1</td>\n",
       "      <td>4.99</td>\n",
       "      <td>1.8663</td>\n",
       "      <td>0.3992</td>\n",
       "      <td>5</td>\n",
       "      <td>2013-01-31</td>\n",
       "      <td>2.679098</td>\n",
       "      <td>37.0</td>\n",
       "      <td>Mountain Tire Tube</td>\n",
       "    </tr>\n",
       "    <tr>\n",
       "      <td>3</td>\n",
       "      <td>528</td>\n",
       "      <td>20130131</td>\n",
       "      <td>15476</td>\n",
       "      <td>4</td>\n",
       "      <td>SO52045</td>\n",
       "      <td>1</td>\n",
       "      <td>1</td>\n",
       "      <td>4.99</td>\n",
       "      <td>1.8663</td>\n",
       "      <td>0.3992</td>\n",
       "      <td>5</td>\n",
       "      <td>2013-01-31</td>\n",
       "      <td>2.679098</td>\n",
       "      <td>37.0</td>\n",
       "      <td>Mountain Tire Tube</td>\n",
       "    </tr>\n",
       "    <tr>\n",
       "      <td>4</td>\n",
       "      <td>528</td>\n",
       "      <td>20130201</td>\n",
       "      <td>15861</td>\n",
       "      <td>4</td>\n",
       "      <td>SO52094</td>\n",
       "      <td>1</td>\n",
       "      <td>1</td>\n",
       "      <td>4.99</td>\n",
       "      <td>1.8663</td>\n",
       "      <td>0.3992</td>\n",
       "      <td>5</td>\n",
       "      <td>2013-02-01</td>\n",
       "      <td>2.679098</td>\n",
       "      <td>37.0</td>\n",
       "      <td>Mountain Tire Tube</td>\n",
       "    </tr>\n",
       "  </tbody>\n",
       "</table>\n",
       "</div>"
      ],
      "text/plain": [
       "   ProductKey  OrderDateKey  CustomerKey  SalesTerritoryKey SalesOrderNumber  \\\n",
       "0         528      20130128        14870                  4          SO51900   \n",
       "1         528      20130129        15319                  4          SO51948   \n",
       "2         528      20130131        16384                  4          SO52043   \n",
       "3         528      20130131        15476                  4          SO52045   \n",
       "4         528      20130201        15861                  4          SO52094   \n",
       "\n",
       "   SalesOrderLineNumber  OrderQuantity  UnitPrice  TotalProductCost  \\\n",
       "0                     1              1       4.99            1.8663   \n",
       "1                     1              1       4.99            1.8663   \n",
       "2                     1              1       4.99            1.8663   \n",
       "3                     1              1       4.99            1.8663   \n",
       "4                     1              1       4.99            1.8663   \n",
       "\n",
       "   TaxAmount  SalesAmount  OrderDate  Sale_Prodcost  ProductSubcategoryKey  \\\n",
       "0     0.3992            5 2013-01-28       2.679098                   37.0   \n",
       "1     0.3992            5 2013-01-29       2.679098                   37.0   \n",
       "2     0.3992            5 2013-01-31       2.679098                   37.0   \n",
       "3     0.3992            5 2013-01-31       2.679098                   37.0   \n",
       "4     0.3992            5 2013-02-01       2.679098                   37.0   \n",
       "\n",
       "          ProductName  \n",
       "0  Mountain Tire Tube  \n",
       "1  Mountain Tire Tube  \n",
       "2  Mountain Tire Tube  \n",
       "3  Mountain Tire Tube  \n",
       "4  Mountain Tire Tube  "
      ]
     },
     "execution_count": 189,
     "metadata": {},
     "output_type": "execute_result"
    }
   ],
   "source": [
    "df_Prod = d_product[['ProductKey','ProductSubcategoryKey','ProductName']]\n",
    "df_sale_prod = pd.merge(f_sales, df_Prod, on = 'ProductKey', how='left')\n",
    "df_sale_prod.head()"
   ]
  },
  {
   "cell_type": "code",
   "execution_count": 195,
   "metadata": {},
   "outputs": [
    {
     "data": {
      "text/html": [
       "<div>\n",
       "<style scoped>\n",
       "    .dataframe tbody tr th:only-of-type {\n",
       "        vertical-align: middle;\n",
       "    }\n",
       "\n",
       "    .dataframe tbody tr th {\n",
       "        vertical-align: top;\n",
       "    }\n",
       "\n",
       "    .dataframe thead th {\n",
       "        text-align: right;\n",
       "    }\n",
       "</style>\n",
       "<table border=\"1\" class=\"dataframe\">\n",
       "  <thead>\n",
       "    <tr style=\"text-align: right;\">\n",
       "      <th></th>\n",
       "      <th>ProductSubcategoryKey</th>\n",
       "      <th>ProductSubcategoryName</th>\n",
       "      <th>ProductCategoryKey</th>\n",
       "      <th>Product Category</th>\n",
       "    </tr>\n",
       "  </thead>\n",
       "  <tbody>\n",
       "    <tr>\n",
       "      <td>0</td>\n",
       "      <td>1</td>\n",
       "      <td>Mountain Bikes</td>\n",
       "      <td>1</td>\n",
       "      <td>Bikes</td>\n",
       "    </tr>\n",
       "    <tr>\n",
       "      <td>1</td>\n",
       "      <td>2</td>\n",
       "      <td>Road Bikes</td>\n",
       "      <td>1</td>\n",
       "      <td>Bikes</td>\n",
       "    </tr>\n",
       "    <tr>\n",
       "      <td>2</td>\n",
       "      <td>3</td>\n",
       "      <td>Touring Bikes</td>\n",
       "      <td>1</td>\n",
       "      <td>Bikes</td>\n",
       "    </tr>\n",
       "    <tr>\n",
       "      <td>3</td>\n",
       "      <td>4</td>\n",
       "      <td>Handlebars</td>\n",
       "      <td>2</td>\n",
       "      <td>Components</td>\n",
       "    </tr>\n",
       "    <tr>\n",
       "      <td>4</td>\n",
       "      <td>5</td>\n",
       "      <td>Bottom Brackets</td>\n",
       "      <td>2</td>\n",
       "      <td>Components</td>\n",
       "    </tr>\n",
       "  </tbody>\n",
       "</table>\n",
       "</div>"
      ],
      "text/plain": [
       "   ProductSubcategoryKey ProductSubcategoryName  ProductCategoryKey  \\\n",
       "0                      1         Mountain Bikes                   1   \n",
       "1                      2             Road Bikes                   1   \n",
       "2                      3          Touring Bikes                   1   \n",
       "3                      4             Handlebars                   2   \n",
       "4                      5        Bottom Brackets                   2   \n",
       "\n",
       "  Product Category  \n",
       "0            Bikes  \n",
       "1            Bikes  \n",
       "2            Bikes  \n",
       "3       Components  \n",
       "4       Components  "
      ]
     },
     "execution_count": 195,
     "metadata": {},
     "output_type": "execute_result"
    }
   ],
   "source": [
    "d_product_subcategory.head()\n"
   ]
  },
  {
   "cell_type": "code",
   "execution_count": 190,
   "metadata": {},
   "outputs": [
    {
     "data": {
      "text/html": [
       "<div>\n",
       "<style scoped>\n",
       "    .dataframe tbody tr th:only-of-type {\n",
       "        vertical-align: middle;\n",
       "    }\n",
       "\n",
       "    .dataframe tbody tr th {\n",
       "        vertical-align: top;\n",
       "    }\n",
       "\n",
       "    .dataframe thead th {\n",
       "        text-align: right;\n",
       "    }\n",
       "</style>\n",
       "<table border=\"1\" class=\"dataframe\">\n",
       "  <thead>\n",
       "    <tr style=\"text-align: right;\">\n",
       "      <th></th>\n",
       "      <th>ProductKey</th>\n",
       "      <th>OrderDateKey</th>\n",
       "      <th>CustomerKey</th>\n",
       "      <th>SalesTerritoryKey</th>\n",
       "      <th>SalesOrderNumber</th>\n",
       "      <th>SalesOrderLineNumber</th>\n",
       "      <th>OrderQuantity</th>\n",
       "      <th>UnitPrice</th>\n",
       "      <th>TotalProductCost</th>\n",
       "      <th>TaxAmount</th>\n",
       "      <th>SalesAmount</th>\n",
       "      <th>OrderDate</th>\n",
       "      <th>Sale_Prodcost</th>\n",
       "      <th>ProductSubcategoryKey</th>\n",
       "      <th>ProductName</th>\n",
       "      <th>ProductSubcategoryName</th>\n",
       "      <th>ProductCategoryKey</th>\n",
       "      <th>Product Category</th>\n",
       "    </tr>\n",
       "  </thead>\n",
       "  <tbody>\n",
       "    <tr>\n",
       "      <td>0</td>\n",
       "      <td>528</td>\n",
       "      <td>20130128</td>\n",
       "      <td>14870</td>\n",
       "      <td>4</td>\n",
       "      <td>SO51900</td>\n",
       "      <td>1</td>\n",
       "      <td>1</td>\n",
       "      <td>4.99</td>\n",
       "      <td>1.8663</td>\n",
       "      <td>0.3992</td>\n",
       "      <td>5</td>\n",
       "      <td>2013-01-28</td>\n",
       "      <td>2.679098</td>\n",
       "      <td>37.0</td>\n",
       "      <td>Mountain Tire Tube</td>\n",
       "      <td>Tires and Tubes</td>\n",
       "      <td>4</td>\n",
       "      <td>Accessories</td>\n",
       "    </tr>\n",
       "    <tr>\n",
       "      <td>1</td>\n",
       "      <td>528</td>\n",
       "      <td>20130129</td>\n",
       "      <td>15319</td>\n",
       "      <td>4</td>\n",
       "      <td>SO51948</td>\n",
       "      <td>1</td>\n",
       "      <td>1</td>\n",
       "      <td>4.99</td>\n",
       "      <td>1.8663</td>\n",
       "      <td>0.3992</td>\n",
       "      <td>5</td>\n",
       "      <td>2013-01-29</td>\n",
       "      <td>2.679098</td>\n",
       "      <td>37.0</td>\n",
       "      <td>Mountain Tire Tube</td>\n",
       "      <td>Tires and Tubes</td>\n",
       "      <td>4</td>\n",
       "      <td>Accessories</td>\n",
       "    </tr>\n",
       "    <tr>\n",
       "      <td>2</td>\n",
       "      <td>528</td>\n",
       "      <td>20130131</td>\n",
       "      <td>16384</td>\n",
       "      <td>4</td>\n",
       "      <td>SO52043</td>\n",
       "      <td>1</td>\n",
       "      <td>1</td>\n",
       "      <td>4.99</td>\n",
       "      <td>1.8663</td>\n",
       "      <td>0.3992</td>\n",
       "      <td>5</td>\n",
       "      <td>2013-01-31</td>\n",
       "      <td>2.679098</td>\n",
       "      <td>37.0</td>\n",
       "      <td>Mountain Tire Tube</td>\n",
       "      <td>Tires and Tubes</td>\n",
       "      <td>4</td>\n",
       "      <td>Accessories</td>\n",
       "    </tr>\n",
       "    <tr>\n",
       "      <td>3</td>\n",
       "      <td>528</td>\n",
       "      <td>20130131</td>\n",
       "      <td>15476</td>\n",
       "      <td>4</td>\n",
       "      <td>SO52045</td>\n",
       "      <td>1</td>\n",
       "      <td>1</td>\n",
       "      <td>4.99</td>\n",
       "      <td>1.8663</td>\n",
       "      <td>0.3992</td>\n",
       "      <td>5</td>\n",
       "      <td>2013-01-31</td>\n",
       "      <td>2.679098</td>\n",
       "      <td>37.0</td>\n",
       "      <td>Mountain Tire Tube</td>\n",
       "      <td>Tires and Tubes</td>\n",
       "      <td>4</td>\n",
       "      <td>Accessories</td>\n",
       "    </tr>\n",
       "    <tr>\n",
       "      <td>4</td>\n",
       "      <td>528</td>\n",
       "      <td>20130201</td>\n",
       "      <td>15861</td>\n",
       "      <td>4</td>\n",
       "      <td>SO52094</td>\n",
       "      <td>1</td>\n",
       "      <td>1</td>\n",
       "      <td>4.99</td>\n",
       "      <td>1.8663</td>\n",
       "      <td>0.3992</td>\n",
       "      <td>5</td>\n",
       "      <td>2013-02-01</td>\n",
       "      <td>2.679098</td>\n",
       "      <td>37.0</td>\n",
       "      <td>Mountain Tire Tube</td>\n",
       "      <td>Tires and Tubes</td>\n",
       "      <td>4</td>\n",
       "      <td>Accessories</td>\n",
       "    </tr>\n",
       "  </tbody>\n",
       "</table>\n",
       "</div>"
      ],
      "text/plain": [
       "   ProductKey  OrderDateKey  CustomerKey  SalesTerritoryKey SalesOrderNumber  \\\n",
       "0         528      20130128        14870                  4          SO51900   \n",
       "1         528      20130129        15319                  4          SO51948   \n",
       "2         528      20130131        16384                  4          SO52043   \n",
       "3         528      20130131        15476                  4          SO52045   \n",
       "4         528      20130201        15861                  4          SO52094   \n",
       "\n",
       "   SalesOrderLineNumber  OrderQuantity  UnitPrice  TotalProductCost  \\\n",
       "0                     1              1       4.99            1.8663   \n",
       "1                     1              1       4.99            1.8663   \n",
       "2                     1              1       4.99            1.8663   \n",
       "3                     1              1       4.99            1.8663   \n",
       "4                     1              1       4.99            1.8663   \n",
       "\n",
       "   TaxAmount  SalesAmount  OrderDate  Sale_Prodcost  ProductSubcategoryKey  \\\n",
       "0     0.3992            5 2013-01-28       2.679098                   37.0   \n",
       "1     0.3992            5 2013-01-29       2.679098                   37.0   \n",
       "2     0.3992            5 2013-01-31       2.679098                   37.0   \n",
       "3     0.3992            5 2013-01-31       2.679098                   37.0   \n",
       "4     0.3992            5 2013-02-01       2.679098                   37.0   \n",
       "\n",
       "          ProductName ProductSubcategoryName  ProductCategoryKey  \\\n",
       "0  Mountain Tire Tube        Tires and Tubes                   4   \n",
       "1  Mountain Tire Tube        Tires and Tubes                   4   \n",
       "2  Mountain Tire Tube        Tires and Tubes                   4   \n",
       "3  Mountain Tire Tube        Tires and Tubes                   4   \n",
       "4  Mountain Tire Tube        Tires and Tubes                   4   \n",
       "\n",
       "  Product Category  \n",
       "0      Accessories  \n",
       "1      Accessories  \n",
       "2      Accessories  \n",
       "3      Accessories  \n",
       "4      Accessories  "
      ]
     },
     "execution_count": 190,
     "metadata": {},
     "output_type": "execute_result"
    }
   ],
   "source": [
    "df_prodsub_sale = pd.merge(df_sale_prod,d_product_subcategory, on = 'ProductSubcategoryKey', how='left')\n",
    "df_prodsub_sale.head()"
   ]
  },
  {
   "cell_type": "code",
   "execution_count": 196,
   "metadata": {},
   "outputs": [
    {
     "data": {
      "text/html": [
       "<div>\n",
       "<style scoped>\n",
       "    .dataframe tbody tr th:only-of-type {\n",
       "        vertical-align: middle;\n",
       "    }\n",
       "\n",
       "    .dataframe tbody tr th {\n",
       "        vertical-align: top;\n",
       "    }\n",
       "\n",
       "    .dataframe thead th {\n",
       "        text-align: right;\n",
       "    }\n",
       "</style>\n",
       "<table border=\"1\" class=\"dataframe\">\n",
       "  <thead>\n",
       "    <tr style=\"text-align: right;\">\n",
       "      <th></th>\n",
       "      <th>SalesTerritoryKey</th>\n",
       "      <th>SalesTerritoryRegion</th>\n",
       "      <th>SalesTerritoryCountry</th>\n",
       "      <th>SalesTerritoryGroup</th>\n",
       "    </tr>\n",
       "  </thead>\n",
       "  <tbody>\n",
       "    <tr>\n",
       "      <td>0</td>\n",
       "      <td>1</td>\n",
       "      <td>Northwest</td>\n",
       "      <td>United States</td>\n",
       "      <td>North America</td>\n",
       "    </tr>\n",
       "    <tr>\n",
       "      <td>1</td>\n",
       "      <td>2</td>\n",
       "      <td>Northeast</td>\n",
       "      <td>United States</td>\n",
       "      <td>North America</td>\n",
       "    </tr>\n",
       "    <tr>\n",
       "      <td>2</td>\n",
       "      <td>3</td>\n",
       "      <td>Central</td>\n",
       "      <td>United States</td>\n",
       "      <td>North America</td>\n",
       "    </tr>\n",
       "    <tr>\n",
       "      <td>3</td>\n",
       "      <td>4</td>\n",
       "      <td>Southwest</td>\n",
       "      <td>United States</td>\n",
       "      <td>North America</td>\n",
       "    </tr>\n",
       "    <tr>\n",
       "      <td>4</td>\n",
       "      <td>5</td>\n",
       "      <td>Southeast</td>\n",
       "      <td>United States</td>\n",
       "      <td>North America</td>\n",
       "    </tr>\n",
       "  </tbody>\n",
       "</table>\n",
       "</div>"
      ],
      "text/plain": [
       "   SalesTerritoryKey SalesTerritoryRegion SalesTerritoryCountry  \\\n",
       "0                  1            Northwest         United States   \n",
       "1                  2            Northeast         United States   \n",
       "2                  3              Central         United States   \n",
       "3                  4            Southwest         United States   \n",
       "4                  5            Southeast         United States   \n",
       "\n",
       "  SalesTerritoryGroup  \n",
       "0       North America  \n",
       "1       North America  \n",
       "2       North America  \n",
       "3       North America  \n",
       "4       North America  "
      ]
     },
     "execution_count": 196,
     "metadata": {},
     "output_type": "execute_result"
    }
   ],
   "source": [
    "d_sales_territory.head()"
   ]
  },
  {
   "cell_type": "code",
   "execution_count": 191,
   "metadata": {},
   "outputs": [
    {
     "data": {
      "text/html": [
       "<div>\n",
       "<style scoped>\n",
       "    .dataframe tbody tr th:only-of-type {\n",
       "        vertical-align: middle;\n",
       "    }\n",
       "\n",
       "    .dataframe tbody tr th {\n",
       "        vertical-align: top;\n",
       "    }\n",
       "\n",
       "    .dataframe thead th {\n",
       "        text-align: right;\n",
       "    }\n",
       "</style>\n",
       "<table border=\"1\" class=\"dataframe\">\n",
       "  <thead>\n",
       "    <tr style=\"text-align: right;\">\n",
       "      <th></th>\n",
       "      <th>ProductKey</th>\n",
       "      <th>OrderDateKey</th>\n",
       "      <th>CustomerKey</th>\n",
       "      <th>SalesTerritoryKey</th>\n",
       "      <th>SalesOrderNumber</th>\n",
       "      <th>SalesOrderLineNumber</th>\n",
       "      <th>OrderQuantity</th>\n",
       "      <th>UnitPrice</th>\n",
       "      <th>TotalProductCost</th>\n",
       "      <th>TaxAmount</th>\n",
       "      <th>...</th>\n",
       "      <th>OrderDate</th>\n",
       "      <th>Sale_Prodcost</th>\n",
       "      <th>ProductSubcategoryKey</th>\n",
       "      <th>ProductName</th>\n",
       "      <th>ProductSubcategoryName</th>\n",
       "      <th>ProductCategoryKey</th>\n",
       "      <th>Product Category</th>\n",
       "      <th>SalesTerritoryRegion</th>\n",
       "      <th>SalesTerritoryCountry</th>\n",
       "      <th>SalesTerritoryGroup</th>\n",
       "    </tr>\n",
       "  </thead>\n",
       "  <tbody>\n",
       "    <tr>\n",
       "      <td>0</td>\n",
       "      <td>528</td>\n",
       "      <td>20130128</td>\n",
       "      <td>14870</td>\n",
       "      <td>4</td>\n",
       "      <td>SO51900</td>\n",
       "      <td>1</td>\n",
       "      <td>1</td>\n",
       "      <td>4.99</td>\n",
       "      <td>1.8663</td>\n",
       "      <td>0.3992</td>\n",
       "      <td>...</td>\n",
       "      <td>2013-01-28</td>\n",
       "      <td>2.679098</td>\n",
       "      <td>37.0</td>\n",
       "      <td>Mountain Tire Tube</td>\n",
       "      <td>Tires and Tubes</td>\n",
       "      <td>4</td>\n",
       "      <td>Accessories</td>\n",
       "      <td>Southwest</td>\n",
       "      <td>United States</td>\n",
       "      <td>North America</td>\n",
       "    </tr>\n",
       "    <tr>\n",
       "      <td>1</td>\n",
       "      <td>528</td>\n",
       "      <td>20130129</td>\n",
       "      <td>15319</td>\n",
       "      <td>4</td>\n",
       "      <td>SO51948</td>\n",
       "      <td>1</td>\n",
       "      <td>1</td>\n",
       "      <td>4.99</td>\n",
       "      <td>1.8663</td>\n",
       "      <td>0.3992</td>\n",
       "      <td>...</td>\n",
       "      <td>2013-01-29</td>\n",
       "      <td>2.679098</td>\n",
       "      <td>37.0</td>\n",
       "      <td>Mountain Tire Tube</td>\n",
       "      <td>Tires and Tubes</td>\n",
       "      <td>4</td>\n",
       "      <td>Accessories</td>\n",
       "      <td>Southwest</td>\n",
       "      <td>United States</td>\n",
       "      <td>North America</td>\n",
       "    </tr>\n",
       "    <tr>\n",
       "      <td>2</td>\n",
       "      <td>528</td>\n",
       "      <td>20130131</td>\n",
       "      <td>16384</td>\n",
       "      <td>4</td>\n",
       "      <td>SO52043</td>\n",
       "      <td>1</td>\n",
       "      <td>1</td>\n",
       "      <td>4.99</td>\n",
       "      <td>1.8663</td>\n",
       "      <td>0.3992</td>\n",
       "      <td>...</td>\n",
       "      <td>2013-01-31</td>\n",
       "      <td>2.679098</td>\n",
       "      <td>37.0</td>\n",
       "      <td>Mountain Tire Tube</td>\n",
       "      <td>Tires and Tubes</td>\n",
       "      <td>4</td>\n",
       "      <td>Accessories</td>\n",
       "      <td>Southwest</td>\n",
       "      <td>United States</td>\n",
       "      <td>North America</td>\n",
       "    </tr>\n",
       "    <tr>\n",
       "      <td>3</td>\n",
       "      <td>528</td>\n",
       "      <td>20130131</td>\n",
       "      <td>15476</td>\n",
       "      <td>4</td>\n",
       "      <td>SO52045</td>\n",
       "      <td>1</td>\n",
       "      <td>1</td>\n",
       "      <td>4.99</td>\n",
       "      <td>1.8663</td>\n",
       "      <td>0.3992</td>\n",
       "      <td>...</td>\n",
       "      <td>2013-01-31</td>\n",
       "      <td>2.679098</td>\n",
       "      <td>37.0</td>\n",
       "      <td>Mountain Tire Tube</td>\n",
       "      <td>Tires and Tubes</td>\n",
       "      <td>4</td>\n",
       "      <td>Accessories</td>\n",
       "      <td>Southwest</td>\n",
       "      <td>United States</td>\n",
       "      <td>North America</td>\n",
       "    </tr>\n",
       "    <tr>\n",
       "      <td>4</td>\n",
       "      <td>528</td>\n",
       "      <td>20130201</td>\n",
       "      <td>15861</td>\n",
       "      <td>4</td>\n",
       "      <td>SO52094</td>\n",
       "      <td>1</td>\n",
       "      <td>1</td>\n",
       "      <td>4.99</td>\n",
       "      <td>1.8663</td>\n",
       "      <td>0.3992</td>\n",
       "      <td>...</td>\n",
       "      <td>2013-02-01</td>\n",
       "      <td>2.679098</td>\n",
       "      <td>37.0</td>\n",
       "      <td>Mountain Tire Tube</td>\n",
       "      <td>Tires and Tubes</td>\n",
       "      <td>4</td>\n",
       "      <td>Accessories</td>\n",
       "      <td>Southwest</td>\n",
       "      <td>United States</td>\n",
       "      <td>North America</td>\n",
       "    </tr>\n",
       "  </tbody>\n",
       "</table>\n",
       "<p>5 rows × 21 columns</p>\n",
       "</div>"
      ],
      "text/plain": [
       "   ProductKey  OrderDateKey  CustomerKey  SalesTerritoryKey SalesOrderNumber  \\\n",
       "0         528      20130128        14870                  4          SO51900   \n",
       "1         528      20130129        15319                  4          SO51948   \n",
       "2         528      20130131        16384                  4          SO52043   \n",
       "3         528      20130131        15476                  4          SO52045   \n",
       "4         528      20130201        15861                  4          SO52094   \n",
       "\n",
       "   SalesOrderLineNumber  OrderQuantity  UnitPrice  TotalProductCost  \\\n",
       "0                     1              1       4.99            1.8663   \n",
       "1                     1              1       4.99            1.8663   \n",
       "2                     1              1       4.99            1.8663   \n",
       "3                     1              1       4.99            1.8663   \n",
       "4                     1              1       4.99            1.8663   \n",
       "\n",
       "   TaxAmount  ...  OrderDate Sale_Prodcost  ProductSubcategoryKey  \\\n",
       "0     0.3992  ... 2013-01-28      2.679098                   37.0   \n",
       "1     0.3992  ... 2013-01-29      2.679098                   37.0   \n",
       "2     0.3992  ... 2013-01-31      2.679098                   37.0   \n",
       "3     0.3992  ... 2013-01-31      2.679098                   37.0   \n",
       "4     0.3992  ... 2013-02-01      2.679098                   37.0   \n",
       "\n",
       "          ProductName ProductSubcategoryName ProductCategoryKey  \\\n",
       "0  Mountain Tire Tube        Tires and Tubes                  4   \n",
       "1  Mountain Tire Tube        Tires and Tubes                  4   \n",
       "2  Mountain Tire Tube        Tires and Tubes                  4   \n",
       "3  Mountain Tire Tube        Tires and Tubes                  4   \n",
       "4  Mountain Tire Tube        Tires and Tubes                  4   \n",
       "\n",
       "   Product Category SalesTerritoryRegion SalesTerritoryCountry  \\\n",
       "0       Accessories            Southwest         United States   \n",
       "1       Accessories            Southwest         United States   \n",
       "2       Accessories            Southwest         United States   \n",
       "3       Accessories            Southwest         United States   \n",
       "4       Accessories            Southwest         United States   \n",
       "\n",
       "  SalesTerritoryGroup  \n",
       "0       North America  \n",
       "1       North America  \n",
       "2       North America  \n",
       "3       North America  \n",
       "4       North America  \n",
       "\n",
       "[5 rows x 21 columns]"
      ]
     },
     "execution_count": 191,
     "metadata": {},
     "output_type": "execute_result"
    }
   ],
   "source": [
    "df_prodsub_sale_teri = pd.merge(df_prodsub_sale,d_sales_territory, on = 'SalesTerritoryKey', how='left')\n",
    "df_prodsub_sale_teri.head()"
   ]
  },
  {
   "cell_type": "code",
   "execution_count": null,
   "metadata": {},
   "outputs": [],
   "source": [
    "d_customer.head()"
   ]
  },
  {
   "cell_type": "code",
   "execution_count": 197,
   "metadata": {},
   "outputs": [
    {
     "data": {
      "text/html": [
       "<div>\n",
       "<style scoped>\n",
       "    .dataframe tbody tr th:only-of-type {\n",
       "        vertical-align: middle;\n",
       "    }\n",
       "\n",
       "    .dataframe tbody tr th {\n",
       "        vertical-align: top;\n",
       "    }\n",
       "\n",
       "    .dataframe thead th {\n",
       "        text-align: right;\n",
       "    }\n",
       "</style>\n",
       "<table border=\"1\" class=\"dataframe\">\n",
       "  <thead>\n",
       "    <tr style=\"text-align: right;\">\n",
       "      <th></th>\n",
       "      <th>ProductKey</th>\n",
       "      <th>OrderDateKey</th>\n",
       "      <th>CustomerKey</th>\n",
       "      <th>SalesTerritoryKey</th>\n",
       "      <th>SalesOrderNumber</th>\n",
       "      <th>SalesOrderLineNumber</th>\n",
       "      <th>OrderQuantity</th>\n",
       "      <th>UnitPrice</th>\n",
       "      <th>TotalProductCost</th>\n",
       "      <th>TaxAmount</th>\n",
       "      <th>...</th>\n",
       "      <th>YearlyIncome</th>\n",
       "      <th>TotalChildren</th>\n",
       "      <th>NumberChildrenAtHome</th>\n",
       "      <th>Education</th>\n",
       "      <th>Occupation</th>\n",
       "      <th>NumberCarsOwned</th>\n",
       "      <th>DateFirstPurchase</th>\n",
       "      <th>CommuteDistance</th>\n",
       "      <th>BirthYear</th>\n",
       "      <th>FirstPurchaseYear</th>\n",
       "    </tr>\n",
       "  </thead>\n",
       "  <tbody>\n",
       "    <tr>\n",
       "      <td>0</td>\n",
       "      <td>528</td>\n",
       "      <td>20130128</td>\n",
       "      <td>14870</td>\n",
       "      <td>4</td>\n",
       "      <td>SO51900</td>\n",
       "      <td>1</td>\n",
       "      <td>1</td>\n",
       "      <td>4.99</td>\n",
       "      <td>1.8663</td>\n",
       "      <td>0.3992</td>\n",
       "      <td>...</td>\n",
       "      <td>£40,000</td>\n",
       "      <td>3</td>\n",
       "      <td>3</td>\n",
       "      <td>Partial College</td>\n",
       "      <td>Clerical</td>\n",
       "      <td>2</td>\n",
       "      <td>Monday, January 28, 2013</td>\n",
       "      <td>0-1 Miles</td>\n",
       "      <td>1979</td>\n",
       "      <td>2013</td>\n",
       "    </tr>\n",
       "    <tr>\n",
       "      <td>1</td>\n",
       "      <td>528</td>\n",
       "      <td>20130129</td>\n",
       "      <td>15319</td>\n",
       "      <td>4</td>\n",
       "      <td>SO51948</td>\n",
       "      <td>1</td>\n",
       "      <td>1</td>\n",
       "      <td>4.99</td>\n",
       "      <td>1.8663</td>\n",
       "      <td>0.3992</td>\n",
       "      <td>...</td>\n",
       "      <td>£70,000</td>\n",
       "      <td>4</td>\n",
       "      <td>1</td>\n",
       "      <td>Bachelors</td>\n",
       "      <td>Management</td>\n",
       "      <td>1</td>\n",
       "      <td>Tuesday, January 29, 2013</td>\n",
       "      <td>1-2 Miles</td>\n",
       "      <td>1952</td>\n",
       "      <td>2013</td>\n",
       "    </tr>\n",
       "    <tr>\n",
       "      <td>2</td>\n",
       "      <td>528</td>\n",
       "      <td>20130131</td>\n",
       "      <td>16384</td>\n",
       "      <td>4</td>\n",
       "      <td>SO52043</td>\n",
       "      <td>1</td>\n",
       "      <td>1</td>\n",
       "      <td>4.99</td>\n",
       "      <td>1.8663</td>\n",
       "      <td>0.3992</td>\n",
       "      <td>...</td>\n",
       "      <td>£60,000</td>\n",
       "      <td>4</td>\n",
       "      <td>0</td>\n",
       "      <td>Graduate Degree</td>\n",
       "      <td>Skilled Manual</td>\n",
       "      <td>0</td>\n",
       "      <td>Thursday, January 31, 2013</td>\n",
       "      <td>0-1 Miles</td>\n",
       "      <td>1964</td>\n",
       "      <td>2013</td>\n",
       "    </tr>\n",
       "    <tr>\n",
       "      <td>3</td>\n",
       "      <td>528</td>\n",
       "      <td>20130131</td>\n",
       "      <td>15476</td>\n",
       "      <td>4</td>\n",
       "      <td>SO52045</td>\n",
       "      <td>1</td>\n",
       "      <td>1</td>\n",
       "      <td>4.99</td>\n",
       "      <td>1.8663</td>\n",
       "      <td>0.3992</td>\n",
       "      <td>...</td>\n",
       "      <td>£60,000</td>\n",
       "      <td>1</td>\n",
       "      <td>0</td>\n",
       "      <td>Graduate Degree</td>\n",
       "      <td>Professional</td>\n",
       "      <td>0</td>\n",
       "      <td>Thursday, January 31, 2013</td>\n",
       "      <td>2-5 Miles</td>\n",
       "      <td>1975</td>\n",
       "      <td>2013</td>\n",
       "    </tr>\n",
       "    <tr>\n",
       "      <td>4</td>\n",
       "      <td>528</td>\n",
       "      <td>20130201</td>\n",
       "      <td>15861</td>\n",
       "      <td>4</td>\n",
       "      <td>SO52094</td>\n",
       "      <td>1</td>\n",
       "      <td>1</td>\n",
       "      <td>4.99</td>\n",
       "      <td>1.8663</td>\n",
       "      <td>0.3992</td>\n",
       "      <td>...</td>\n",
       "      <td>£40,000</td>\n",
       "      <td>4</td>\n",
       "      <td>4</td>\n",
       "      <td>Partial College</td>\n",
       "      <td>Clerical</td>\n",
       "      <td>2</td>\n",
       "      <td>Friday, February 1, 2013</td>\n",
       "      <td>0-1 Miles</td>\n",
       "      <td>1977</td>\n",
       "      <td>2013</td>\n",
       "    </tr>\n",
       "  </tbody>\n",
       "</table>\n",
       "<p>5 rows × 38 columns</p>\n",
       "</div>"
      ],
      "text/plain": [
       "   ProductKey  OrderDateKey  CustomerKey  SalesTerritoryKey SalesOrderNumber  \\\n",
       "0         528      20130128        14870                  4          SO51900   \n",
       "1         528      20130129        15319                  4          SO51948   \n",
       "2         528      20130131        16384                  4          SO52043   \n",
       "3         528      20130131        15476                  4          SO52045   \n",
       "4         528      20130201        15861                  4          SO52094   \n",
       "\n",
       "   SalesOrderLineNumber  OrderQuantity  UnitPrice  TotalProductCost  \\\n",
       "0                     1              1       4.99            1.8663   \n",
       "1                     1              1       4.99            1.8663   \n",
       "2                     1              1       4.99            1.8663   \n",
       "3                     1              1       4.99            1.8663   \n",
       "4                     1              1       4.99            1.8663   \n",
       "\n",
       "   TaxAmount  ...  YearlyIncome TotalChildren  NumberChildrenAtHome  \\\n",
       "0     0.3992  ...       £40,000             3                     3   \n",
       "1     0.3992  ...       £70,000             4                     1   \n",
       "2     0.3992  ...       £60,000             4                     0   \n",
       "3     0.3992  ...       £60,000             1                     0   \n",
       "4     0.3992  ...       £40,000             4                     4   \n",
       "\n",
       "         Education      Occupation NumberCarsOwned  \\\n",
       "0  Partial College        Clerical               2   \n",
       "1        Bachelors      Management               1   \n",
       "2  Graduate Degree  Skilled Manual               0   \n",
       "3  Graduate Degree    Professional               0   \n",
       "4  Partial College        Clerical               2   \n",
       "\n",
       "            DateFirstPurchase CommuteDistance BirthYear FirstPurchaseYear  \n",
       "0    Monday, January 28, 2013       0-1 Miles      1979              2013  \n",
       "1   Tuesday, January 29, 2013       1-2 Miles      1952              2013  \n",
       "2  Thursday, January 31, 2013       0-1 Miles      1964              2013  \n",
       "3  Thursday, January 31, 2013       2-5 Miles      1975              2013  \n",
       "4    Friday, February 1, 2013       0-1 Miles      1977              2013  \n",
       "\n",
       "[5 rows x 38 columns]"
      ]
     },
     "execution_count": 197,
     "metadata": {},
     "output_type": "execute_result"
    }
   ],
   "source": [
    "df_prodsub_sale_teri_cust = pd.merge(df_prodsub_sale_teri,d_customer, on = 'CustomerKey', how='left')\n",
    "df_prodsub_sale_teri.head()"
   ]
  },
  {
   "cell_type": "code",
   "execution_count": 198,
   "metadata": {},
   "outputs": [
    {
     "data": {
      "text/plain": [
       "Index(['ProductKey', 'OrderDateKey', 'CustomerKey', 'SalesTerritoryKey',\n",
       "       'SalesOrderNumber', 'SalesOrderLineNumber', 'OrderQuantity',\n",
       "       'UnitPrice', 'TotalProductCost', 'TaxAmount', 'SalesAmount',\n",
       "       'OrderDate', 'Sale_Prodcost', 'ProductSubcategoryKey', 'ProductName',\n",
       "       'ProductSubcategoryName', 'ProductCategoryKey', 'Product Category',\n",
       "       'SalesTerritoryRegion', 'SalesTerritoryCountry', 'SalesTerritoryGroup',\n",
       "       'GeographyKey', 'CustomerAlternateKey', 'FirstName', 'LastName',\n",
       "       'BirthDate', 'MaritalStatus', 'Gender', 'YearlyIncome', 'TotalChildren',\n",
       "       'NumberChildrenAtHome', 'Education', 'Occupation', 'NumberCarsOwned',\n",
       "       'DateFirstPurchase', 'CommuteDistance', 'BirthYear',\n",
       "       'FirstPurchaseYear'],\n",
       "      dtype='object')"
      ]
     },
     "execution_count": 198,
     "metadata": {},
     "output_type": "execute_result"
    }
   ],
   "source": [
    "df_prodsub_sale_teri_cust.columns"
   ]
  },
  {
   "cell_type": "code",
   "execution_count": 240,
   "metadata": {},
   "outputs": [],
   "source": [
    "df_prodsub_sale_teri_cust['OrderDateKey']=pd.to_datetime(df_prodsub_sale_teri_cust['OrderDateKey'], format='%Y%m%d')"
   ]
  },
  {
   "cell_type": "code",
   "execution_count": 244,
   "metadata": {},
   "outputs": [
    {
     "data": {
      "text/html": [
       "<div>\n",
       "<style scoped>\n",
       "    .dataframe tbody tr th:only-of-type {\n",
       "        vertical-align: middle;\n",
       "    }\n",
       "\n",
       "    .dataframe tbody tr th {\n",
       "        vertical-align: top;\n",
       "    }\n",
       "\n",
       "    .dataframe thead th {\n",
       "        text-align: right;\n",
       "    }\n",
       "</style>\n",
       "<table border=\"1\" class=\"dataframe\">\n",
       "  <thead>\n",
       "    <tr style=\"text-align: right;\">\n",
       "      <th></th>\n",
       "      <th>ProductKey</th>\n",
       "      <th>OrderDateKey</th>\n",
       "      <th>CustomerKey</th>\n",
       "      <th>SalesTerritoryKey</th>\n",
       "      <th>SalesOrderNumber</th>\n",
       "      <th>SalesOrderLineNumber</th>\n",
       "      <th>OrderQuantity</th>\n",
       "      <th>UnitPrice</th>\n",
       "      <th>TotalProductCost</th>\n",
       "      <th>TaxAmount</th>\n",
       "      <th>...</th>\n",
       "      <th>YearlyIncome</th>\n",
       "      <th>TotalChildren</th>\n",
       "      <th>NumberChildrenAtHome</th>\n",
       "      <th>Education</th>\n",
       "      <th>Occupation</th>\n",
       "      <th>NumberCarsOwned</th>\n",
       "      <th>DateFirstPurchase</th>\n",
       "      <th>CommuteDistance</th>\n",
       "      <th>BirthYear</th>\n",
       "      <th>FirstPurchaseYear</th>\n",
       "    </tr>\n",
       "  </thead>\n",
       "  <tbody>\n",
       "    <tr>\n",
       "      <td>0</td>\n",
       "      <td>528</td>\n",
       "      <td>2013-01-28</td>\n",
       "      <td>14870</td>\n",
       "      <td>4</td>\n",
       "      <td>SO51900</td>\n",
       "      <td>1</td>\n",
       "      <td>1</td>\n",
       "      <td>4.99</td>\n",
       "      <td>1.8663</td>\n",
       "      <td>0.3992</td>\n",
       "      <td>...</td>\n",
       "      <td>£40,000</td>\n",
       "      <td>3</td>\n",
       "      <td>3</td>\n",
       "      <td>Partial College</td>\n",
       "      <td>Clerical</td>\n",
       "      <td>2</td>\n",
       "      <td>Monday, January 28, 2013</td>\n",
       "      <td>0-1 Miles</td>\n",
       "      <td>1979</td>\n",
       "      <td>2013</td>\n",
       "    </tr>\n",
       "    <tr>\n",
       "      <td>1</td>\n",
       "      <td>528</td>\n",
       "      <td>2013-01-29</td>\n",
       "      <td>15319</td>\n",
       "      <td>4</td>\n",
       "      <td>SO51948</td>\n",
       "      <td>1</td>\n",
       "      <td>1</td>\n",
       "      <td>4.99</td>\n",
       "      <td>1.8663</td>\n",
       "      <td>0.3992</td>\n",
       "      <td>...</td>\n",
       "      <td>£70,000</td>\n",
       "      <td>4</td>\n",
       "      <td>1</td>\n",
       "      <td>Bachelors</td>\n",
       "      <td>Management</td>\n",
       "      <td>1</td>\n",
       "      <td>Tuesday, January 29, 2013</td>\n",
       "      <td>1-2 Miles</td>\n",
       "      <td>1952</td>\n",
       "      <td>2013</td>\n",
       "    </tr>\n",
       "    <tr>\n",
       "      <td>2</td>\n",
       "      <td>528</td>\n",
       "      <td>2013-01-31</td>\n",
       "      <td>16384</td>\n",
       "      <td>4</td>\n",
       "      <td>SO52043</td>\n",
       "      <td>1</td>\n",
       "      <td>1</td>\n",
       "      <td>4.99</td>\n",
       "      <td>1.8663</td>\n",
       "      <td>0.3992</td>\n",
       "      <td>...</td>\n",
       "      <td>£60,000</td>\n",
       "      <td>4</td>\n",
       "      <td>0</td>\n",
       "      <td>Graduate Degree</td>\n",
       "      <td>Skilled Manual</td>\n",
       "      <td>0</td>\n",
       "      <td>Thursday, January 31, 2013</td>\n",
       "      <td>0-1 Miles</td>\n",
       "      <td>1964</td>\n",
       "      <td>2013</td>\n",
       "    </tr>\n",
       "    <tr>\n",
       "      <td>3</td>\n",
       "      <td>528</td>\n",
       "      <td>2013-01-31</td>\n",
       "      <td>15476</td>\n",
       "      <td>4</td>\n",
       "      <td>SO52045</td>\n",
       "      <td>1</td>\n",
       "      <td>1</td>\n",
       "      <td>4.99</td>\n",
       "      <td>1.8663</td>\n",
       "      <td>0.3992</td>\n",
       "      <td>...</td>\n",
       "      <td>£60,000</td>\n",
       "      <td>1</td>\n",
       "      <td>0</td>\n",
       "      <td>Graduate Degree</td>\n",
       "      <td>Professional</td>\n",
       "      <td>0</td>\n",
       "      <td>Thursday, January 31, 2013</td>\n",
       "      <td>2-5 Miles</td>\n",
       "      <td>1975</td>\n",
       "      <td>2013</td>\n",
       "    </tr>\n",
       "    <tr>\n",
       "      <td>4</td>\n",
       "      <td>528</td>\n",
       "      <td>2013-02-01</td>\n",
       "      <td>15861</td>\n",
       "      <td>4</td>\n",
       "      <td>SO52094</td>\n",
       "      <td>1</td>\n",
       "      <td>1</td>\n",
       "      <td>4.99</td>\n",
       "      <td>1.8663</td>\n",
       "      <td>0.3992</td>\n",
       "      <td>...</td>\n",
       "      <td>£40,000</td>\n",
       "      <td>4</td>\n",
       "      <td>4</td>\n",
       "      <td>Partial College</td>\n",
       "      <td>Clerical</td>\n",
       "      <td>2</td>\n",
       "      <td>Friday, February 1, 2013</td>\n",
       "      <td>0-1 Miles</td>\n",
       "      <td>1977</td>\n",
       "      <td>2013</td>\n",
       "    </tr>\n",
       "  </tbody>\n",
       "</table>\n",
       "<p>5 rows × 38 columns</p>\n",
       "</div>"
      ],
      "text/plain": [
       "   ProductKey OrderDateKey  CustomerKey  SalesTerritoryKey SalesOrderNumber  \\\n",
       "0         528   2013-01-28        14870                  4          SO51900   \n",
       "1         528   2013-01-29        15319                  4          SO51948   \n",
       "2         528   2013-01-31        16384                  4          SO52043   \n",
       "3         528   2013-01-31        15476                  4          SO52045   \n",
       "4         528   2013-02-01        15861                  4          SO52094   \n",
       "\n",
       "   SalesOrderLineNumber  OrderQuantity  UnitPrice  TotalProductCost  \\\n",
       "0                     1              1       4.99            1.8663   \n",
       "1                     1              1       4.99            1.8663   \n",
       "2                     1              1       4.99            1.8663   \n",
       "3                     1              1       4.99            1.8663   \n",
       "4                     1              1       4.99            1.8663   \n",
       "\n",
       "   TaxAmount  ...  YearlyIncome TotalChildren  NumberChildrenAtHome  \\\n",
       "0     0.3992  ...       £40,000             3                     3   \n",
       "1     0.3992  ...       £70,000             4                     1   \n",
       "2     0.3992  ...       £60,000             4                     0   \n",
       "3     0.3992  ...       £60,000             1                     0   \n",
       "4     0.3992  ...       £40,000             4                     4   \n",
       "\n",
       "         Education      Occupation NumberCarsOwned  \\\n",
       "0  Partial College        Clerical               2   \n",
       "1        Bachelors      Management               1   \n",
       "2  Graduate Degree  Skilled Manual               0   \n",
       "3  Graduate Degree    Professional               0   \n",
       "4  Partial College        Clerical               2   \n",
       "\n",
       "            DateFirstPurchase CommuteDistance BirthYear FirstPurchaseYear  \n",
       "0    Monday, January 28, 2013       0-1 Miles      1979              2013  \n",
       "1   Tuesday, January 29, 2013       1-2 Miles      1952              2013  \n",
       "2  Thursday, January 31, 2013       0-1 Miles      1964              2013  \n",
       "3  Thursday, January 31, 2013       2-5 Miles      1975              2013  \n",
       "4    Friday, February 1, 2013       0-1 Miles      1977              2013  \n",
       "\n",
       "[5 rows x 38 columns]"
      ]
     },
     "execution_count": 244,
     "metadata": {},
     "output_type": "execute_result"
    }
   ],
   "source": [
    "df_prodsub_sale_teri_cust.head()"
   ]
  },
  {
   "cell_type": "code",
   "execution_count": 258,
   "metadata": {},
   "outputs": [],
   "source": [
    "Cust_Trafic = df_prodsub_sale_teri_cust.groupby(['OrderDateKey','CustomerKey']).size().reset_index(name=\"Freq\")\n"
   ]
  },
  {
   "cell_type": "code",
   "execution_count": 257,
   "metadata": {},
   "outputs": [
    {
     "data": {
      "text/plain": [
       "<matplotlib.axes._subplots.AxesSubplot at 0x7fae51dae950>"
      ]
     },
     "execution_count": 257,
     "metadata": {},
     "output_type": "execute_result"
    },
    {
     "data": {
      "image/png": "[encoded data removed]",
      "text/plain": [
       "<Figure size 432x288 with 1 Axes>"
      ]
     },
     "metadata": {
      "needs_background": "light"
     },
     "output_type": "display_data"
    }
   ],
   "source": [
    "Cust_Trafic.sort_values('Freq',ascending=True)['Freq'].hist()"
   ]
  },
  {
   "cell_type": "code",
   "execution_count": 261,
   "metadata": {},
   "outputs": [
    {
     "data": {
      "text/plain": [
       "<matplotlib.axes._subplots.AxesSubplot at 0x7faeb5eedf10>"
      ]
     },
     "execution_count": 261,
     "metadata": {},
     "output_type": "execute_result"
    },
    {
     "data": {
      "image/png": "[encoded data removed]",
      "text/plain": [
       "<Figure size 432x288 with 1 Axes>"
      ]
     },
     "metadata": {
      "needs_background": "light"
     },
     "output_type": "display_data"
    }
   ],
   "source": [
    "dtime=Cust_Trafic.OrderDateKey.dt.strftime('%Y')\n",
    "dtime.value_counts().sort_values().sort_index().plot()\n"
   ]
  },
  {
   "cell_type": "markdown",
   "metadata": {},
   "source": [
    "# "
   ]
  },
  {
   "cell_type": "code",
   "execution_count": 237,
   "metadata": {},
   "outputs": [
    {
     "data": {
      "text/plain": [
       "<matplotlib.axes._subplots.AxesSubplot at 0x7faec19b8490>"
      ]
     },
     "execution_count": 237,
     "metadata": {},
     "output_type": "execute_result"
    },
    {
     "data": {
      "image/png": "[encoded data removed]",
      "text/plain": [
       "<Figure size 432x288 with 1 Axes>"
      ]
     },
     "metadata": {
      "needs_background": "light"
     },
     "output_type": "display_data"
    }
   ],
   "source": [
    "dtime=pd.to_datetime(df_prodsub_sale_teri_cust.OrderDateKey, format='%Y%m%d').dt.strftime('%Y')\n",
    "dtime.value_counts().sort_values().sort_index().plot()"
   ]
  },
  {
   "cell_type": "code",
   "execution_count": 230,
   "metadata": {},
   "outputs": [
    {
     "data": {
      "text/plain": [
       "2013    52801\n",
       "2012     3397\n",
       "2011     2216\n",
       "2014     1970\n",
       "2010       14\n",
       "Name: OrderDateKey, dtype: int64"
      ]
     },
     "execution_count": 230,
     "metadata": {},
     "output_type": "execute_result"
    }
   ],
   "source": [
    "dtime.value_counts().sort_values(axis=0,ascending=False)"
   ]
  },
  {
   "cell_type": "code",
   "execution_count": 236,
   "metadata": {},
   "outputs": [
    {
     "data": {
      "text/plain": [
       "2010       14\n",
       "2011     2216\n",
       "2012     3397\n",
       "2013    52801\n",
       "2014     1970\n",
       "Name: OrderDateKey, dtype: int64"
      ]
     },
     "execution_count": 236,
     "metadata": {},
     "output_type": "execute_result"
    }
   ],
   "source": []
  },
  {
   "cell_type": "code",
   "execution_count": 202,
   "metadata": {},
   "outputs": [
    {
     "data": {
      "text/plain": [
       "0        20130128\n",
       "1        20130129\n",
       "2        20130131\n",
       "3        20130131\n",
       "4        20130201\n",
       "           ...   \n",
       "60393    20131213\n",
       "60394    20131214\n",
       "60395    20131216\n",
       "60396    20131225\n",
       "60397    20131226\n",
       "Name: OrderDateKey, Length: 60398, dtype: int64"
      ]
     },
     "execution_count": 202,
     "metadata": {},
     "output_type": "execute_result"
    }
   ],
   "source": [
    "df_prodsub_sale_teri_cust.OrderDateKey"
   ]
  },
  {
   "cell_type": "code",
   "execution_count": 199,
   "metadata": {},
   "outputs": [
    {
     "data": {
      "text/plain": [
       "<matplotlib.axes._subplots.AxesSubplot at 0x7faf12c568d0>"
      ]
     },
     "execution_count": 199,
     "metadata": {},
     "output_type": "execute_result"
    },
    {
     "data": {
      "image/png": "[encoded data removed]",
      "text/plain": [
       "<Figure size 432x288 with 1 Axes>"
      ]
     },
     "metadata": {
      "needs_background": "light"
     },
     "output_type": "display_data"
    }
   ],
   "source": [
    "df_prodsub_sale_teri_cust.ProductName.value_counts()[0:29].plot.bar()"
   ]
  },
  {
   "cell_type": "code",
   "execution_count": 200,
   "metadata": {},
   "outputs": [
    {
     "data": {
      "text/plain": [
       "<matplotlib.axes._subplots.AxesSubplot at 0x7faef7385f50>"
      ]
     },
     "execution_count": 200,
     "metadata": {},
     "output_type": "execute_result"
    },
    {
     "data": {
      "image/png": "[encoded data removed]",
      "text/plain": [
       "<Figure size 432x288 with 1 Axes>"
      ]
     },
     "metadata": {
      "needs_background": "light"
     },
     "output_type": "display_data"
    }
   ],
   "source": [
    "df_prodsub_sale_teri_cust['Product Category'].value_counts()[0:29].plot.bar()"
   ]
  },
  {
   "cell_type": "code",
   "execution_count": 194,
   "metadata": {},
   "outputs": [
    {
     "data": {
      "text/plain": [
       "<matplotlib.axes._subplots.AxesSubplot at 0x7faf234c1950>"
      ]
     },
     "execution_count": 194,
     "metadata": {},
     "output_type": "execute_result"
    },
    {
     "data": {
      "image/png": "[encoded data removed]",
      "text/plain": [
       "<Figure size 432x288 with 1 Axes>"
      ]
     },
     "metadata": {
      "needs_background": "light"
     },
     "output_type": "display_data"
    }
   ],
   "source": [
    "df_prodsub_sale_teri['ProductSubcategoryName'].value_counts()[0:29].plot.bar()"
   ]
  },
  {
   "cell_type": "markdown",
   "metadata": {},
   "source": [
    "## Most bought products"
   ]
  },
  {
   "cell_type": "code",
   "execution_count": 124,
   "metadata": {},
   "outputs": [
    {
     "name": "stdout",
     "output_type": "stream",
     "text": [
      "List of dropped columns: Size, SizeRange, Style, \n",
      "\n"
     ]
    },
    {
     "data": {
      "text/html": [
       "<div>\n",
       "<style scoped>\n",
       "    .dataframe tbody tr th:only-of-type {\n",
       "        vertical-align: middle;\n",
       "    }\n",
       "\n",
       "    .dataframe tbody tr th {\n",
       "        vertical-align: top;\n",
       "    }\n",
       "\n",
       "    .dataframe thead th {\n",
       "        text-align: right;\n",
       "    }\n",
       "</style>\n",
       "<table border=\"1\" class=\"dataframe\">\n",
       "  <thead>\n",
       "    <tr style=\"text-align: right;\">\n",
       "      <th></th>\n",
       "      <th>ProductKey</th>\n",
       "      <th>ProductSubcategoryKey</th>\n",
       "      <th>ProductName</th>\n",
       "      <th>Color</th>\n",
       "      <th>ListPrice</th>\n",
       "      <th>ProductLine</th>\n",
       "      <th>DealerPrice</th>\n",
       "      <th>Class</th>\n",
       "      <th>ModelName</th>\n",
       "      <th>Status</th>\n",
       "    </tr>\n",
       "  </thead>\n",
       "  <tbody>\n",
       "    <tr>\n",
       "      <td>0</td>\n",
       "      <td>1</td>\n",
       "      <td>NaN</td>\n",
       "      <td>Adjustable Race</td>\n",
       "      <td>NaN</td>\n",
       "      <td>NaN</td>\n",
       "      <td>NaN</td>\n",
       "      <td>NaN</td>\n",
       "      <td>NaN</td>\n",
       "      <td>NaN</td>\n",
       "      <td>Current</td>\n",
       "    </tr>\n",
       "    <tr>\n",
       "      <td>1</td>\n",
       "      <td>2</td>\n",
       "      <td>NaN</td>\n",
       "      <td>Bearing Ball</td>\n",
       "      <td>NaN</td>\n",
       "      <td>NaN</td>\n",
       "      <td>NaN</td>\n",
       "      <td>NaN</td>\n",
       "      <td>NaN</td>\n",
       "      <td>NaN</td>\n",
       "      <td>Current</td>\n",
       "    </tr>\n",
       "    <tr>\n",
       "      <td>2</td>\n",
       "      <td>12</td>\n",
       "      <td>NaN</td>\n",
       "      <td>Crown Race</td>\n",
       "      <td>NaN</td>\n",
       "      <td>NaN</td>\n",
       "      <td>NaN</td>\n",
       "      <td>NaN</td>\n",
       "      <td>NaN</td>\n",
       "      <td>NaN</td>\n",
       "      <td>Current</td>\n",
       "    </tr>\n",
       "    <tr>\n",
       "      <td>3</td>\n",
       "      <td>14</td>\n",
       "      <td>NaN</td>\n",
       "      <td>Decal 1</td>\n",
       "      <td>NaN</td>\n",
       "      <td>NaN</td>\n",
       "      <td>NaN</td>\n",
       "      <td>NaN</td>\n",
       "      <td>NaN</td>\n",
       "      <td>NaN</td>\n",
       "      <td>Current</td>\n",
       "    </tr>\n",
       "    <tr>\n",
       "      <td>4</td>\n",
       "      <td>15</td>\n",
       "      <td>NaN</td>\n",
       "      <td>Decal 2</td>\n",
       "      <td>NaN</td>\n",
       "      <td>NaN</td>\n",
       "      <td>NaN</td>\n",
       "      <td>NaN</td>\n",
       "      <td>NaN</td>\n",
       "      <td>NaN</td>\n",
       "      <td>Current</td>\n",
       "    </tr>\n",
       "  </tbody>\n",
       "</table>\n",
       "</div>"
      ],
      "text/plain": [
       "   ProductKey  ProductSubcategoryKey      ProductName Color  ListPrice  \\\n",
       "0           1                    NaN  Adjustable Race   NaN        NaN   \n",
       "1           2                    NaN     Bearing Ball   NaN        NaN   \n",
       "2          12                    NaN       Crown Race   NaN        NaN   \n",
       "3          14                    NaN          Decal 1   NaN        NaN   \n",
       "4          15                    NaN          Decal 2   NaN        NaN   \n",
       "\n",
       "  ProductLine  DealerPrice Class ModelName   Status  \n",
       "0         NaN          NaN   NaN       NaN  Current  \n",
       "1         NaN          NaN   NaN       NaN  Current  \n",
       "2         NaN          NaN   NaN       NaN  Current  \n",
       "3         NaN          NaN   NaN       NaN  Current  \n",
       "4         NaN          NaN   NaN       NaN  Current  "
      ]
     },
     "execution_count": 124,
     "metadata": {},
     "output_type": "execute_result"
    }
   ],
   "source": [
    "df = d_product[[column for column in d_product if d_product[column].count() / len(d_product) >= 0.5]]\n",
    "print(\"List of dropped columns:\", end=\" \")\n",
    "for c in d_product.columns:\n",
    "    if c not in df.columns:\n",
    "        print(c, end=\", \")\n",
    "print('\\n')\n",
    "df.head()"
   ]
  },
  {
   "cell_type": "code",
   "execution_count": 165,
   "metadata": {},
   "outputs": [
    {
     "data": {
      "text/html": [
       "<div>\n",
       "<style scoped>\n",
       "    .dataframe tbody tr th:only-of-type {\n",
       "        vertical-align: middle;\n",
       "    }\n",
       "\n",
       "    .dataframe tbody tr th {\n",
       "        vertical-align: top;\n",
       "    }\n",
       "\n",
       "    .dataframe thead th {\n",
       "        text-align: right;\n",
       "    }\n",
       "</style>\n",
       "<table border=\"1\" class=\"dataframe\">\n",
       "  <thead>\n",
       "    <tr style=\"text-align: right;\">\n",
       "      <th></th>\n",
       "      <th>CustomerKey</th>\n",
       "      <th>GeographyKey</th>\n",
       "      <th>TotalChildren</th>\n",
       "      <th>NumberChildrenAtHome</th>\n",
       "      <th>NumberCarsOwned</th>\n",
       "      <th>BirthYear</th>\n",
       "      <th>FirstPurchaseYear</th>\n",
       "    </tr>\n",
       "  </thead>\n",
       "  <tbody>\n",
       "    <tr>\n",
       "      <td>count</td>\n",
       "      <td>18484.000000</td>\n",
       "      <td>18484.000000</td>\n",
       "      <td>18484.000000</td>\n",
       "      <td>18484.000000</td>\n",
       "      <td>18484.000000</td>\n",
       "      <td>18484.000000</td>\n",
       "      <td>18484.000000</td>\n",
       "    </tr>\n",
       "    <tr>\n",
       "      <td>mean</td>\n",
       "      <td>20241.500000</td>\n",
       "      <td>257.956287</td>\n",
       "      <td>1.844352</td>\n",
       "      <td>1.004058</td>\n",
       "      <td>1.502705</td>\n",
       "      <td>1968.823469</td>\n",
       "      <td>2012.610853</td>\n",
       "    </tr>\n",
       "    <tr>\n",
       "      <td>std</td>\n",
       "      <td>5336.015523</td>\n",
       "      <td>196.531062</td>\n",
       "      <td>1.612408</td>\n",
       "      <td>1.522660</td>\n",
       "      <td>1.138394</td>\n",
       "      <td>11.536142</td>\n",
       "      <td>0.732673</td>\n",
       "    </tr>\n",
       "    <tr>\n",
       "      <td>min</td>\n",
       "      <td>11000.000000</td>\n",
       "      <td>2.000000</td>\n",
       "      <td>0.000000</td>\n",
       "      <td>0.000000</td>\n",
       "      <td>0.000000</td>\n",
       "      <td>1916.000000</td>\n",
       "      <td>2010.000000</td>\n",
       "    </tr>\n",
       "    <tr>\n",
       "      <td>25%</td>\n",
       "      <td>15620.750000</td>\n",
       "      <td>62.000000</td>\n",
       "      <td>0.000000</td>\n",
       "      <td>0.000000</td>\n",
       "      <td>1.000000</td>\n",
       "      <td>1961.000000</td>\n",
       "      <td>2012.000000</td>\n",
       "    </tr>\n",
       "    <tr>\n",
       "      <td>50%</td>\n",
       "      <td>20241.500000</td>\n",
       "      <td>240.000000</td>\n",
       "      <td>2.000000</td>\n",
       "      <td>0.000000</td>\n",
       "      <td>2.000000</td>\n",
       "      <td>1971.000000</td>\n",
       "      <td>2013.000000</td>\n",
       "    </tr>\n",
       "    <tr>\n",
       "      <td>75%</td>\n",
       "      <td>24862.250000</td>\n",
       "      <td>345.000000</td>\n",
       "      <td>3.000000</td>\n",
       "      <td>2.000000</td>\n",
       "      <td>2.000000</td>\n",
       "      <td>1978.000000</td>\n",
       "      <td>2013.000000</td>\n",
       "    </tr>\n",
       "    <tr>\n",
       "      <td>max</td>\n",
       "      <td>29483.000000</td>\n",
       "      <td>654.000000</td>\n",
       "      <td>5.000000</td>\n",
       "      <td>5.000000</td>\n",
       "      <td>4.000000</td>\n",
       "      <td>1986.000000</td>\n",
       "      <td>2014.000000</td>\n",
       "    </tr>\n",
       "  </tbody>\n",
       "</table>\n",
       "</div>"
      ],
      "text/plain": [
       "        CustomerKey  GeographyKey  TotalChildren  NumberChildrenAtHome  \\\n",
       "count  18484.000000  18484.000000   18484.000000          18484.000000   \n",
       "mean   20241.500000    257.956287       1.844352              1.004058   \n",
       "std     5336.015523    196.531062       1.612408              1.522660   \n",
       "min    11000.000000      2.000000       0.000000              0.000000   \n",
       "25%    15620.750000     62.000000       0.000000              0.000000   \n",
       "50%    20241.500000    240.000000       2.000000              0.000000   \n",
       "75%    24862.250000    345.000000       3.000000              2.000000   \n",
       "max    29483.000000    654.000000       5.000000              5.000000   \n",
       "\n",
       "       NumberCarsOwned     BirthYear  FirstPurchaseYear  \n",
       "count     18484.000000  18484.000000       18484.000000  \n",
       "mean          1.502705   1968.823469        2012.610853  \n",
       "std           1.138394     11.536142           0.732673  \n",
       "min           0.000000   1916.000000        2010.000000  \n",
       "25%           1.000000   1961.000000        2012.000000  \n",
       "50%           2.000000   1971.000000        2013.000000  \n",
       "75%           2.000000   1978.000000        2013.000000  \n",
       "max           4.000000   1986.000000        2014.000000  "
      ]
     },
     "execution_count": 165,
     "metadata": {},
     "output_type": "execute_result"
    }
   ],
   "source": [
    "d_customer.describe()"
   ]
  },
  {
   "cell_type": "code",
   "execution_count": 3,
   "metadata": {},
   "outputs": [],
   "source": []
  },
  {
   "cell_type": "markdown",
   "metadata": {},
   "source": [
    "# 1) Tìm DAU\n"
   ]
  },
  {
   "cell_type": "code",
   "execution_count": 41,
   "metadata": {},
   "outputs": [],
   "source": [
    "# Copy để xử lý\n",
    "Customer_new = f_sales.copy()"
   ]
  },
  {
   "cell_type": "code",
   "execution_count": 42,
   "metadata": {},
   "outputs": [],
   "source": [
    "Customer_Daily = Customer_new.groupby([\"OrderDate\",'CustomerKey']).size().reset_index(name=\"Freq\")"
   ]
  },
  {
   "cell_type": "code",
   "execution_count": 43,
   "metadata": {},
   "outputs": [
    {
     "data": {
      "text/html": [
       "<div>\n",
       "<style scoped>\n",
       "    .dataframe tbody tr th:only-of-type {\n",
       "        vertical-align: middle;\n",
       "    }\n",
       "\n",
       "    .dataframe tbody tr th {\n",
       "        vertical-align: top;\n",
       "    }\n",
       "\n",
       "    .dataframe thead th {\n",
       "        text-align: right;\n",
       "    }\n",
       "</style>\n",
       "<table border=\"1\" class=\"dataframe\">\n",
       "  <thead>\n",
       "    <tr style=\"text-align: right;\">\n",
       "      <th></th>\n",
       "      <th>OrderDate</th>\n",
       "      <th>CustomerKey</th>\n",
       "      <th>Freq</th>\n",
       "    </tr>\n",
       "  </thead>\n",
       "  <tbody>\n",
       "    <tr>\n",
       "      <td>0</td>\n",
       "      <td>2010-12-29</td>\n",
       "      <td>11003</td>\n",
       "      <td>1</td>\n",
       "    </tr>\n",
       "    <tr>\n",
       "      <td>1</td>\n",
       "      <td>2010-12-29</td>\n",
       "      <td>14501</td>\n",
       "      <td>1</td>\n",
       "    </tr>\n",
       "    <tr>\n",
       "      <td>2</td>\n",
       "      <td>2010-12-29</td>\n",
       "      <td>21768</td>\n",
       "      <td>1</td>\n",
       "    </tr>\n",
       "    <tr>\n",
       "      <td>3</td>\n",
       "      <td>2010-12-29</td>\n",
       "      <td>25863</td>\n",
       "      <td>1</td>\n",
       "    </tr>\n",
       "    <tr>\n",
       "      <td>4</td>\n",
       "      <td>2010-12-29</td>\n",
       "      <td>28389</td>\n",
       "      <td>1</td>\n",
       "    </tr>\n",
       "    <tr>\n",
       "      <td>...</td>\n",
       "      <td>...</td>\n",
       "      <td>...</td>\n",
       "      <td>...</td>\n",
       "    </tr>\n",
       "    <tr>\n",
       "      <td>27613</td>\n",
       "      <td>2014-01-28</td>\n",
       "      <td>24704</td>\n",
       "      <td>1</td>\n",
       "    </tr>\n",
       "    <tr>\n",
       "      <td>27614</td>\n",
       "      <td>2014-01-28</td>\n",
       "      <td>26564</td>\n",
       "      <td>3</td>\n",
       "    </tr>\n",
       "    <tr>\n",
       "      <td>27615</td>\n",
       "      <td>2014-01-28</td>\n",
       "      <td>26832</td>\n",
       "      <td>3</td>\n",
       "    </tr>\n",
       "    <tr>\n",
       "      <td>27616</td>\n",
       "      <td>2014-01-28</td>\n",
       "      <td>27686</td>\n",
       "      <td>3</td>\n",
       "    </tr>\n",
       "    <tr>\n",
       "      <td>27617</td>\n",
       "      <td>2014-01-28</td>\n",
       "      <td>28789</td>\n",
       "      <td>1</td>\n",
       "    </tr>\n",
       "  </tbody>\n",
       "</table>\n",
       "<p>27618 rows × 3 columns</p>\n",
       "</div>"
      ],
      "text/plain": [
       "       OrderDate  CustomerKey  Freq\n",
       "0     2010-12-29        11003     1\n",
       "1     2010-12-29        14501     1\n",
       "2     2010-12-29        21768     1\n",
       "3     2010-12-29        25863     1\n",
       "4     2010-12-29        28389     1\n",
       "...          ...          ...   ...\n",
       "27613 2014-01-28        24704     1\n",
       "27614 2014-01-28        26564     3\n",
       "27615 2014-01-28        26832     3\n",
       "27616 2014-01-28        27686     3\n",
       "27617 2014-01-28        28789     1\n",
       "\n",
       "[27618 rows x 3 columns]"
      ]
     },
     "execution_count": 43,
     "metadata": {},
     "output_type": "execute_result"
    }
   ],
   "source": [
    "Customer_Daily"
   ]
  },
  {
   "cell_type": "code",
   "execution_count": 44,
   "metadata": {},
   "outputs": [],
   "source": [
    "Customer_DAU = Customer_Daily.groupby([\"OrderDate\"]).size().reset_index(name=\"Freq\")"
   ]
  },
  {
   "cell_type": "code",
   "execution_count": 46,
   "metadata": {},
   "outputs": [
    {
     "data": {
      "text/html": [
       "<div>\n",
       "<style scoped>\n",
       "    .dataframe tbody tr th:only-of-type {\n",
       "        vertical-align: middle;\n",
       "    }\n",
       "\n",
       "    .dataframe tbody tr th {\n",
       "        vertical-align: top;\n",
       "    }\n",
       "\n",
       "    .dataframe thead th {\n",
       "        text-align: right;\n",
       "    }\n",
       "</style>\n",
       "<table border=\"1\" class=\"dataframe\">\n",
       "  <thead>\n",
       "    <tr style=\"text-align: right;\">\n",
       "      <th></th>\n",
       "      <th>OrderDate</th>\n",
       "      <th>Freq</th>\n",
       "    </tr>\n",
       "  </thead>\n",
       "  <tbody>\n",
       "    <tr>\n",
       "      <td>1076</td>\n",
       "      <td>2013-12-12</td>\n",
       "      <td>102</td>\n",
       "    </tr>\n",
       "    <tr>\n",
       "      <td>1004</td>\n",
       "      <td>2013-10-01</td>\n",
       "      <td>95</td>\n",
       "    </tr>\n",
       "    <tr>\n",
       "      <td>1032</td>\n",
       "      <td>2013-10-29</td>\n",
       "      <td>93</td>\n",
       "    </tr>\n",
       "    <tr>\n",
       "      <td>1083</td>\n",
       "      <td>2013-12-19</td>\n",
       "      <td>91</td>\n",
       "    </tr>\n",
       "    <tr>\n",
       "      <td>886</td>\n",
       "      <td>2013-06-05</td>\n",
       "      <td>91</td>\n",
       "    </tr>\n",
       "    <tr>\n",
       "      <td>...</td>\n",
       "      <td>...</td>\n",
       "      <td>...</td>\n",
       "    </tr>\n",
       "    <tr>\n",
       "      <td>329</td>\n",
       "      <td>2011-11-26</td>\n",
       "      <td>1</td>\n",
       "    </tr>\n",
       "    <tr>\n",
       "      <td>88</td>\n",
       "      <td>2011-03-29</td>\n",
       "      <td>1</td>\n",
       "    </tr>\n",
       "    <tr>\n",
       "      <td>46</td>\n",
       "      <td>2011-02-14</td>\n",
       "      <td>1</td>\n",
       "    </tr>\n",
       "    <tr>\n",
       "      <td>232</td>\n",
       "      <td>2011-08-21</td>\n",
       "      <td>1</td>\n",
       "    </tr>\n",
       "    <tr>\n",
       "      <td>113</td>\n",
       "      <td>2011-04-24</td>\n",
       "      <td>1</td>\n",
       "    </tr>\n",
       "  </tbody>\n",
       "</table>\n",
       "<p>1124 rows × 2 columns</p>\n",
       "</div>"
      ],
      "text/plain": [
       "      OrderDate  Freq\n",
       "1076 2013-12-12   102\n",
       "1004 2013-10-01    95\n",
       "1032 2013-10-29    93\n",
       "1083 2013-12-19    91\n",
       "886  2013-06-05    91\n",
       "...         ...   ...\n",
       "329  2011-11-26     1\n",
       "88   2011-03-29     1\n",
       "46   2011-02-14     1\n",
       "232  2011-08-21     1\n",
       "113  2011-04-24     1\n",
       "\n",
       "[1124 rows x 2 columns]"
      ]
     },
     "execution_count": 46,
     "metadata": {},
     "output_type": "execute_result"
    }
   ],
   "source": [
    "Customer_DAU.sort_values('Freq',ascending=False)"
   ]
  },
  {
   "cell_type": "code",
   "execution_count": 55,
   "metadata": {},
   "outputs": [
    {
     "data": {
      "text/plain": [
       "<matplotlib.axes._subplots.AxesSubplot at 0x7fb1013c4610>"
      ]
     },
     "execution_count": 55,
     "metadata": {},
     "output_type": "execute_result"
    },
    {
     "data": {
      "image/png": "[encoded data removed]",
      "text/plain": [
       "<Figure size 432x288 with 1 Axes>"
      ]
     },
     "metadata": {
      "needs_background": "light"
     },
     "output_type": "display_data"
    }
   ],
   "source": [
    "Customer_DAU.sort_values('Freq',ascending=False)[0:29].sort_values('OrderDate').plot.bar(\"OrderDate\")"
   ]
  },
  {
   "cell_type": "code",
   "execution_count": 49,
   "metadata": {},
   "outputs": [
    {
     "data": {
      "text/plain": [
       "<matplotlib.axes._subplots.AxesSubplot at 0x7fb0f1108850>"
      ]
     },
     "execution_count": 49,
     "metadata": {},
     "output_type": "execute_result"
    }
   ],
   "source": [
    "Customer_DAU.plot.bar(\"OrderDate\")"
   ]
  },
  {
   "cell_type": "markdown",
   "metadata": {},
   "source": [
    "# 2) Tìm DAU using domain Facebook"
   ]
  },
  {
   "cell_type": "code",
   "execution_count": 11,
   "metadata": {},
   "outputs": [],
   "source": [
    "Domain_Daily = Customer_new.groupby([\"date\",\"domain\"]).size().reset_index(name=\"Freq\")"
   ]
  },
  {
   "cell_type": "code",
   "execution_count": 12,
   "metadata": {},
   "outputs": [],
   "source": [
    "Domain_Daily = Customer_new.groupby([\"date\",'id',\"domain\"]).size().reset_index(name=\"Freq\")"
   ]
  },
  {
   "cell_type": "code",
   "execution_count": 13,
   "metadata": {},
   "outputs": [
    {
     "data": {
      "text/html": [
       "<div>\n",
       "<style scoped>\n",
       "    .dataframe tbody tr th:only-of-type {\n",
       "        vertical-align: middle;\n",
       "    }\n",
       "\n",
       "    .dataframe tbody tr th {\n",
       "        vertical-align: top;\n",
       "    }\n",
       "\n",
       "    .dataframe thead th {\n",
       "        text-align: right;\n",
       "    }\n",
       "</style>\n",
       "<table border=\"1\" class=\"dataframe\">\n",
       "  <thead>\n",
       "    <tr style=\"text-align: right;\">\n",
       "      <th></th>\n",
       "      <th>date</th>\n",
       "      <th>id</th>\n",
       "      <th>domain</th>\n",
       "      <th>Freq</th>\n",
       "    </tr>\n",
       "  </thead>\n",
       "  <tbody>\n",
       "    <tr>\n",
       "      <td>51253</td>\n",
       "      <td>2019-03-02</td>\n",
       "      <td>85T2Apqw0R-03pNVvjkHGA..</td>\n",
       "      <td>m.youtube.com</td>\n",
       "      <td>4</td>\n",
       "    </tr>\n",
       "    <tr>\n",
       "      <td>11432</td>\n",
       "      <td>2019-02-26</td>\n",
       "      <td>85T2Apqw0R-03pNVvjkHGA..</td>\n",
       "      <td>m.youtube.com</td>\n",
       "      <td>4</td>\n",
       "    </tr>\n",
       "    <tr>\n",
       "      <td>27447</td>\n",
       "      <td>2019-02-27</td>\n",
       "      <td>k3TRh__bm2-45JIvlv1Q5A..</td>\n",
       "      <td>coccoc.com</td>\n",
       "      <td>3</td>\n",
       "    </tr>\n",
       "    <tr>\n",
       "      <td>38401</td>\n",
       "      <td>2019-02-28</td>\n",
       "      <td>q9pwxhke_WWUIfQO5zETfA..</td>\n",
       "      <td>www.youtube.com</td>\n",
       "      <td>3</td>\n",
       "    </tr>\n",
       "    <tr>\n",
       "      <td>8206</td>\n",
       "      <td>2019-02-25</td>\n",
       "      <td>oXemO8UBCPyIGpcQvrRKVA..</td>\n",
       "      <td>www.facebook.com</td>\n",
       "      <td>3</td>\n",
       "    </tr>\n",
       "    <tr>\n",
       "      <td>...</td>\n",
       "      <td>...</td>\n",
       "      <td>...</td>\n",
       "      <td>...</td>\n",
       "      <td>...</td>\n",
       "    </tr>\n",
       "    <tr>\n",
       "      <td>23304</td>\n",
       "      <td>2019-02-27</td>\n",
       "      <td>KAMBpMYBkSfkXv35Jq6FWA..</td>\n",
       "      <td>m.kenh14.vn</td>\n",
       "      <td>1</td>\n",
       "    </tr>\n",
       "    <tr>\n",
       "      <td>23305</td>\n",
       "      <td>2019-02-27</td>\n",
       "      <td>KAMBpMYBkSfkXv35Jq6FWA..</td>\n",
       "      <td>m.youtube.com</td>\n",
       "      <td>1</td>\n",
       "    </tr>\n",
       "    <tr>\n",
       "      <td>23306</td>\n",
       "      <td>2019-02-27</td>\n",
       "      <td>KAQ26Iqxjj9x6Z6Q24TWZQ..</td>\n",
       "      <td>coccoc.com</td>\n",
       "      <td>1</td>\n",
       "    </tr>\n",
       "    <tr>\n",
       "      <td>23307</td>\n",
       "      <td>2019-02-27</td>\n",
       "      <td>KBTNIZzE0h7RSvkH84GrMQ..</td>\n",
       "      <td>www.facebook.com</td>\n",
       "      <td>1</td>\n",
       "    </tr>\n",
       "    <tr>\n",
       "      <td>69827</td>\n",
       "      <td>2019-03-03</td>\n",
       "      <td>zzcQWgEpZ-tyKA2XiVLbzw..</td>\n",
       "      <td>www.youtube.com</td>\n",
       "      <td>1</td>\n",
       "    </tr>\n",
       "  </tbody>\n",
       "</table>\n",
       "<p>69828 rows × 4 columns</p>\n",
       "</div>"
      ],
      "text/plain": [
       "             date                        id            domain  Freq\n",
       "51253  2019-03-02  85T2Apqw0R-03pNVvjkHGA..     m.youtube.com     4\n",
       "11432  2019-02-26  85T2Apqw0R-03pNVvjkHGA..     m.youtube.com     4\n",
       "27447  2019-02-27  k3TRh__bm2-45JIvlv1Q5A..        coccoc.com     3\n",
       "38401  2019-02-28  q9pwxhke_WWUIfQO5zETfA..   www.youtube.com     3\n",
       "8206   2019-02-25  oXemO8UBCPyIGpcQvrRKVA..  www.facebook.com     3\n",
       "...           ...                       ...               ...   ...\n",
       "23304  2019-02-27  KAMBpMYBkSfkXv35Jq6FWA..       m.kenh14.vn     1\n",
       "23305  2019-02-27  KAMBpMYBkSfkXv35Jq6FWA..     m.youtube.com     1\n",
       "23306  2019-02-27  KAQ26Iqxjj9x6Z6Q24TWZQ..        coccoc.com     1\n",
       "23307  2019-02-27  KBTNIZzE0h7RSvkH84GrMQ..  www.facebook.com     1\n",
       "69827  2019-03-03  zzcQWgEpZ-tyKA2XiVLbzw..   www.youtube.com     1\n",
       "\n",
       "[69828 rows x 4 columns]"
      ]
     },
     "execution_count": 13,
     "metadata": {},
     "output_type": "execute_result"
    }
   ],
   "source": [
    "Domain_Daily.sort_values('Freq',ascending=False)"
   ]
  },
  {
   "cell_type": "code",
   "execution_count": 14,
   "metadata": {},
   "outputs": [],
   "source": [
    "Face_Daily = Domain_Daily[Domain_Daily.domain.str.contains('facebook')]"
   ]
  },
  {
   "cell_type": "code",
   "execution_count": 15,
   "metadata": {},
   "outputs": [
    {
     "data": {
      "text/html": [
       "<div>\n",
       "<style scoped>\n",
       "    .dataframe tbody tr th:only-of-type {\n",
       "        vertical-align: middle;\n",
       "    }\n",
       "\n",
       "    .dataframe tbody tr th {\n",
       "        vertical-align: top;\n",
       "    }\n",
       "\n",
       "    .dataframe thead th {\n",
       "        text-align: right;\n",
       "    }\n",
       "</style>\n",
       "<table border=\"1\" class=\"dataframe\">\n",
       "  <thead>\n",
       "    <tr style=\"text-align: right;\">\n",
       "      <th></th>\n",
       "      <th>date</th>\n",
       "      <th>id</th>\n",
       "      <th>domain</th>\n",
       "      <th>Freq</th>\n",
       "    </tr>\n",
       "  </thead>\n",
       "  <tbody>\n",
       "    <tr>\n",
       "      <td>8206</td>\n",
       "      <td>2019-02-25</td>\n",
       "      <td>oXemO8UBCPyIGpcQvrRKVA..</td>\n",
       "      <td>www.facebook.com</td>\n",
       "      <td>3</td>\n",
       "    </tr>\n",
       "    <tr>\n",
       "      <td>59431</td>\n",
       "      <td>2019-03-02</td>\n",
       "      <td>xGSCgwtyAIJLndfkMO32jw..</td>\n",
       "      <td>m.facebook.com</td>\n",
       "      <td>2</td>\n",
       "    </tr>\n",
       "    <tr>\n",
       "      <td>61060</td>\n",
       "      <td>2019-03-03</td>\n",
       "      <td>6Qt99PP4WAh8GobWcEbkkg..</td>\n",
       "      <td>www.facebook.com</td>\n",
       "      <td>2</td>\n",
       "    </tr>\n",
       "    <tr>\n",
       "      <td>60835</td>\n",
       "      <td>2019-03-03</td>\n",
       "      <td>4yqnrLkjLQJPhHwr-dc8pQ..</td>\n",
       "      <td>www.facebook.com</td>\n",
       "      <td>2</td>\n",
       "    </tr>\n",
       "    <tr>\n",
       "      <td>42506</td>\n",
       "      <td>2019-03-01</td>\n",
       "      <td>FefDTGpARZLX_lsidWsE9g..</td>\n",
       "      <td>www.facebook.com</td>\n",
       "      <td>2</td>\n",
       "    </tr>\n",
       "    <tr>\n",
       "      <td>...</td>\n",
       "      <td>...</td>\n",
       "      <td>...</td>\n",
       "      <td>...</td>\n",
       "      <td>...</td>\n",
       "    </tr>\n",
       "    <tr>\n",
       "      <td>23485</td>\n",
       "      <td>2019-02-27</td>\n",
       "      <td>LK1NXlv3jDuox_2rXjzKMQ..</td>\n",
       "      <td>www.facebook.com</td>\n",
       "      <td>1</td>\n",
       "    </tr>\n",
       "    <tr>\n",
       "      <td>23487</td>\n",
       "      <td>2019-02-27</td>\n",
       "      <td>LKntlRkftvx7r_eOD2Psgw..</td>\n",
       "      <td>www.facebook.com</td>\n",
       "      <td>1</td>\n",
       "    </tr>\n",
       "    <tr>\n",
       "      <td>23491</td>\n",
       "      <td>2019-02-27</td>\n",
       "      <td>LMIcrz602KSRDSgg00EBJA..</td>\n",
       "      <td>www.facebook.com</td>\n",
       "      <td>1</td>\n",
       "    </tr>\n",
       "    <tr>\n",
       "      <td>23493</td>\n",
       "      <td>2019-02-27</td>\n",
       "      <td>LNkZI3CQ1pohUwU8rwYUWg..</td>\n",
       "      <td>www.facebook.com</td>\n",
       "      <td>1</td>\n",
       "    </tr>\n",
       "    <tr>\n",
       "      <td>69825</td>\n",
       "      <td>2019-03-03</td>\n",
       "      <td>zzVDNzCUa-3m_C-lx7rR2Q..</td>\n",
       "      <td>www.facebook.com</td>\n",
       "      <td>1</td>\n",
       "    </tr>\n",
       "  </tbody>\n",
       "</table>\n",
       "<p>18168 rows × 4 columns</p>\n",
       "</div>"
      ],
      "text/plain": [
       "             date                        id            domain  Freq\n",
       "8206   2019-02-25  oXemO8UBCPyIGpcQvrRKVA..  www.facebook.com     3\n",
       "59431  2019-03-02  xGSCgwtyAIJLndfkMO32jw..    m.facebook.com     2\n",
       "61060  2019-03-03  6Qt99PP4WAh8GobWcEbkkg..  www.facebook.com     2\n",
       "60835  2019-03-03  4yqnrLkjLQJPhHwr-dc8pQ..  www.facebook.com     2\n",
       "42506  2019-03-01  FefDTGpARZLX_lsidWsE9g..  www.facebook.com     2\n",
       "...           ...                       ...               ...   ...\n",
       "23485  2019-02-27  LK1NXlv3jDuox_2rXjzKMQ..  www.facebook.com     1\n",
       "23487  2019-02-27  LKntlRkftvx7r_eOD2Psgw..  www.facebook.com     1\n",
       "23491  2019-02-27  LMIcrz602KSRDSgg00EBJA..  www.facebook.com     1\n",
       "23493  2019-02-27  LNkZI3CQ1pohUwU8rwYUWg..  www.facebook.com     1\n",
       "69825  2019-03-03  zzVDNzCUa-3m_C-lx7rR2Q..  www.facebook.com     1\n",
       "\n",
       "[18168 rows x 4 columns]"
      ]
     },
     "execution_count": 15,
     "metadata": {},
     "output_type": "execute_result"
    }
   ],
   "source": [
    "Face_Daily .sort_values('Freq',ascending=False)"
   ]
  },
  {
   "cell_type": "code",
   "execution_count": 16,
   "metadata": {},
   "outputs": [],
   "source": [
    "Face_DAU = Face_Daily.groupby([\"date\"]).size().reset_index(name=\"Freq\")"
   ]
  },
  {
   "cell_type": "code",
   "execution_count": 17,
   "metadata": {},
   "outputs": [
    {
     "data": {
      "text/html": [
       "<div>\n",
       "<style scoped>\n",
       "    .dataframe tbody tr th:only-of-type {\n",
       "        vertical-align: middle;\n",
       "    }\n",
       "\n",
       "    .dataframe tbody tr th {\n",
       "        vertical-align: top;\n",
       "    }\n",
       "\n",
       "    .dataframe thead th {\n",
       "        text-align: right;\n",
       "    }\n",
       "</style>\n",
       "<table border=\"1\" class=\"dataframe\">\n",
       "  <thead>\n",
       "    <tr style=\"text-align: right;\">\n",
       "      <th></th>\n",
       "      <th>date</th>\n",
       "      <th>Freq</th>\n",
       "    </tr>\n",
       "  </thead>\n",
       "  <tbody>\n",
       "    <tr>\n",
       "      <td>0</td>\n",
       "      <td>2019-02-25</td>\n",
       "      <td>2609</td>\n",
       "    </tr>\n",
       "    <tr>\n",
       "      <td>1</td>\n",
       "      <td>2019-02-26</td>\n",
       "      <td>2541</td>\n",
       "    </tr>\n",
       "    <tr>\n",
       "      <td>2</td>\n",
       "      <td>2019-02-27</td>\n",
       "      <td>2607</td>\n",
       "    </tr>\n",
       "    <tr>\n",
       "      <td>3</td>\n",
       "      <td>2019-02-28</td>\n",
       "      <td>2408</td>\n",
       "    </tr>\n",
       "    <tr>\n",
       "      <td>4</td>\n",
       "      <td>2019-03-01</td>\n",
       "      <td>2615</td>\n",
       "    </tr>\n",
       "    <tr>\n",
       "      <td>5</td>\n",
       "      <td>2019-03-02</td>\n",
       "      <td>2688</td>\n",
       "    </tr>\n",
       "    <tr>\n",
       "      <td>6</td>\n",
       "      <td>2019-03-03</td>\n",
       "      <td>2700</td>\n",
       "    </tr>\n",
       "  </tbody>\n",
       "</table>\n",
       "</div>"
      ],
      "text/plain": [
       "         date  Freq\n",
       "0  2019-02-25  2609\n",
       "1  2019-02-26  2541\n",
       "2  2019-02-27  2607\n",
       "3  2019-02-28  2408\n",
       "4  2019-03-01  2615\n",
       "5  2019-03-02  2688\n",
       "6  2019-03-03  2700"
      ]
     },
     "execution_count": 17,
     "metadata": {},
     "output_type": "execute_result"
    }
   ],
   "source": [
    "Face_DAU"
   ]
  },
  {
   "cell_type": "markdown",
   "metadata": {},
   "source": [
    "# 3) Traffic Distribution by hours"
   ]
  },
  {
   "cell_type": "code",
   "execution_count": 18,
   "metadata": {},
   "outputs": [],
   "source": [
    "Customer_new['hour'] = pd.to_datetime(Customer_new['time'])"
   ]
  },
  {
   "cell_type": "code",
   "execution_count": 19,
   "metadata": {},
   "outputs": [
    {
     "data": {
      "text/plain": [
       "0       2020-10-23 12:53:01\n",
       "1       2020-10-23 11:58:01\n",
       "2       2020-10-23 14:29:01\n",
       "3       2020-10-23 20:52:01\n",
       "4       2020-10-23 00:58:01\n",
       "                ...        \n",
       "69995   2020-10-23 17:56:01\n",
       "69996   2020-10-23 19:40:01\n",
       "69997   2020-10-23 12:04:01\n",
       "69998   2020-10-23 00:54:01\n",
       "69999   2020-10-23 21:44:02\n",
       "Name: time, Length: 70000, dtype: datetime64[ns]"
      ]
     },
     "execution_count": 19,
     "metadata": {},
     "output_type": "execute_result"
    }
   ],
   "source": [
    "pd.to_datetime(Customer_new['time'])"
   ]
  },
  {
   "cell_type": "code",
   "execution_count": 20,
   "metadata": {},
   "outputs": [
    {
     "data": {
      "text/html": [
       "<div>\n",
       "<style scoped>\n",
       "    .dataframe tbody tr th:only-of-type {\n",
       "        vertical-align: middle;\n",
       "    }\n",
       "\n",
       "    .dataframe tbody tr th {\n",
       "        vertical-align: top;\n",
       "    }\n",
       "\n",
       "    .dataframe thead th {\n",
       "        text-align: right;\n",
       "    }\n",
       "</style>\n",
       "<table border=\"1\" class=\"dataframe\">\n",
       "  <thead>\n",
       "    <tr style=\"text-align: right;\">\n",
       "      <th></th>\n",
       "      <th>date</th>\n",
       "      <th>time</th>\n",
       "      <th>id</th>\n",
       "      <th>domain</th>\n",
       "      <th>DateTime</th>\n",
       "      <th>hour</th>\n",
       "    </tr>\n",
       "  </thead>\n",
       "  <tbody>\n",
       "    <tr>\n",
       "      <td>0</td>\n",
       "      <td>2019-02-25</td>\n",
       "      <td>12:53:01</td>\n",
       "      <td>a37agOUtUEQiyagcdU2TAA..</td>\n",
       "      <td>youtube.com</td>\n",
       "      <td>2019-02-25 12:53:01</td>\n",
       "      <td>2020-10-23 12:53:01</td>\n",
       "    </tr>\n",
       "    <tr>\n",
       "      <td>1</td>\n",
       "      <td>2019-02-25</td>\n",
       "      <td>11:58:01</td>\n",
       "      <td>5wGdzKx3Kf4WK0gNfwZPpw..</td>\n",
       "      <td>www.google.com</td>\n",
       "      <td>2019-02-25 11:58:01</td>\n",
       "      <td>2020-10-23 11:58:01</td>\n",
       "    </tr>\n",
       "    <tr>\n",
       "      <td>2</td>\n",
       "      <td>2019-02-25</td>\n",
       "      <td>14:29:01</td>\n",
       "      <td>ZoVXA0kss3EZXHWxv96EXA..</td>\n",
       "      <td>trangtraiviet.vn</td>\n",
       "      <td>2019-02-25 14:29:01</td>\n",
       "      <td>2020-10-23 14:29:01</td>\n",
       "    </tr>\n",
       "    <tr>\n",
       "      <td>3</td>\n",
       "      <td>2019-02-25</td>\n",
       "      <td>20:52:01</td>\n",
       "      <td>SE5aS0u9gRYDV76kCwilXQ..</td>\n",
       "      <td>vn.yahoo.com</td>\n",
       "      <td>2019-02-25 20:52:01</td>\n",
       "      <td>2020-10-23 20:52:01</td>\n",
       "    </tr>\n",
       "    <tr>\n",
       "      <td>4</td>\n",
       "      <td>2019-02-25</td>\n",
       "      <td>00:58:01</td>\n",
       "      <td>EGYc8cXe6GVDH3qp-qnPSQ..</td>\n",
       "      <td>www.youtube.com</td>\n",
       "      <td>2019-02-25 00:58:01</td>\n",
       "      <td>2020-10-23 00:58:01</td>\n",
       "    </tr>\n",
       "    <tr>\n",
       "      <td>...</td>\n",
       "      <td>...</td>\n",
       "      <td>...</td>\n",
       "      <td>...</td>\n",
       "      <td>...</td>\n",
       "      <td>...</td>\n",
       "      <td>...</td>\n",
       "    </tr>\n",
       "    <tr>\n",
       "      <td>69995</td>\n",
       "      <td>2019-03-03</td>\n",
       "      <td>17:56:01</td>\n",
       "      <td>ep7D0dpRFjKYLV8WNv4qhA..</td>\n",
       "      <td>www.google.com</td>\n",
       "      <td>2019-03-03 17:56:01</td>\n",
       "      <td>2020-10-23 17:56:01</td>\n",
       "    </tr>\n",
       "    <tr>\n",
       "      <td>69996</td>\n",
       "      <td>2019-03-03</td>\n",
       "      <td>19:40:01</td>\n",
       "      <td>YczVvu-ZARiSFPMCpY4R2g..</td>\n",
       "      <td>www.googleadservices.com</td>\n",
       "      <td>2019-03-03 19:40:01</td>\n",
       "      <td>2020-10-23 19:40:01</td>\n",
       "    </tr>\n",
       "    <tr>\n",
       "      <td>69997</td>\n",
       "      <td>2019-03-03</td>\n",
       "      <td>12:04:01</td>\n",
       "      <td>tmmVRJwUubpbs649mEVuLA..</td>\n",
       "      <td>www.youtube.com</td>\n",
       "      <td>2019-03-03 12:04:01</td>\n",
       "      <td>2020-10-23 12:04:01</td>\n",
       "    </tr>\n",
       "    <tr>\n",
       "      <td>69998</td>\n",
       "      <td>2019-03-03</td>\n",
       "      <td>00:54:01</td>\n",
       "      <td>3T3iWxyAllzLH1Tu-ezJUg..</td>\n",
       "      <td>www.facebook.com</td>\n",
       "      <td>2019-03-03 00:54:01</td>\n",
       "      <td>2020-10-23 00:54:01</td>\n",
       "    </tr>\n",
       "    <tr>\n",
       "      <td>69999</td>\n",
       "      <td>2019-03-03</td>\n",
       "      <td>21:44:02</td>\n",
       "      <td>LAOi3msaeoIJ67MNoTaF3A..</td>\n",
       "      <td>www.youtube.com</td>\n",
       "      <td>2019-03-03 21:44:02</td>\n",
       "      <td>2020-10-23 21:44:02</td>\n",
       "    </tr>\n",
       "  </tbody>\n",
       "</table>\n",
       "<p>70000 rows × 6 columns</p>\n",
       "</div>"
      ],
      "text/plain": [
       "             date      time                        id  \\\n",
       "0      2019-02-25  12:53:01  a37agOUtUEQiyagcdU2TAA..   \n",
       "1      2019-02-25  11:58:01  5wGdzKx3Kf4WK0gNfwZPpw..   \n",
       "2      2019-02-25  14:29:01  ZoVXA0kss3EZXHWxv96EXA..   \n",
       "3      2019-02-25  20:52:01  SE5aS0u9gRYDV76kCwilXQ..   \n",
       "4      2019-02-25  00:58:01  EGYc8cXe6GVDH3qp-qnPSQ..   \n",
       "...           ...       ...                       ...   \n",
       "69995  2019-03-03  17:56:01  ep7D0dpRFjKYLV8WNv4qhA..   \n",
       "69996  2019-03-03  19:40:01  YczVvu-ZARiSFPMCpY4R2g..   \n",
       "69997  2019-03-03  12:04:01  tmmVRJwUubpbs649mEVuLA..   \n",
       "69998  2019-03-03  00:54:01  3T3iWxyAllzLH1Tu-ezJUg..   \n",
       "69999  2019-03-03  21:44:02  LAOi3msaeoIJ67MNoTaF3A..   \n",
       "\n",
       "                         domain            DateTime                hour  \n",
       "0                   youtube.com 2019-02-25 12:53:01 2020-10-23 12:53:01  \n",
       "1                www.google.com 2019-02-25 11:58:01 2020-10-23 11:58:01  \n",
       "2              trangtraiviet.vn 2019-02-25 14:29:01 2020-10-23 14:29:01  \n",
       "3                  vn.yahoo.com 2019-02-25 20:52:01 2020-10-23 20:52:01  \n",
       "4               www.youtube.com 2019-02-25 00:58:01 2020-10-23 00:58:01  \n",
       "...                         ...                 ...                 ...  \n",
       "69995            www.google.com 2019-03-03 17:56:01 2020-10-23 17:56:01  \n",
       "69996  www.googleadservices.com 2019-03-03 19:40:01 2020-10-23 19:40:01  \n",
       "69997           www.youtube.com 2019-03-03 12:04:01 2020-10-23 12:04:01  \n",
       "69998          www.facebook.com 2019-03-03 00:54:01 2020-10-23 00:54:01  \n",
       "69999           www.youtube.com 2019-03-03 21:44:02 2020-10-23 21:44:02  \n",
       "\n",
       "[70000 rows x 6 columns]"
      ]
     },
     "execution_count": 20,
     "metadata": {},
     "output_type": "execute_result"
    }
   ],
   "source": [
    "Customer_new"
   ]
  },
  {
   "cell_type": "code",
   "execution_count": 21,
   "metadata": {},
   "outputs": [],
   "source": [
    "Customer_new['hour'] = Customer_new['DateTime'].dt.hour"
   ]
  },
  {
   "cell_type": "code",
   "execution_count": 22,
   "metadata": {},
   "outputs": [],
   "source": [
    "Hour_Trafic = Customer_new.groupby(['hour']).size().reset_index(name=\"Traffic\")"
   ]
  },
  {
   "cell_type": "code",
   "execution_count": 23,
   "metadata": {},
   "outputs": [
    {
     "data": {
      "text/html": [
       "<div>\n",
       "<style scoped>\n",
       "    .dataframe tbody tr th:only-of-type {\n",
       "        vertical-align: middle;\n",
       "    }\n",
       "\n",
       "    .dataframe tbody tr th {\n",
       "        vertical-align: top;\n",
       "    }\n",
       "\n",
       "    .dataframe thead th {\n",
       "        text-align: right;\n",
       "    }\n",
       "</style>\n",
       "<table border=\"1\" class=\"dataframe\">\n",
       "  <thead>\n",
       "    <tr style=\"text-align: right;\">\n",
       "      <th></th>\n",
       "      <th>hour</th>\n",
       "      <th>Traffic</th>\n",
       "    </tr>\n",
       "  </thead>\n",
       "  <tbody>\n",
       "    <tr>\n",
       "      <td>20</td>\n",
       "      <td>20</td>\n",
       "      <td>5514</td>\n",
       "    </tr>\n",
       "    <tr>\n",
       "      <td>21</td>\n",
       "      <td>21</td>\n",
       "      <td>5128</td>\n",
       "    </tr>\n",
       "    <tr>\n",
       "      <td>15</td>\n",
       "      <td>15</td>\n",
       "      <td>4613</td>\n",
       "    </tr>\n",
       "    <tr>\n",
       "      <td>14</td>\n",
       "      <td>14</td>\n",
       "      <td>4446</td>\n",
       "    </tr>\n",
       "    <tr>\n",
       "      <td>19</td>\n",
       "      <td>19</td>\n",
       "      <td>4349</td>\n",
       "    </tr>\n",
       "    <tr>\n",
       "      <td>10</td>\n",
       "      <td>10</td>\n",
       "      <td>4313</td>\n",
       "    </tr>\n",
       "    <tr>\n",
       "      <td>16</td>\n",
       "      <td>16</td>\n",
       "      <td>4183</td>\n",
       "    </tr>\n",
       "    <tr>\n",
       "      <td>9</td>\n",
       "      <td>9</td>\n",
       "      <td>4095</td>\n",
       "    </tr>\n",
       "    <tr>\n",
       "      <td>11</td>\n",
       "      <td>11</td>\n",
       "      <td>4038</td>\n",
       "    </tr>\n",
       "    <tr>\n",
       "      <td>22</td>\n",
       "      <td>22</td>\n",
       "      <td>3775</td>\n",
       "    </tr>\n",
       "    <tr>\n",
       "      <td>12</td>\n",
       "      <td>12</td>\n",
       "      <td>3757</td>\n",
       "    </tr>\n",
       "    <tr>\n",
       "      <td>13</td>\n",
       "      <td>13</td>\n",
       "      <td>3728</td>\n",
       "    </tr>\n",
       "    <tr>\n",
       "      <td>18</td>\n",
       "      <td>18</td>\n",
       "      <td>3618</td>\n",
       "    </tr>\n",
       "    <tr>\n",
       "      <td>17</td>\n",
       "      <td>17</td>\n",
       "      <td>3565</td>\n",
       "    </tr>\n",
       "    <tr>\n",
       "      <td>8</td>\n",
       "      <td>8</td>\n",
       "      <td>3206</td>\n",
       "    </tr>\n",
       "    <tr>\n",
       "      <td>23</td>\n",
       "      <td>23</td>\n",
       "      <td>2207</td>\n",
       "    </tr>\n",
       "    <tr>\n",
       "      <td>7</td>\n",
       "      <td>7</td>\n",
       "      <td>1642</td>\n",
       "    </tr>\n",
       "    <tr>\n",
       "      <td>0</td>\n",
       "      <td>0</td>\n",
       "      <td>1173</td>\n",
       "    </tr>\n",
       "    <tr>\n",
       "      <td>6</td>\n",
       "      <td>6</td>\n",
       "      <td>644</td>\n",
       "    </tr>\n",
       "    <tr>\n",
       "      <td>1</td>\n",
       "      <td>1</td>\n",
       "      <td>641</td>\n",
       "    </tr>\n",
       "    <tr>\n",
       "      <td>5</td>\n",
       "      <td>5</td>\n",
       "      <td>437</td>\n",
       "    </tr>\n",
       "    <tr>\n",
       "      <td>2</td>\n",
       "      <td>2</td>\n",
       "      <td>394</td>\n",
       "    </tr>\n",
       "    <tr>\n",
       "      <td>3</td>\n",
       "      <td>3</td>\n",
       "      <td>274</td>\n",
       "    </tr>\n",
       "    <tr>\n",
       "      <td>4</td>\n",
       "      <td>4</td>\n",
       "      <td>260</td>\n",
       "    </tr>\n",
       "  </tbody>\n",
       "</table>\n",
       "</div>"
      ],
      "text/plain": [
       "    hour  Traffic\n",
       "20    20     5514\n",
       "21    21     5128\n",
       "15    15     4613\n",
       "14    14     4446\n",
       "19    19     4349\n",
       "10    10     4313\n",
       "16    16     4183\n",
       "9      9     4095\n",
       "11    11     4038\n",
       "22    22     3775\n",
       "12    12     3757\n",
       "13    13     3728\n",
       "18    18     3618\n",
       "17    17     3565\n",
       "8      8     3206\n",
       "23    23     2207\n",
       "7      7     1642\n",
       "0      0     1173\n",
       "6      6      644\n",
       "1      1      641\n",
       "5      5      437\n",
       "2      2      394\n",
       "3      3      274\n",
       "4      4      260"
      ]
     },
     "execution_count": 23,
     "metadata": {},
     "output_type": "execute_result"
    }
   ],
   "source": [
    "Hour_Trafic.sort_values('Traffic', ascending=False)"
   ]
  },
  {
   "cell_type": "code",
   "execution_count": 30,
   "metadata": {},
   "outputs": [
    {
     "data": {
      "text/plain": [
       "<matplotlib.axes._subplots.AxesSubplot at 0x7f9b906bea10>"
      ]
     },
     "execution_count": 30,
     "metadata": {},
     "output_type": "execute_result"
    },
    {
     "data": {
      "image/png": "[encoded data removed]",
      "text/plain": [
       "<Figure size 432x288 with 1 Axes>"
      ]
     },
     "metadata": {
      "needs_background": "light"
     },
     "output_type": "display_data"
    }
   ],
   "source": [
    "Hour_Trafic.plot.bar()"
   ]
  },
  {
   "cell_type": "markdown",
   "metadata": {},
   "source": [
    "# 4) Top 10 domains by traffic."
   ]
  },
  {
   "cell_type": "code",
   "execution_count": 26,
   "metadata": {},
   "outputs": [],
   "source": [
    "Domain_Trafic = Customer_new.groupby(['domain']).size().reset_index(name=\"Traffic\")"
   ]
  },
  {
   "cell_type": "code",
   "execution_count": 27,
   "metadata": {},
   "outputs": [
    {
     "data": {
      "text/html": [
       "<div>\n",
       "<style scoped>\n",
       "    .dataframe tbody tr th:only-of-type {\n",
       "        vertical-align: middle;\n",
       "    }\n",
       "\n",
       "    .dataframe tbody tr th {\n",
       "        vertical-align: top;\n",
       "    }\n",
       "\n",
       "    .dataframe thead th {\n",
       "        text-align: right;\n",
       "    }\n",
       "</style>\n",
       "<table border=\"1\" class=\"dataframe\">\n",
       "  <thead>\n",
       "    <tr style=\"text-align: right;\">\n",
       "      <th></th>\n",
       "      <th>domain</th>\n",
       "      <th>Traffic</th>\n",
       "    </tr>\n",
       "  </thead>\n",
       "  <tbody>\n",
       "    <tr>\n",
       "      <td>5321</td>\n",
       "      <td>www.facebook.com</td>\n",
       "      <td>17403</td>\n",
       "    </tr>\n",
       "    <tr>\n",
       "      <td>6153</td>\n",
       "      <td>www.youtube.com</td>\n",
       "      <td>13648</td>\n",
       "    </tr>\n",
       "    <tr>\n",
       "      <td>959</td>\n",
       "      <td>coccoc.com</td>\n",
       "      <td>6177</td>\n",
       "    </tr>\n",
       "    <tr>\n",
       "      <td>5394</td>\n",
       "      <td>www.google.com</td>\n",
       "      <td>3657</td>\n",
       "    </tr>\n",
       "    <tr>\n",
       "      <td>2663</td>\n",
       "      <td>mail.google.com</td>\n",
       "      <td>2250</td>\n",
       "    </tr>\n",
       "    <tr>\n",
       "      <td>5399</td>\n",
       "      <td>www.google.com.vn</td>\n",
       "      <td>1516</td>\n",
       "    </tr>\n",
       "    <tr>\n",
       "      <td>4423</td>\n",
       "      <td>translate.google.com</td>\n",
       "      <td>1074</td>\n",
       "    </tr>\n",
       "    <tr>\n",
       "      <td>299</td>\n",
       "      <td>accounts.google.com</td>\n",
       "      <td>776</td>\n",
       "    </tr>\n",
       "    <tr>\n",
       "      <td>4424</td>\n",
       "      <td>translate.google.com.vn</td>\n",
       "      <td>773</td>\n",
       "    </tr>\n",
       "  </tbody>\n",
       "</table>\n",
       "</div>"
      ],
      "text/plain": [
       "                       domain  Traffic\n",
       "5321         www.facebook.com    17403\n",
       "6153          www.youtube.com    13648\n",
       "959                coccoc.com     6177\n",
       "5394           www.google.com     3657\n",
       "2663          mail.google.com     2250\n",
       "5399        www.google.com.vn     1516\n",
       "4423     translate.google.com     1074\n",
       "299       accounts.google.com      776\n",
       "4424  translate.google.com.vn      773"
      ]
     },
     "execution_count": 27,
     "metadata": {},
     "output_type": "execute_result"
    }
   ],
   "source": [
    "Domain_Trafic.sort_values('Traffic', ascending=False)[0:9]"
   ]
  },
  {
   "cell_type": "code",
   "execution_count": 34,
   "metadata": {},
   "outputs": [
    {
     "data": {
      "text/plain": [
       "<matplotlib.axes._subplots.AxesSubplot at 0x7f9b74ba4d50>"
      ]
     },
     "execution_count": 34,
     "metadata": {},
     "output_type": "execute_result"
    },
    {
     "data": {
      "image/png": "[encoded data removed]",
      "text/plain": [
       "<Figure size 432x288 with 1 Axes>"
      ]
     },
     "metadata": {
      "needs_background": "light"
     },
     "output_type": "display_data"
    }
   ],
   "source": [
    "Domain_Trafic.sort_values('Traffic', ascending=False)[0:9].plot.bar(\"domain\")"
   ]
  },
  {
   "cell_type": "code",
   "execution_count": null,
   "metadata": {},
   "outputs": [],
   "source": []
  }
 ],
 "metadata": {
  "kernelspec": {
   "display_name": "Python 3",
   "language": "python",
   "name": "python3"
  },
  "language_info": {
   "codemirror_mode": {
    "name": "ipython",
    "version": 3
   },
   "file_extension": ".py",
   "mimetype": "text/x-python",
   "name": "python",
   "nbconvert_exporter": "python",
   "pygments_lexer": "ipython3",
   "version": "3.7.8"
  }
 },
 "nbformat": 4,
 "nbformat_minor": 2
}