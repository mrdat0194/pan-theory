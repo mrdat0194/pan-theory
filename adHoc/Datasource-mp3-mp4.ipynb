{
 "cells": [
  {
   "cell_type": "code",
   "execution_count": 1,
   "outputs": [],
   "source": [
    "import json\n",
    "from main_def import config_sql\n",
    "def extract_json(table, Json_field, method_number):\n",
    "    config_file = config_sql\n",
    "    with open(config_file) as json_data_file:\n",
    "        config = json.load(json_data_file)\n",
    "\n",
    "    if config.get('mysql', False):\n",
    "        mysql_config = config['mysql']\n",
    "        mydb = mysql.connector.connect(\n",
    "            host=mysql_config['host'],\n",
    "            user=mysql_config['user'],\n",
    "            password=mysql_config['password'],\n",
    "            database=mysql_config['database'],\n",
    "            port=mysql_config['port']\n",
    "        )\n",
    "    mycursor = mydb.cursor()\n",
    "    if method_number == 1:\n",
    "        Select_distinct_name = f\"SELECT id, JSON_KEYS({Json_field}) from {table} WHERE {Json_field} is not NULL AND valid = 1 GROUP BY JSON_KEYS({Json_field});\"\n",
    "        mycursor.execute(Select_distinct_name)\n",
    "        result = mycursor.fetchall()\n",
    "        return result\n",
    "    else:\n",
    "        Select_distinct_name = f\"\"\"select distinct(json_extract(json_keys({Json_field}),'$[0]')) from {table}\n",
    "               union\n",
    "               select distinct(json_extract(json_keys({Json_field}),'$[1]')) from {table}\n",
    "               union\n",
    "               select distinct(json_extract(json_keys({Json_field}),'$[2]')) from {table}\n",
    "               union\n",
    "               select distinct(json_extract(json_keys({Json_field}),'$[3]')) from {table}\n",
    "               union\n",
    "               select distinct(json_extract(json_keys({Json_field}),'$[4]')) from {table}\n",
    "               union\n",
    "               select distinct(json_extract(json_keys({Json_field}),'$[5]')) from {table}\n",
    "               union\n",
    "               select distinct(json_extract(json_keys({Json_field}),'$[6]')) from {table}\n",
    "               union\n",
    "               select distinct(json_extract(json_keys({Json_field}),'$[7]')) from {table}\n",
    "               union\n",
    "               select distinct(json_extract(json_keys({Json_field}),'$[8]')) from {table}\n",
    "               union\n",
    "               select distinct(json_extract(json_keys({Json_field}),'$[9]')) from {table}\n",
    "               union\n",
    "               select distinct(json_extract(json_keys({Json_field}),'$[10]')) from {table}\n",
    "               union\n",
    "               select distinct(json_extract(json_keys({Json_field}),'$[11]')) from {table}\n",
    "               union\n",
    "               select distinct(json_extract(json_keys({Json_field}),'$[12]')) from {table}\n",
    "               union\n",
    "               select distinct(json_extract(json_keys({Json_field}),'$[13]')) from {table};\"\"\"\n",
    "        mycursor.execute(Select_distinct_name)\n",
    "        result = mycursor.fetchall()\n",
    "        # result trả về list of tuples:\n",
    "        old_strings = reduce(lambda x, y: x + y, result)\n",
    "        new_strings = []\n",
    "\n",
    "        for string in old_strings:\n",
    "            if string is not None:\n",
    "                new_string = string.replace('\"', \"\")\n",
    "                new_strings.append(new_string)\n",
    "        return new_strings"
   ],
   "metadata": {
    "collapsed": false,
    "pycharm": {
     "name": "#%%\n"
    }
   }
  },
  {
   "cell_type": "code",
   "execution_count": null,
   "metadata": {
    "pycharm": {
     "is_executing": true
    }
   },
   "outputs": [],
   "source": [
    "result = extract_json(\"crawlingtasks\",\"TaskDetail\",2)\n",
    "print(result)"
   ]
  },
  {
   "cell_type": "code",
   "execution_count": null,
   "outputs": [],
   "source": [],
   "metadata": {
    "collapsed": false,
    "pycharm": {
     "name": "#%%\n",
     "is_executing": true
    }
   }
  }
 ],
 "metadata": {
  "kernelspec": {
   "name": "pycharm-6c872235",
   "language": "python",
   "display_name": "PyCharm (Project)"
  },
  "language_info": {
   "codemirror_mode": "r",
   "file_extension": ".r",
   "mimetype": "text/x-r-source",
   "name": "R",
   "pygments_lexer": "r",
   "version": "3.6.1"
  }
 },
 "nbformat": 4,
 "nbformat_minor": 4
}