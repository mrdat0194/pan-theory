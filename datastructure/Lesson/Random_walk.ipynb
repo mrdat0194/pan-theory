{
 "cells": [
  {
   "cell_type": "markdown",
   "metadata": {},
   "source": [
    "# Generating random walks\n",
    "\n",
    "(Sethna, \"Entropy, Order Parameters, and Complexity\", ex. 2.5)\n",
    "https://www.lassp.cornell.edu/sethna/StatMech/EOPCHintsAndMaterials.html"
   ]
  },
  {
   "cell_type": "markdown",
   "metadata": {},
   "source": [
    "Import packages"
   ]
  },
  {
   "cell_type": "code",
   "execution_count": null,
   "metadata": {
    "collapsed": false
   },
   "outputs": [],
   "source": [
    "from scipy import *"
   ]
  },
  {
   "cell_type": "markdown",
   "metadata": {},
   "source": [
    "One can efficiently generate and analyze random walks on the computer.\n",
    "\n",
    "Write a routine RandomWalk(N,d) to generate an N-step random walk in d dimensions, with each step uniformly distributed in [-1/2,1/2] in each dimension. (Generate the steps first as an $N \\times d$ array, and then do a cumulative sum.)"
   ]
  },
  {
   "cell_type": "code",
   "execution_count": null,
   "metadata": {
    "collapsed": false
   },
   "outputs": [],
   "source": [
    "def RandomWalk(N, d):\n",
    "    \"\"\"\n",
    "    Use random.uniform(min, max, shape) to generate an array of steps of shape (N,d), \n",
    "    and then use cumsum(..., axis=0) (which adds them up along the 'N' axis).\n",
    "    \"\"\"\n",
    "    steps = ...\n",
    "    walks = ...\n",
    "    return walks"
   ]
  },
  {
   "cell_type": "markdown",
   "metadata": {},
   "source": [
    "Plot some one dimensional random walks versus step number, for N=10, 100, and 10000 steps. Does multiplying the number of steps by 100 roughly increase the distance by 10?\n"
   ]
  },
  {
   "cell_type": "code",
   "execution_count": null,
   "metadata": {
    "collapsed": false
   },
   "outputs": [],
   "source": [
    "for i in range(10): \n",
    "    plot(RandomWalk(...,1));\n",
    "figure()\n",
    "for i in range(10):\n",
    "    plot(RandomWalk(...));\n",
    "figure()\n",
    "for i in range(10):\n",
    "    plot(RandomWalk(...));"
   ]
  },
  {
   "cell_type": "markdown",
   "metadata": {},
   "source": [
    "Plot some two-dimensional random walks with N=10000 steps, setting axes(aspect='equal') beforehand to make the x and y scales the same. (Your routine gives $x,y$ pairs, and you want $x$ and $y$ as arrays to plot, so you need to transpose.)"
   ]
  },
  {
   "cell_type": "code",
   "execution_count": null,
   "metadata": {
    "collapsed": false
   },
   "outputs": [],
   "source": [
    "axes(aspect='equal')\n",
    "for i in range(10):\n",
    "    x, y = RandomWalk(...).transpose()\n",
    "    plot(x,y);"
   ]
  },
  {
   "cell_type": "markdown",
   "metadata": {},
   "source": [
    "Each random walk is different and unpredictable, but the <em>ensemble</em> of random walks has elegent, predictable properties.\n",
    "\n",
    "Write a routine Endpoints(W, N, d) that just returns the endpoints of W random walks of N steps each in d dimensions. (No need to use cumsum; just sum. If you generate a 3D array of size (W, N, d), sum over axis=1 to sum over the N steps of each walk."
   ]
  },
  {
   "cell_type": "code",
   "execution_count": null,
   "metadata": {
    "collapsed": false
   },
   "outputs": [],
   "source": [
    "def Endpoints(W, N, d):\n",
    "    steps = ...\n",
    "    return sum(..., axis=...)"
   ]
  },
  {
   "cell_type": "markdown",
   "metadata": {},
   "source": [
    "Plot the endpoints of 10000 random walks of length 10. Then plot the endpoints of 10000 random walks of length 1. Discuss how this illustrates an <em>emergent symmetry</em>"
   ]
  },
  {
   "cell_type": "code",
   "execution_count": null,
   "metadata": {
    "collapsed": false
   },
   "outputs": [],
   "source": [
    "axes(aspect='equal')\n",
    "x, y = Endpoints(...).transpose()\n",
    "plot(x,y,'.')\n",
    "x, y = Endpoints(...).transpose()\n",
    "plot(...)"
   ]
  },
  {
   "cell_type": "markdown",
   "metadata": {},
   "source": [
    "The most useful property of random walks is described by the <em>central limit theorem</em>. The endpoints of an ensemble of N-step random walks with RMS step-size $a$ has a Gaussian or normal distribution as $N\\to\\infty$,\n",
    "$$\\rho(x) = \\frac{1}{\\sqrt{2\\pi} \\sigma} \\exp(-x^2/(2 \\sigma^2)),$$\n",
    "with $\\sigma = \\sqrt{N} a$. \n",
    "\n",
    "Calculate the RMS step-size $a$ for one-dimensional steps uniformly distributed in (-1/2, 1/2). \n",
    "Compare the normalized histogram of 10000 endpoints with a normalized Gaussian of width $\\sigma$ predicted above, for $N = 1$, 2, and 5. How quickly does the Gaussian distribution become a good approximation for random walks?"
   ]
  },
  {
   "cell_type": "code",
   "execution_count": null,
   "metadata": {
    "collapsed": false
   },
   "outputs": [],
   "source": [
    "N = 1\n",
    "hist(Endpoints(...), bins = 50, normed=True);\n",
    "sigma = sqrt(...)\n",
    "x = arange(-3.*sigma, 3.*sigma, 0.1*sigma)\n",
    "gauss = (1./...)*exp(...)\n",
    "plot(x,gauss,'r');"
   ]
  },
  {
   "cell_type": "code",
   "execution_count": null,
   "metadata": {
    "collapsed": false
   },
   "outputs": [],
   "source": [
    "N = 2\n",
    "..."
   ]
  },
  {
   "cell_type": "code",
   "execution_count": null,
   "metadata": {
    "collapsed": false
   },
   "outputs": [],
   "source": [
    "N = 5\n",
    "..."
   ]
  }
 ],
 "metadata": {
  "kernelspec": {
   "display_name": "Python 3",
   "language": "python",
   "name": "python3"
  },
  "language_info": {
   "codemirror_mode": {
    "name": "ipython",
    "version": 3
   },
   "file_extension": ".py",
   "mimetype": "text/x-python",
   "name": "python",
   "nbconvert_exporter": "python",
   "pygments_lexer": "ipython3",
   "version": "3.5.1"
  }
 },
 "nbformat": 4,
 "nbformat_minor": 0
}